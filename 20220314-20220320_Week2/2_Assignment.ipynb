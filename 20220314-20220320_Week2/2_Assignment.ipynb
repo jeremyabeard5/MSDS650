{
 "cells": [
  {
   "cell_type": "markdown",
   "metadata": {},
   "source": [
    "\n",
    "# Week 2 Lab - Calculating Probability and Proportion"
   ]
  },
  {
   "cell_type": "markdown",
   "metadata": {},
   "source": [
    "<img align=\"left\" style=\"padding-right:10px;\" src=\"figures_wk2/sampling_bias.png\" width=400>\n",
    "\n",
    "This week's assignment will give you some practice calculating and interpretting probablity and proportions.\n",
    "\n",
    "**Dataset Name::** flights.csv, airlines.csv, airports.csv (found in the assign_wk2 folder)<br>\n",
    "You really only need the flights.csv to complete the assignment, however, the other two datasets provide some reference info that you might find interesting. \n",
    "\n",
    "Since the original flights dataset has **lots** of missing data, I have provided a cleaned up version for you to use (flights_clean.csv). I have also provided the notebook that I used to clean up the dataset (Clean_Flights_Data). \n",
    "\n",
    "For those of you who wish to try your hand at data cleaning, I have provided a notebook demonstrating data imputation data (Demo_Imputing_Data). You get to decide which version of the dataset you wish to use."
   ]
  },
  {
   "cell_type": "markdown",
   "metadata": {},
   "source": [
    "# Assignment Requirements\n",
    "Here are the requirements for this week's assignment:\n",
    "* Load your choice of dataset (either flights.csv **OR** flights_clean.csv)\n",
    "   - If you are going to clean the dataset yourself, here are some hints:\n",
    "      * Warning!! You are going to need some of the rows/columns with missing values, so don't just throw them away while creating your dataframe\n",
    "      * The column 'ARRIVAL_DELAY' tells you the number of minutes the flight actually arrived verses the scheduled arrival. There are a fair number of missing values for this column, impute (see Demo_Imputing_Data for ideas) this column. Document your approach!\n",
    "      * Hint: A negative number means the flight arrived early.\n",
    "      * Hint: What other columns might you use to fill in this missing data.\n",
    "   - If you are going to start with cleaned_dataset, I encourage you to look at what I did to clean up this data. It will help you going forward   \n",
    "\n",
    "\n",
    "* Provide an analysis of delayed flights based on the airport the flight originated from. Your analysis should answer the following questions.\n",
    "    1) Determine the originaing airport with the largest proportion of flights arriving late to their destination. Do the same for the airport with the smallest proportion. \n",
    "    2) What is the probablity a flight leaving from a given airport will arrive at its destination late?  \n",
    "        * Hint: Calculate the probablity of late arrival at destination for each originating airport.\n",
    "    3) What is the mean and std of late arrival times for both of these airports.\n",
    "        * Based on the mean and std information ONLY, which airport seems like a better choice?\n",
    "    4) Define a question that would utilize Bernoulli's Equation and preform a calculation to support your question.\n",
    "    5) Provide a summary of all the values that you calculated for 3 airports\n",
    "        * Compare the three to each other.\n",
    "        * Which airport would you prefer to fly out of based on your results.\n",
    "     "
   ]
  },
  {
   "cell_type": "markdown",
   "metadata": {},
   "source": [
    "# Deliverables\n",
    "Upload your Jupyter Notebook to the corresponding location in WorldClass. \n",
    "\n",
    "**Note::** Make sure you have clearly indicated each assignment requirement within your notebook."
   ]
  },
  {
   "cell_type": "code",
   "execution_count": null,
   "metadata": {},
   "outputs": [],
   "source": []
  }
 ],
 "metadata": {
  "kernelspec": {
   "display_name": "Python 3 (ipykernel)",
   "language": "python",
   "name": "python3"
  },
  "language_info": {
   "codemirror_mode": {
    "name": "ipython",
    "version": 3
   },
   "file_extension": ".py",
   "mimetype": "text/x-python",
   "name": "python",
   "nbconvert_exporter": "python",
   "pygments_lexer": "ipython3",
   "version": "3.9.7"
  },
  "toc-autonumbering": true
 },
 "nbformat": 4,
 "nbformat_minor": 4
}
