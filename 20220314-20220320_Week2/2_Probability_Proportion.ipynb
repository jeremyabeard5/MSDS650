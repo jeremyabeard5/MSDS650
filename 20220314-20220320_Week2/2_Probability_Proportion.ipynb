{
 "cells": [
  {
   "cell_type": "markdown",
   "metadata": {},
   "source": [
    "# Week 2 -- Probability vs Proportion"
   ]
  },
  {
   "cell_type": "markdown",
   "metadata": {},
   "source": [
    "<img align=\"right\" style=\"padding-right:10px;\" src=\"figures_wk2/question_man.png\" width=150><br>\n",
    "\n",
    "These two statistial terms often get confused in the world of statistics are probability and proportion.\n",
    "\n",
    "><b>Probablity</b> is the likelihood of an event <u><i>occuring</i></u>. <br>\n",
    "<b>Proportion</b> measures the likelihood that an event <u><i>has occurred</i></u>.\n",
    "\n",
    "Let's take a look at a couple of examples to help understand the differences between the two values."
   ]
  },
  {
   "cell_type": "markdown",
   "metadata": {
    "tags": []
   },
   "source": [
    "## Examples of the Difference Between Probability and Proportion"
   ]
  },
  {
   "cell_type": "markdown",
   "metadata": {},
   "source": [
    "### Example 1: Flipping A Coin"
   ]
  },
  {
   "cell_type": "markdown",
   "metadata": {},
   "source": [
    "<img align=\"left\" style=\"padding-right:10px;\" src=\"figures_wk2/coin.png\" width=180>\n",
    "If we flip a fair coin, the probability that it will land on heads is 0.5 or 50%.\n",
    "\n",
    "However, if we flip a fair coin 20 times then we can actually count the proportion of times it landed on heads. For example, perhaps it landed on heads in 60% of the flips.\n",
    "\n",
    "The probability of landing on heads is theoretical, but the proportion of times the coin landed on heads is empirical – we could actually count the proportion."
   ]
  },
  {
   "cell_type": "markdown",
   "metadata": {},
   "source": [
    "### Example 2: Rolling Dice"
   ]
  },
  {
   "cell_type": "markdown",
   "metadata": {},
   "source": [
    "<img align=\"right\" style=\"padding-right:10px;\" src=\"figures_wk2/dice.png\" width=180>\n",
    "\n",
    "If we roll a six-sided die, the probability that it will land on the number “4” is 1/6 or about 16.67%.\n",
    "\n",
    "However, if we roll the die 10 times then we can actually count the proportion of times it landed on 4. For example, perhaps it landed on “4” in 20% of the rolls.\n",
    "\n",
    "The probability of rolling a “4” is theoretical, but the proportion of times the die landed on “4” is empirical – we could actually count the proportion."
   ]
  },
  {
   "cell_type": "markdown",
   "metadata": {},
   "source": [
    "### Example 3: Drawing A Queen From A Deck Of Cards"
   ]
  },
  {
   "cell_type": "markdown",
   "metadata": {},
   "source": [
    "<img align=\"left\" style=\"padding-right:10px;\" src=\"figures_wk2/cards.png\" width=180>\n",
    "\n",
    "In a standard deck of 52 cards, there are 4 Queens. Thus, the probability of choosing a Queen on any random draw is 4/52 = 7.69%.\n",
    "\n",
    "However, if we take a random draw (and replace the card we draw) 50 times, we can actually count the proportion of times we draw a Queen. For example, perhaps we draw a Queen in 10% of the draws.\n",
    "\n",
    "The probability of the choosing a Queen is theoretical, but the proportion of times we actually choose a Queen is empirical – we could actually count the proportion."
   ]
  },
  {
   "cell_type": "markdown",
   "metadata": {},
   "source": [
    "**References:**\n",
    ">Probability vs. Proportion: What’s the Difference? (2021, September 10). Statology. https://www.statology.org/probability-vs-proportion/\n"
   ]
  },
  {
   "cell_type": "markdown",
   "metadata": {},
   "source": [
    "In other words, probability is a measure of uncertainty (a theoretical value), whereas proportion is a measure of certainty (an empirical value). \n",
    "\n",
    "><b>Probability</b> talks about the chances of some event happening <u><i>in the future</i></u>.<br>\n",
    "<b>Proportion</b> describes how often some event actually happened <u><i>in the past</i></u>."
   ]
  },
  {
   "cell_type": "markdown",
   "metadata": {},
   "source": [
    "# Demo: Calculating Proportion"
   ]
  },
  {
   "cell_type": "markdown",
   "metadata": {},
   "source": [
    "<img align=\"left\" style=\"padding-right:10px;\" src=\"figures_wk2/proportion.png\" width=180>\n",
    "\n",
    "To recap, **proportion** describes how oftern a particular event has occurred in the past. Additionally, a proportion is a ratio of the number of events that happened to the number of events that didn't happen.\n",
    "\n",
    "With respect to the diagram to the left, we might want to determine the proportion of dogs within this clinic.\n",
    "\n",
    "$Proportion = \\frac{number \\ of \\ dogs \\ in \\ the \\ clinic}{number \\ of \\ animals \\ in \\ the \\  clinic}$</center>\n"
   ]
  },
  {
   "cell_type": "markdown",
   "metadata": {},
   "source": [
    "Time to try this out with a dataset.  The `card_pulls.csv` contains 10,000 observations of a card being drawn from a standard playing deck. The dataset containd the following information:\n",
    "* **player:** the individual who drew the card for that observation\n",
    "* **value:** the face value on the card drawn\n",
    "* **suit:** the suit of the card drawn\n",
    "* **color:** the color of the card drawn"
   ]
  },
  {
   "cell_type": "code",
   "execution_count": 1,
   "metadata": {},
   "outputs": [],
   "source": [
    "import pandas as pd"
   ]
  },
  {
   "cell_type": "code",
   "execution_count": 2,
   "metadata": {},
   "outputs": [],
   "source": [
    "cards_df = pd.read_csv('data_wk2/card_pulls.csv')"
   ]
  },
  {
   "cell_type": "code",
   "execution_count": 3,
   "metadata": {},
   "outputs": [
    {
     "name": "stdout",
     "output_type": "stream",
     "text": [
      "<class 'pandas.core.frame.DataFrame'>\n",
      "RangeIndex: 10000 entries, 0 to 9999\n",
      "Data columns (total 4 columns):\n",
      " #   Column  Non-Null Count  Dtype \n",
      "---  ------  --------------  ----- \n",
      " 0   player  10000 non-null  int64 \n",
      " 1   value   10000 non-null  object\n",
      " 2   suit    10000 non-null  object\n",
      " 3   color   10000 non-null  object\n",
      "dtypes: int64(1), object(3)\n",
      "memory usage: 312.6+ KB\n"
     ]
    }
   ],
   "source": [
    "cards_df.info()"
   ]
  },
  {
   "cell_type": "code",
   "execution_count": 4,
   "metadata": {},
   "outputs": [
    {
     "data": {
      "text/html": [
       "<div>\n",
       "<style scoped>\n",
       "    .dataframe tbody tr th:only-of-type {\n",
       "        vertical-align: middle;\n",
       "    }\n",
       "\n",
       "    .dataframe tbody tr th {\n",
       "        vertical-align: top;\n",
       "    }\n",
       "\n",
       "    .dataframe thead th {\n",
       "        text-align: right;\n",
       "    }\n",
       "</style>\n",
       "<table border=\"1\" class=\"dataframe\">\n",
       "  <thead>\n",
       "    <tr style=\"text-align: right;\">\n",
       "      <th></th>\n",
       "      <th>player</th>\n",
       "      <th>value</th>\n",
       "      <th>suit</th>\n",
       "      <th>color</th>\n",
       "    </tr>\n",
       "  </thead>\n",
       "  <tbody>\n",
       "    <tr>\n",
       "      <th>0</th>\n",
       "      <td>8</td>\n",
       "      <td>7</td>\n",
       "      <td>club</td>\n",
       "      <td>black</td>\n",
       "    </tr>\n",
       "    <tr>\n",
       "      <th>1</th>\n",
       "      <td>2</td>\n",
       "      <td>6</td>\n",
       "      <td>club</td>\n",
       "      <td>black</td>\n",
       "    </tr>\n",
       "    <tr>\n",
       "      <th>2</th>\n",
       "      <td>3</td>\n",
       "      <td>5</td>\n",
       "      <td>heart</td>\n",
       "      <td>red</td>\n",
       "    </tr>\n",
       "    <tr>\n",
       "      <th>3</th>\n",
       "      <td>2</td>\n",
       "      <td>A</td>\n",
       "      <td>spade</td>\n",
       "      <td>black</td>\n",
       "    </tr>\n",
       "    <tr>\n",
       "      <th>4</th>\n",
       "      <td>10</td>\n",
       "      <td>2</td>\n",
       "      <td>club</td>\n",
       "      <td>black</td>\n",
       "    </tr>\n",
       "    <tr>\n",
       "      <th>5</th>\n",
       "      <td>10</td>\n",
       "      <td>10</td>\n",
       "      <td>heart</td>\n",
       "      <td>red</td>\n",
       "    </tr>\n",
       "    <tr>\n",
       "      <th>6</th>\n",
       "      <td>6</td>\n",
       "      <td>3</td>\n",
       "      <td>spade</td>\n",
       "      <td>black</td>\n",
       "    </tr>\n",
       "    <tr>\n",
       "      <th>7</th>\n",
       "      <td>6</td>\n",
       "      <td>5</td>\n",
       "      <td>club</td>\n",
       "      <td>black</td>\n",
       "    </tr>\n",
       "    <tr>\n",
       "      <th>8</th>\n",
       "      <td>6</td>\n",
       "      <td>2</td>\n",
       "      <td>heart</td>\n",
       "      <td>red</td>\n",
       "    </tr>\n",
       "    <tr>\n",
       "      <th>9</th>\n",
       "      <td>1</td>\n",
       "      <td>Q</td>\n",
       "      <td>heart</td>\n",
       "      <td>red</td>\n",
       "    </tr>\n",
       "  </tbody>\n",
       "</table>\n",
       "</div>"
      ],
      "text/plain": [
       "   player value   suit  color\n",
       "0       8     7   club  black\n",
       "1       2     6   club  black\n",
       "2       3     5  heart    red\n",
       "3       2     A  spade  black\n",
       "4      10     2   club  black\n",
       "5      10    10  heart    red\n",
       "6       6     3  spade  black\n",
       "7       6     5   club  black\n",
       "8       6     2  heart    red\n",
       "9       1     Q  heart    red"
      ]
     },
     "execution_count": 4,
     "metadata": {},
     "output_type": "execute_result"
    }
   ],
   "source": [
    "cards_df.head(10)"
   ]
  },
  {
   "cell_type": "markdown",
   "metadata": {},
   "source": [
    "Let's say we want to determine the proportion of red cards that were pulled. \n",
    "\n",
    "To caluculate this, we need to determine the number of red cards that were drawn and then divide by the total number of cards drawn."
   ]
  },
  {
   "cell_type": "code",
   "execution_count": 5,
   "metadata": {},
   "outputs": [
    {
     "data": {
      "text/plain": [
       "color\n",
       "black    5051\n",
       "red      4949\n",
       "dtype: int64"
      ]
     },
     "execution_count": 5,
     "metadata": {},
     "output_type": "execute_result"
    }
   ],
   "source": [
    "cards_df.groupby('color').size()"
   ]
  },
  {
   "cell_type": "markdown",
   "metadata": {},
   "source": [
    "This is a great start, but we only want the number of red cards."
   ]
  },
  {
   "cell_type": "code",
   "execution_count": 6,
   "metadata": {},
   "outputs": [],
   "source": [
    "red_cards = cards_df.groupby('color').size()[1]"
   ]
  },
  {
   "cell_type": "code",
   "execution_count": 7,
   "metadata": {},
   "outputs": [
    {
     "data": {
      "text/plain": [
       "10000"
      ]
     },
     "execution_count": 7,
     "metadata": {},
     "output_type": "execute_result"
    }
   ],
   "source": [
    "total_cards = cards_df.shape[0]\n",
    "total_cards"
   ]
  },
  {
   "cell_type": "code",
   "execution_count": 8,
   "metadata": {},
   "outputs": [
    {
     "data": {
      "text/plain": [
       "0.4949"
      ]
     },
     "execution_count": 8,
     "metadata": {},
     "output_type": "execute_result"
    }
   ],
   "source": [
    "prop_red = red_cards/total_cards\n",
    "prop_red"
   ]
  },
  {
   "cell_type": "markdown",
   "metadata": {},
   "source": [
    "So, this tells us that the proportion of red cards within the dataset is 49.49%.\n",
    "\n",
    "Let's dig a little deeper and look at the proportion of red cards drawn by each player. For this, we are going to do things a little bit different. We are going to add a column with a boolean value as to whether the card drawn is red or not. "
   ]
  },
  {
   "cell_type": "code",
   "execution_count": 9,
   "metadata": {},
   "outputs": [],
   "source": [
    "cards_df['red_drawn'] = cards_df.color.apply(lambda x: x == 'red')"
   ]
  },
  {
   "cell_type": "code",
   "execution_count": 10,
   "metadata": {},
   "outputs": [
    {
     "data": {
      "text/html": [
       "<div>\n",
       "<style scoped>\n",
       "    .dataframe tbody tr th:only-of-type {\n",
       "        vertical-align: middle;\n",
       "    }\n",
       "\n",
       "    .dataframe tbody tr th {\n",
       "        vertical-align: top;\n",
       "    }\n",
       "\n",
       "    .dataframe thead th {\n",
       "        text-align: right;\n",
       "    }\n",
       "</style>\n",
       "<table border=\"1\" class=\"dataframe\">\n",
       "  <thead>\n",
       "    <tr style=\"text-align: right;\">\n",
       "      <th></th>\n",
       "      <th>player</th>\n",
       "      <th>value</th>\n",
       "      <th>suit</th>\n",
       "      <th>color</th>\n",
       "      <th>red_drawn</th>\n",
       "    </tr>\n",
       "  </thead>\n",
       "  <tbody>\n",
       "    <tr>\n",
       "      <th>0</th>\n",
       "      <td>8</td>\n",
       "      <td>7</td>\n",
       "      <td>club</td>\n",
       "      <td>black</td>\n",
       "      <td>False</td>\n",
       "    </tr>\n",
       "    <tr>\n",
       "      <th>1</th>\n",
       "      <td>2</td>\n",
       "      <td>6</td>\n",
       "      <td>club</td>\n",
       "      <td>black</td>\n",
       "      <td>False</td>\n",
       "    </tr>\n",
       "    <tr>\n",
       "      <th>2</th>\n",
       "      <td>3</td>\n",
       "      <td>5</td>\n",
       "      <td>heart</td>\n",
       "      <td>red</td>\n",
       "      <td>True</td>\n",
       "    </tr>\n",
       "    <tr>\n",
       "      <th>3</th>\n",
       "      <td>2</td>\n",
       "      <td>A</td>\n",
       "      <td>spade</td>\n",
       "      <td>black</td>\n",
       "      <td>False</td>\n",
       "    </tr>\n",
       "    <tr>\n",
       "      <th>4</th>\n",
       "      <td>10</td>\n",
       "      <td>2</td>\n",
       "      <td>club</td>\n",
       "      <td>black</td>\n",
       "      <td>False</td>\n",
       "    </tr>\n",
       "    <tr>\n",
       "      <th>5</th>\n",
       "      <td>10</td>\n",
       "      <td>10</td>\n",
       "      <td>heart</td>\n",
       "      <td>red</td>\n",
       "      <td>True</td>\n",
       "    </tr>\n",
       "    <tr>\n",
       "      <th>6</th>\n",
       "      <td>6</td>\n",
       "      <td>3</td>\n",
       "      <td>spade</td>\n",
       "      <td>black</td>\n",
       "      <td>False</td>\n",
       "    </tr>\n",
       "    <tr>\n",
       "      <th>7</th>\n",
       "      <td>6</td>\n",
       "      <td>5</td>\n",
       "      <td>club</td>\n",
       "      <td>black</td>\n",
       "      <td>False</td>\n",
       "    </tr>\n",
       "    <tr>\n",
       "      <th>8</th>\n",
       "      <td>6</td>\n",
       "      <td>2</td>\n",
       "      <td>heart</td>\n",
       "      <td>red</td>\n",
       "      <td>True</td>\n",
       "    </tr>\n",
       "    <tr>\n",
       "      <th>9</th>\n",
       "      <td>1</td>\n",
       "      <td>Q</td>\n",
       "      <td>heart</td>\n",
       "      <td>red</td>\n",
       "      <td>True</td>\n",
       "    </tr>\n",
       "  </tbody>\n",
       "</table>\n",
       "</div>"
      ],
      "text/plain": [
       "   player value   suit  color  red_drawn\n",
       "0       8     7   club  black      False\n",
       "1       2     6   club  black      False\n",
       "2       3     5  heart    red       True\n",
       "3       2     A  spade  black      False\n",
       "4      10     2   club  black      False\n",
       "5      10    10  heart    red       True\n",
       "6       6     3  spade  black      False\n",
       "7       6     5   club  black      False\n",
       "8       6     2  heart    red       True\n",
       "9       1     Q  heart    red       True"
      ]
     },
     "execution_count": 10,
     "metadata": {},
     "output_type": "execute_result"
    }
   ],
   "source": [
    "cards_df.head(10)"
   ]
  },
  {
   "cell_type": "markdown",
   "metadata": {},
   "source": [
    "Trust me, we are making progress.  I'll now group the dataset by person and red_drawn and store that information into a new dataframe."
   ]
  },
  {
   "cell_type": "code",
   "execution_count": 11,
   "metadata": {},
   "outputs": [],
   "source": [
    "red_cards = cards_df.groupby(['player','red_drawn']).size().unstack().reset_index()"
   ]
  },
  {
   "cell_type": "markdown",
   "metadata": {},
   "source": [
    "<div class=\"alert alert-block alert-info\">\n",
    "<b>Couple of new Pandas functions above: What do those commands do?</b>  <br>\n",
    " * unstack(): Creates a new dataframe that represents a pivot table from the columns specified. If multiple columns are used in creating the pivot table, then you will get a multi-level index in the dataframe.<br>\n",
    " * reset_index(): Generally reset_index() will allow you to reset the index of a dataframe to a specific column.  In this case, since unstack() returned a multi-level index, reset_index() flatten the dataframe out to have a single index. \n",
    "</div>"
   ]
  },
  {
   "cell_type": "code",
   "execution_count": 12,
   "metadata": {},
   "outputs": [
    {
     "data": {
      "text/html": [
       "<div>\n",
       "<style scoped>\n",
       "    .dataframe tbody tr th:only-of-type {\n",
       "        vertical-align: middle;\n",
       "    }\n",
       "\n",
       "    .dataframe tbody tr th {\n",
       "        vertical-align: top;\n",
       "    }\n",
       "\n",
       "    .dataframe thead th {\n",
       "        text-align: right;\n",
       "    }\n",
       "</style>\n",
       "<table border=\"1\" class=\"dataframe\">\n",
       "  <thead>\n",
       "    <tr style=\"text-align: right;\">\n",
       "      <th>red_drawn</th>\n",
       "      <th>player</th>\n",
       "      <th>False</th>\n",
       "      <th>True</th>\n",
       "    </tr>\n",
       "  </thead>\n",
       "  <tbody>\n",
       "    <tr>\n",
       "      <th>0</th>\n",
       "      <td>1</td>\n",
       "      <td>501</td>\n",
       "      <td>519</td>\n",
       "    </tr>\n",
       "    <tr>\n",
       "      <th>1</th>\n",
       "      <td>2</td>\n",
       "      <td>503</td>\n",
       "      <td>491</td>\n",
       "    </tr>\n",
       "    <tr>\n",
       "      <th>2</th>\n",
       "      <td>3</td>\n",
       "      <td>526</td>\n",
       "      <td>512</td>\n",
       "    </tr>\n",
       "    <tr>\n",
       "      <th>3</th>\n",
       "      <td>4</td>\n",
       "      <td>487</td>\n",
       "      <td>481</td>\n",
       "    </tr>\n",
       "    <tr>\n",
       "      <th>4</th>\n",
       "      <td>5</td>\n",
       "      <td>538</td>\n",
       "      <td>479</td>\n",
       "    </tr>\n",
       "    <tr>\n",
       "      <th>5</th>\n",
       "      <td>6</td>\n",
       "      <td>495</td>\n",
       "      <td>484</td>\n",
       "    </tr>\n",
       "    <tr>\n",
       "      <th>6</th>\n",
       "      <td>7</td>\n",
       "      <td>485</td>\n",
       "      <td>469</td>\n",
       "    </tr>\n",
       "    <tr>\n",
       "      <th>7</th>\n",
       "      <td>8</td>\n",
       "      <td>492</td>\n",
       "      <td>524</td>\n",
       "    </tr>\n",
       "    <tr>\n",
       "      <th>8</th>\n",
       "      <td>9</td>\n",
       "      <td>504</td>\n",
       "      <td>474</td>\n",
       "    </tr>\n",
       "    <tr>\n",
       "      <th>9</th>\n",
       "      <td>10</td>\n",
       "      <td>520</td>\n",
       "      <td>516</td>\n",
       "    </tr>\n",
       "  </tbody>\n",
       "</table>\n",
       "</div>"
      ],
      "text/plain": [
       "red_drawn  player  False  True\n",
       "0               1    501   519\n",
       "1               2    503   491\n",
       "2               3    526   512\n",
       "3               4    487   481\n",
       "4               5    538   479\n",
       "5               6    495   484\n",
       "6               7    485   469\n",
       "7               8    492   524\n",
       "8               9    504   474\n",
       "9              10    520   516"
      ]
     },
     "execution_count": 12,
     "metadata": {},
     "output_type": "execute_result"
    }
   ],
   "source": [
    "red_cards.head(10)"
   ]
  },
  {
   "cell_type": "markdown",
   "metadata": {},
   "source": [
    "I'm going to cleanup the headers a little bit to help make things clearer."
   ]
  },
  {
   "cell_type": "code",
   "execution_count": 13,
   "metadata": {},
   "outputs": [],
   "source": [
    "# replacing column names with nicer headers\n",
    "cols = ['player','red_no','red_yes']\n",
    "red_cards.columns = cols"
   ]
  },
  {
   "cell_type": "code",
   "execution_count": 14,
   "metadata": {},
   "outputs": [
    {
     "data": {
      "text/html": [
       "<div>\n",
       "<style scoped>\n",
       "    .dataframe tbody tr th:only-of-type {\n",
       "        vertical-align: middle;\n",
       "    }\n",
       "\n",
       "    .dataframe tbody tr th {\n",
       "        vertical-align: top;\n",
       "    }\n",
       "\n",
       "    .dataframe thead th {\n",
       "        text-align: right;\n",
       "    }\n",
       "</style>\n",
       "<table border=\"1\" class=\"dataframe\">\n",
       "  <thead>\n",
       "    <tr style=\"text-align: right;\">\n",
       "      <th></th>\n",
       "      <th>player</th>\n",
       "      <th>red_no</th>\n",
       "      <th>red_yes</th>\n",
       "    </tr>\n",
       "  </thead>\n",
       "  <tbody>\n",
       "    <tr>\n",
       "      <th>0</th>\n",
       "      <td>1</td>\n",
       "      <td>501</td>\n",
       "      <td>519</td>\n",
       "    </tr>\n",
       "    <tr>\n",
       "      <th>1</th>\n",
       "      <td>2</td>\n",
       "      <td>503</td>\n",
       "      <td>491</td>\n",
       "    </tr>\n",
       "    <tr>\n",
       "      <th>2</th>\n",
       "      <td>3</td>\n",
       "      <td>526</td>\n",
       "      <td>512</td>\n",
       "    </tr>\n",
       "    <tr>\n",
       "      <th>3</th>\n",
       "      <td>4</td>\n",
       "      <td>487</td>\n",
       "      <td>481</td>\n",
       "    </tr>\n",
       "    <tr>\n",
       "      <th>4</th>\n",
       "      <td>5</td>\n",
       "      <td>538</td>\n",
       "      <td>479</td>\n",
       "    </tr>\n",
       "    <tr>\n",
       "      <th>5</th>\n",
       "      <td>6</td>\n",
       "      <td>495</td>\n",
       "      <td>484</td>\n",
       "    </tr>\n",
       "    <tr>\n",
       "      <th>6</th>\n",
       "      <td>7</td>\n",
       "      <td>485</td>\n",
       "      <td>469</td>\n",
       "    </tr>\n",
       "    <tr>\n",
       "      <th>7</th>\n",
       "      <td>8</td>\n",
       "      <td>492</td>\n",
       "      <td>524</td>\n",
       "    </tr>\n",
       "    <tr>\n",
       "      <th>8</th>\n",
       "      <td>9</td>\n",
       "      <td>504</td>\n",
       "      <td>474</td>\n",
       "    </tr>\n",
       "    <tr>\n",
       "      <th>9</th>\n",
       "      <td>10</td>\n",
       "      <td>520</td>\n",
       "      <td>516</td>\n",
       "    </tr>\n",
       "  </tbody>\n",
       "</table>\n",
       "</div>"
      ],
      "text/plain": [
       "   player  red_no  red_yes\n",
       "0       1     501      519\n",
       "1       2     503      491\n",
       "2       3     526      512\n",
       "3       4     487      481\n",
       "4       5     538      479\n",
       "5       6     495      484\n",
       "6       7     485      469\n",
       "7       8     492      524\n",
       "8       9     504      474\n",
       "9      10     520      516"
      ]
     },
     "execution_count": 14,
     "metadata": {},
     "output_type": "execute_result"
    }
   ],
   "source": [
    "red_cards.head(10)"
   ]
  },
  {
   "cell_type": "markdown",
   "metadata": {},
   "source": [
    "Since I'm after the proportion of red card drawn by player, I will need to know the total number of cards drawn by each individual player."
   ]
  },
  {
   "cell_type": "code",
   "execution_count": 15,
   "metadata": {},
   "outputs": [
    {
     "data": {
      "text/html": [
       "<div>\n",
       "<style scoped>\n",
       "    .dataframe tbody tr th:only-of-type {\n",
       "        vertical-align: middle;\n",
       "    }\n",
       "\n",
       "    .dataframe tbody tr th {\n",
       "        vertical-align: top;\n",
       "    }\n",
       "\n",
       "    .dataframe thead th {\n",
       "        text-align: right;\n",
       "    }\n",
       "</style>\n",
       "<table border=\"1\" class=\"dataframe\">\n",
       "  <thead>\n",
       "    <tr style=\"text-align: right;\">\n",
       "      <th></th>\n",
       "      <th>player</th>\n",
       "      <th>red_no</th>\n",
       "      <th>red_yes</th>\n",
       "      <th>total_draws</th>\n",
       "    </tr>\n",
       "  </thead>\n",
       "  <tbody>\n",
       "    <tr>\n",
       "      <th>0</th>\n",
       "      <td>1</td>\n",
       "      <td>501</td>\n",
       "      <td>519</td>\n",
       "      <td>1020</td>\n",
       "    </tr>\n",
       "    <tr>\n",
       "      <th>1</th>\n",
       "      <td>2</td>\n",
       "      <td>503</td>\n",
       "      <td>491</td>\n",
       "      <td>994</td>\n",
       "    </tr>\n",
       "    <tr>\n",
       "      <th>2</th>\n",
       "      <td>3</td>\n",
       "      <td>526</td>\n",
       "      <td>512</td>\n",
       "      <td>1038</td>\n",
       "    </tr>\n",
       "    <tr>\n",
       "      <th>3</th>\n",
       "      <td>4</td>\n",
       "      <td>487</td>\n",
       "      <td>481</td>\n",
       "      <td>968</td>\n",
       "    </tr>\n",
       "    <tr>\n",
       "      <th>4</th>\n",
       "      <td>5</td>\n",
       "      <td>538</td>\n",
       "      <td>479</td>\n",
       "      <td>1017</td>\n",
       "    </tr>\n",
       "    <tr>\n",
       "      <th>5</th>\n",
       "      <td>6</td>\n",
       "      <td>495</td>\n",
       "      <td>484</td>\n",
       "      <td>979</td>\n",
       "    </tr>\n",
       "    <tr>\n",
       "      <th>6</th>\n",
       "      <td>7</td>\n",
       "      <td>485</td>\n",
       "      <td>469</td>\n",
       "      <td>954</td>\n",
       "    </tr>\n",
       "    <tr>\n",
       "      <th>7</th>\n",
       "      <td>8</td>\n",
       "      <td>492</td>\n",
       "      <td>524</td>\n",
       "      <td>1016</td>\n",
       "    </tr>\n",
       "    <tr>\n",
       "      <th>8</th>\n",
       "      <td>9</td>\n",
       "      <td>504</td>\n",
       "      <td>474</td>\n",
       "      <td>978</td>\n",
       "    </tr>\n",
       "    <tr>\n",
       "      <th>9</th>\n",
       "      <td>10</td>\n",
       "      <td>520</td>\n",
       "      <td>516</td>\n",
       "      <td>1036</td>\n",
       "    </tr>\n",
       "  </tbody>\n",
       "</table>\n",
       "</div>"
      ],
      "text/plain": [
       "   player  red_no  red_yes  total_draws\n",
       "0       1     501      519         1020\n",
       "1       2     503      491          994\n",
       "2       3     526      512         1038\n",
       "3       4     487      481          968\n",
       "4       5     538      479         1017\n",
       "5       6     495      484          979\n",
       "6       7     485      469          954\n",
       "7       8     492      524         1016\n",
       "8       9     504      474          978\n",
       "9      10     520      516         1036"
      ]
     },
     "execution_count": 15,
     "metadata": {},
     "output_type": "execute_result"
    }
   ],
   "source": [
    "red_cards['total_draws'] = red_cards.red_no + red_cards.red_yes\n",
    "\n",
    "red_cards.head(10)"
   ]
  },
  {
   "cell_type": "markdown",
   "metadata": {},
   "source": [
    "At this point all we have to do is calculate the proportion of red cards drawn for each player."
   ]
  },
  {
   "cell_type": "code",
   "execution_count": 16,
   "metadata": {},
   "outputs": [
    {
     "data": {
      "text/html": [
       "<div>\n",
       "<style scoped>\n",
       "    .dataframe tbody tr th:only-of-type {\n",
       "        vertical-align: middle;\n",
       "    }\n",
       "\n",
       "    .dataframe tbody tr th {\n",
       "        vertical-align: top;\n",
       "    }\n",
       "\n",
       "    .dataframe thead th {\n",
       "        text-align: right;\n",
       "    }\n",
       "</style>\n",
       "<table border=\"1\" class=\"dataframe\">\n",
       "  <thead>\n",
       "    <tr style=\"text-align: right;\">\n",
       "      <th></th>\n",
       "      <th>player</th>\n",
       "      <th>red_no</th>\n",
       "      <th>red_yes</th>\n",
       "      <th>total_draws</th>\n",
       "      <th>red_draw_prop</th>\n",
       "    </tr>\n",
       "  </thead>\n",
       "  <tbody>\n",
       "    <tr>\n",
       "      <th>0</th>\n",
       "      <td>1</td>\n",
       "      <td>501</td>\n",
       "      <td>519</td>\n",
       "      <td>1020</td>\n",
       "      <td>0.508824</td>\n",
       "    </tr>\n",
       "    <tr>\n",
       "      <th>1</th>\n",
       "      <td>2</td>\n",
       "      <td>503</td>\n",
       "      <td>491</td>\n",
       "      <td>994</td>\n",
       "      <td>0.493964</td>\n",
       "    </tr>\n",
       "    <tr>\n",
       "      <th>2</th>\n",
       "      <td>3</td>\n",
       "      <td>526</td>\n",
       "      <td>512</td>\n",
       "      <td>1038</td>\n",
       "      <td>0.493256</td>\n",
       "    </tr>\n",
       "    <tr>\n",
       "      <th>3</th>\n",
       "      <td>4</td>\n",
       "      <td>487</td>\n",
       "      <td>481</td>\n",
       "      <td>968</td>\n",
       "      <td>0.496901</td>\n",
       "    </tr>\n",
       "    <tr>\n",
       "      <th>4</th>\n",
       "      <td>5</td>\n",
       "      <td>538</td>\n",
       "      <td>479</td>\n",
       "      <td>1017</td>\n",
       "      <td>0.470993</td>\n",
       "    </tr>\n",
       "    <tr>\n",
       "      <th>5</th>\n",
       "      <td>6</td>\n",
       "      <td>495</td>\n",
       "      <td>484</td>\n",
       "      <td>979</td>\n",
       "      <td>0.494382</td>\n",
       "    </tr>\n",
       "    <tr>\n",
       "      <th>6</th>\n",
       "      <td>7</td>\n",
       "      <td>485</td>\n",
       "      <td>469</td>\n",
       "      <td>954</td>\n",
       "      <td>0.491614</td>\n",
       "    </tr>\n",
       "    <tr>\n",
       "      <th>7</th>\n",
       "      <td>8</td>\n",
       "      <td>492</td>\n",
       "      <td>524</td>\n",
       "      <td>1016</td>\n",
       "      <td>0.515748</td>\n",
       "    </tr>\n",
       "    <tr>\n",
       "      <th>8</th>\n",
       "      <td>9</td>\n",
       "      <td>504</td>\n",
       "      <td>474</td>\n",
       "      <td>978</td>\n",
       "      <td>0.484663</td>\n",
       "    </tr>\n",
       "    <tr>\n",
       "      <th>9</th>\n",
       "      <td>10</td>\n",
       "      <td>520</td>\n",
       "      <td>516</td>\n",
       "      <td>1036</td>\n",
       "      <td>0.498069</td>\n",
       "    </tr>\n",
       "  </tbody>\n",
       "</table>\n",
       "</div>"
      ],
      "text/plain": [
       "   player  red_no  red_yes  total_draws  red_draw_prop\n",
       "0       1     501      519         1020       0.508824\n",
       "1       2     503      491          994       0.493964\n",
       "2       3     526      512         1038       0.493256\n",
       "3       4     487      481          968       0.496901\n",
       "4       5     538      479         1017       0.470993\n",
       "5       6     495      484          979       0.494382\n",
       "6       7     485      469          954       0.491614\n",
       "7       8     492      524         1016       0.515748\n",
       "8       9     504      474          978       0.484663\n",
       "9      10     520      516         1036       0.498069"
      ]
     },
     "execution_count": 16,
     "metadata": {},
     "output_type": "execute_result"
    }
   ],
   "source": [
    "red_cards['red_draw_prop'] = red_cards.red_yes/red_cards.total_draws\n",
    "\n",
    "red_cards.head(10)"
   ]
  },
  {
   "cell_type": "markdown",
   "metadata": {},
   "source": [
    "One final step, let's sort the dataframe based on the the proportion."
   ]
  },
  {
   "cell_type": "code",
   "execution_count": 17,
   "metadata": {},
   "outputs": [
    {
     "data": {
      "text/html": [
       "<div>\n",
       "<style scoped>\n",
       "    .dataframe tbody tr th:only-of-type {\n",
       "        vertical-align: middle;\n",
       "    }\n",
       "\n",
       "    .dataframe tbody tr th {\n",
       "        vertical-align: top;\n",
       "    }\n",
       "\n",
       "    .dataframe thead th {\n",
       "        text-align: right;\n",
       "    }\n",
       "</style>\n",
       "<table border=\"1\" class=\"dataframe\">\n",
       "  <thead>\n",
       "    <tr style=\"text-align: right;\">\n",
       "      <th></th>\n",
       "      <th>player</th>\n",
       "      <th>red_no</th>\n",
       "      <th>red_yes</th>\n",
       "      <th>total_draws</th>\n",
       "      <th>red_draw_prop</th>\n",
       "    </tr>\n",
       "  </thead>\n",
       "  <tbody>\n",
       "    <tr>\n",
       "      <th>4</th>\n",
       "      <td>5</td>\n",
       "      <td>538</td>\n",
       "      <td>479</td>\n",
       "      <td>1017</td>\n",
       "      <td>0.470993</td>\n",
       "    </tr>\n",
       "    <tr>\n",
       "      <th>8</th>\n",
       "      <td>9</td>\n",
       "      <td>504</td>\n",
       "      <td>474</td>\n",
       "      <td>978</td>\n",
       "      <td>0.484663</td>\n",
       "    </tr>\n",
       "    <tr>\n",
       "      <th>6</th>\n",
       "      <td>7</td>\n",
       "      <td>485</td>\n",
       "      <td>469</td>\n",
       "      <td>954</td>\n",
       "      <td>0.491614</td>\n",
       "    </tr>\n",
       "    <tr>\n",
       "      <th>2</th>\n",
       "      <td>3</td>\n",
       "      <td>526</td>\n",
       "      <td>512</td>\n",
       "      <td>1038</td>\n",
       "      <td>0.493256</td>\n",
       "    </tr>\n",
       "    <tr>\n",
       "      <th>1</th>\n",
       "      <td>2</td>\n",
       "      <td>503</td>\n",
       "      <td>491</td>\n",
       "      <td>994</td>\n",
       "      <td>0.493964</td>\n",
       "    </tr>\n",
       "    <tr>\n",
       "      <th>5</th>\n",
       "      <td>6</td>\n",
       "      <td>495</td>\n",
       "      <td>484</td>\n",
       "      <td>979</td>\n",
       "      <td>0.494382</td>\n",
       "    </tr>\n",
       "    <tr>\n",
       "      <th>3</th>\n",
       "      <td>4</td>\n",
       "      <td>487</td>\n",
       "      <td>481</td>\n",
       "      <td>968</td>\n",
       "      <td>0.496901</td>\n",
       "    </tr>\n",
       "    <tr>\n",
       "      <th>9</th>\n",
       "      <td>10</td>\n",
       "      <td>520</td>\n",
       "      <td>516</td>\n",
       "      <td>1036</td>\n",
       "      <td>0.498069</td>\n",
       "    </tr>\n",
       "    <tr>\n",
       "      <th>0</th>\n",
       "      <td>1</td>\n",
       "      <td>501</td>\n",
       "      <td>519</td>\n",
       "      <td>1020</td>\n",
       "      <td>0.508824</td>\n",
       "    </tr>\n",
       "    <tr>\n",
       "      <th>7</th>\n",
       "      <td>8</td>\n",
       "      <td>492</td>\n",
       "      <td>524</td>\n",
       "      <td>1016</td>\n",
       "      <td>0.515748</td>\n",
       "    </tr>\n",
       "  </tbody>\n",
       "</table>\n",
       "</div>"
      ],
      "text/plain": [
       "   player  red_no  red_yes  total_draws  red_draw_prop\n",
       "4       5     538      479         1017       0.470993\n",
       "8       9     504      474          978       0.484663\n",
       "6       7     485      469          954       0.491614\n",
       "2       3     526      512         1038       0.493256\n",
       "1       2     503      491          994       0.493964\n",
       "5       6     495      484          979       0.494382\n",
       "3       4     487      481          968       0.496901\n",
       "9      10     520      516         1036       0.498069\n",
       "0       1     501      519         1020       0.508824\n",
       "7       8     492      524         1016       0.515748"
      ]
     },
     "execution_count": 17,
     "metadata": {},
     "output_type": "execute_result"
    }
   ],
   "source": [
    "red_cards = red_cards.sort_values('red_draw_prop')\n",
    "\n",
    "red_cards.head(10)"
   ]
  },
  {
   "cell_type": "markdown",
   "metadata": {},
   "source": [
    "# Demo: Calculating Probability"
   ]
  },
  {
   "cell_type": "markdown",
   "metadata": {},
   "source": [
    "Calculating the probability of an event is a little more complex than calculating the proportion.  The main reason for this is that you have to determine what type of probablity you wish to calculate along with the number of random variables you have in your system. \n",
    "\n",
    "Here are the various types of **probability**:\n",
    "* **Joint probability:** Probability of two or more events happening at the same time.<br> \n",
    "* **Marginal probability:** Probability of an event regardless of other variables outcome.<br>\n",
    "* **Conditional probability:** Probability of an event occurring along with one or more other events. <br>"
   ]
  },
  {
   "cell_type": "markdown",
   "metadata": {},
   "source": [
    "## Probability for a Single Random Variable "
   ]
  },
  {
   "cell_type": "markdown",
   "metadata": {},
   "source": [
    "For this course, we only be examining how to determine the probability with a single random variable in the system. \n",
    "\n",
    "Remember, <b>probablity</b> is the likelihood of an event <u><i>occuring</i></u>. <br>\n",
    "\n",
    "Probability of one random variable is the likelihood of an event that is independent of other factors. Examples include: <br>\n",
    "* Coin toss.<br>\n",
    "* Roll of a dice.<br>\n",
    "* Drawing one card from a deck of cards. <br>\n",
    "\n",
    "For random variable `x`, the function `P(x)` relates probabilities to all values of `x`.\n",
    "\n",
    "<center>$Probability\\ Density\\ of\\ x = P(x)$</center>\n",
    "\n",
    "If `A` is a specific event of `x`, \n",
    "\n",
    "<center>$Probability\\ of\\ Event\\ A = P(A)$</center>"
   ]
  },
  {
   "cell_type": "markdown",
   "metadata": {},
   "source": [
    "Probability of an event is calculated as *the number of desired outcomes* divided by *total number of possible outcomes*, where all outcomes are equally likely:\n",
    "\n",
    "<center>$Probability = \\frac{the\\ number\\ of\\ desired\\ outcomes}{total\\ number\\ of\\ possible\\ outcomes}$</center>\n",
    "\n",
    "If we apply that principle to our examples above:<br>\n",
    "* Coin toss: Probability of heads = 1 (desired outcome) / 2 (possible outcomes) = .50 or 50%<br>\n",
    "* Dice roll: Probability of rolling 3 = 1 (specific number) / 6 (possible numbers) = .1666 or 16.66%<br>\n",
    "* Cards: Probability of drawing a queen of hearts = 1 (specific card) / 52 (possible cards) = .0192 or 1.92%<br>\n",
    "\n",
    "\n",
    "One other important topic to keep in mind, the probability of an event not occurring is called the **complement** and is calculated:\n",
    "\n",
    "<center>$P(not\\ A) = 1 - P(A)$</center>"
   ]
  },
  {
   "cell_type": "markdown",
   "metadata": {},
   "source": [
    "### Calculate the Probability of a Player Drawing a Spade"
   ]
  },
  {
   "cell_type": "markdown",
   "metadata": {},
   "source": [
    "If you scroll all the way to the top, we see that we loaded to original dataset into `cards_df`. Let's start out by ensuring that we still have that object to work with."
   ]
  },
  {
   "cell_type": "code",
   "execution_count": 18,
   "metadata": {},
   "outputs": [
    {
     "data": {
      "text/plain": [
       "(10000, 5)"
      ]
     },
     "execution_count": 18,
     "metadata": {},
     "output_type": "execute_result"
    }
   ],
   "source": [
    "cards_df.shape"
   ]
  },
  {
   "cell_type": "code",
   "execution_count": 19,
   "metadata": {},
   "outputs": [
    {
     "name": "stdout",
     "output_type": "stream",
     "text": [
      "<class 'pandas.core.frame.DataFrame'>\n",
      "RangeIndex: 10000 entries, 0 to 9999\n",
      "Data columns (total 5 columns):\n",
      " #   Column     Non-Null Count  Dtype \n",
      "---  ------     --------------  ----- \n",
      " 0   player     10000 non-null  int64 \n",
      " 1   value      10000 non-null  object\n",
      " 2   suit       10000 non-null  object\n",
      " 3   color      10000 non-null  object\n",
      " 4   red_drawn  10000 non-null  bool  \n",
      "dtypes: bool(1), int64(1), object(3)\n",
      "memory usage: 322.4+ KB\n"
     ]
    }
   ],
   "source": [
    "cards_df.info()"
   ]
  },
  {
   "cell_type": "code",
   "execution_count": 20,
   "metadata": {},
   "outputs": [
    {
     "data": {
      "text/html": [
       "<div>\n",
       "<style scoped>\n",
       "    .dataframe tbody tr th:only-of-type {\n",
       "        vertical-align: middle;\n",
       "    }\n",
       "\n",
       "    .dataframe tbody tr th {\n",
       "        vertical-align: top;\n",
       "    }\n",
       "\n",
       "    .dataframe thead th {\n",
       "        text-align: right;\n",
       "    }\n",
       "</style>\n",
       "<table border=\"1\" class=\"dataframe\">\n",
       "  <thead>\n",
       "    <tr style=\"text-align: right;\">\n",
       "      <th></th>\n",
       "      <th>player</th>\n",
       "      <th>value</th>\n",
       "      <th>suit</th>\n",
       "      <th>color</th>\n",
       "      <th>red_drawn</th>\n",
       "    </tr>\n",
       "  </thead>\n",
       "  <tbody>\n",
       "    <tr>\n",
       "      <th>0</th>\n",
       "      <td>8</td>\n",
       "      <td>7</td>\n",
       "      <td>club</td>\n",
       "      <td>black</td>\n",
       "      <td>False</td>\n",
       "    </tr>\n",
       "    <tr>\n",
       "      <th>1</th>\n",
       "      <td>2</td>\n",
       "      <td>6</td>\n",
       "      <td>club</td>\n",
       "      <td>black</td>\n",
       "      <td>False</td>\n",
       "    </tr>\n",
       "    <tr>\n",
       "      <th>2</th>\n",
       "      <td>3</td>\n",
       "      <td>5</td>\n",
       "      <td>heart</td>\n",
       "      <td>red</td>\n",
       "      <td>True</td>\n",
       "    </tr>\n",
       "    <tr>\n",
       "      <th>3</th>\n",
       "      <td>2</td>\n",
       "      <td>A</td>\n",
       "      <td>spade</td>\n",
       "      <td>black</td>\n",
       "      <td>False</td>\n",
       "    </tr>\n",
       "    <tr>\n",
       "      <th>4</th>\n",
       "      <td>10</td>\n",
       "      <td>2</td>\n",
       "      <td>club</td>\n",
       "      <td>black</td>\n",
       "      <td>False</td>\n",
       "    </tr>\n",
       "    <tr>\n",
       "      <th>5</th>\n",
       "      <td>10</td>\n",
       "      <td>10</td>\n",
       "      <td>heart</td>\n",
       "      <td>red</td>\n",
       "      <td>True</td>\n",
       "    </tr>\n",
       "    <tr>\n",
       "      <th>6</th>\n",
       "      <td>6</td>\n",
       "      <td>3</td>\n",
       "      <td>spade</td>\n",
       "      <td>black</td>\n",
       "      <td>False</td>\n",
       "    </tr>\n",
       "    <tr>\n",
       "      <th>7</th>\n",
       "      <td>6</td>\n",
       "      <td>5</td>\n",
       "      <td>club</td>\n",
       "      <td>black</td>\n",
       "      <td>False</td>\n",
       "    </tr>\n",
       "    <tr>\n",
       "      <th>8</th>\n",
       "      <td>6</td>\n",
       "      <td>2</td>\n",
       "      <td>heart</td>\n",
       "      <td>red</td>\n",
       "      <td>True</td>\n",
       "    </tr>\n",
       "    <tr>\n",
       "      <th>9</th>\n",
       "      <td>1</td>\n",
       "      <td>Q</td>\n",
       "      <td>heart</td>\n",
       "      <td>red</td>\n",
       "      <td>True</td>\n",
       "    </tr>\n",
       "  </tbody>\n",
       "</table>\n",
       "</div>"
      ],
      "text/plain": [
       "   player value   suit  color  red_drawn\n",
       "0       8     7   club  black      False\n",
       "1       2     6   club  black      False\n",
       "2       3     5  heart    red       True\n",
       "3       2     A  spade  black      False\n",
       "4      10     2   club  black      False\n",
       "5      10    10  heart    red       True\n",
       "6       6     3  spade  black      False\n",
       "7       6     5   club  black      False\n",
       "8       6     2  heart    red       True\n",
       "9       1     Q  heart    red       True"
      ]
     },
     "execution_count": 20,
     "metadata": {},
     "output_type": "execute_result"
    }
   ],
   "source": [
    "cards_df.head(10)"
   ]
  },
  {
   "cell_type": "markdown",
   "metadata": {},
   "source": [
    "I'm going to start by counting up the number of spade cards that each player drew."
   ]
  },
  {
   "cell_type": "code",
   "execution_count": 21,
   "metadata": {},
   "outputs": [
    {
     "data": {
      "text/plain": [
       "player\n",
       "1     237\n",
       "2     262\n",
       "3     275\n",
       "4     235\n",
       "5     251\n",
       "6     245\n",
       "7     235\n",
       "8     247\n",
       "9     255\n",
       "10    246\n",
       "dtype: int64"
      ]
     },
     "execution_count": 21,
     "metadata": {},
     "output_type": "execute_result"
    }
   ],
   "source": [
    "spade_cards = cards_df[cards_df.suit == 'spade'].groupby('player').size()\n",
    "\n",
    "spade_cards"
   ]
  },
  {
   "cell_type": "markdown",
   "metadata": {},
   "source": [
    "<div class=\"alert alert-block alert-info\">\n",
    "<b>Aggregation of spade cards drawn: What all is going on there?</b>  <br>\n",
    "   1. Filter the cards_df down to only looking at spade cards <br>\n",
    "   2. Grouped the output of from step 1 by player <br>\n",
    "   3. Used size() to get a total number for each player\n",
    "</div>"
   ]
  },
  {
   "cell_type": "code",
   "execution_count": 22,
   "metadata": {},
   "outputs": [
    {
     "data": {
      "text/plain": [
       "10000"
      ]
     },
     "execution_count": 22,
     "metadata": {},
     "output_type": "execute_result"
    }
   ],
   "source": [
    "total_pulls = len(cards_df)\n",
    "\n",
    "total_pulls"
   ]
  },
  {
   "cell_type": "code",
   "execution_count": 23,
   "metadata": {},
   "outputs": [
    {
     "data": {
      "text/plain": [
       "player\n",
       "3     0.0275\n",
       "2     0.0262\n",
       "9     0.0255\n",
       "5     0.0251\n",
       "8     0.0247\n",
       "10    0.0246\n",
       "6     0.0245\n",
       "1     0.0237\n",
       "4     0.0235\n",
       "7     0.0235\n",
       "dtype: float64"
      ]
     },
     "execution_count": 23,
     "metadata": {},
     "output_type": "execute_result"
    }
   ],
   "source": [
    "spade_prob = spade_cards.apply(lambda x: x/total_pulls)\n",
    "\n",
    "#sort the values in this series\n",
    "spade_prob = spade_prob.sort_values(ascending=False)\n",
    "\n",
    "spade_prob"
   ]
  },
  {
   "cell_type": "markdown",
   "metadata": {},
   "source": [
    "Based on the results above, it looks like the probability of Player 3 drawing a spade is 2.75%. Remember, probability talks about future events occurring.  Another way of stating this would be to say, the likelihood of Player 3 drawing a spade is 2.75%.\n",
    "\n",
    "Also, we could say that the probability of Player 3 not drawing a spade is 97.25%."
   ]
  },
  {
   "cell_type": "markdown",
   "metadata": {},
   "source": [
    "## Binomial (Bernoulli) Distribution"
   ]
  },
  {
   "cell_type": "markdown",
   "metadata": {},
   "source": [
    "Okay, let's take this one step further. We can see above that Player 3 had the highest probability of drawing a spade and Player 7 the lowest. Suppose we have each of the ten players draw ten cards. What do you think the probability of them pulling one spade card is?"
   ]
  },
  {
   "cell_type": "markdown",
   "metadata": {},
   "source": [
    "Before you reach for your calculators, we need to stop and talk about what we are truly asking for.  \n",
    "\n",
    "We'll start with Player 3... On their first draw the card will either be a spade or will not be a spade. The outcome of this is binary (aka. binomial). In the world of statistics, this is known as a **binomial distribution** event.\n",
    "\n",
    "At its heart, binomial distributions analyze the probability of each outcome under certain conditions. \n",
    "* **trial** is an event of interest with a discrete outcome (e.g. a coin toss).\n",
    "* **success** is defined as the outcome of interest in the trials. \n",
    "\n",
    "For example, in the coin toss above, we could say we are interested in the number of H outcomes out of 10 trials (tosses). Each H outcome would be a *success*. Also represented as a \"1\" (following binary logic).\n",
    "\n",
    "A **binary distribution** is the number of successes (*x*) in *n* trials with *p* probability of success for each trial. Also called a *Bernoulli distribution*.\n"
   ]
  },
  {
   "cell_type": "markdown",
   "metadata": {},
   "source": [
    "In general, we are concerned with calculating two situations:\n",
    "\n",
    "1. The probability of *x* successes out of *n* trials. This is called the **probability mass function(pmf).**<br>\n",
    "2. The probability of **no more than** _x_ successes out of *n* trials. This is called the **cumulative distribution function (cdf).**\n",
    "\n",
    "Python uses scipy's `stats.binom.pmf()` and `stats.binom.cdf()` functions, respectively, for that functionality. \n",
    "\n",
    "**pmf example:** A fair coin has a 50% (.50) chance of coming up heads on a toss. What is the probability of getting a head (H) 7 times out of 10 tosses?\n",
    "\n",
    "x = 7<br>\n",
    "n = 10<br>\n",
    "p = 0.5<br>"
   ]
  },
  {
   "cell_type": "markdown",
   "metadata": {},
   "source": [
    "### Calculate the Probability Each Player Will Draw a Spade out of Ten Cards"
   ]
  },
  {
   "cell_type": "markdown",
   "metadata": {},
   "source": [
    "As before, we are going to start out verifying we still have access to our prior results."
   ]
  },
  {
   "cell_type": "code",
   "execution_count": 24,
   "metadata": {},
   "outputs": [
    {
     "data": {
      "text/plain": [
       "player\n",
       "3     0.0275\n",
       "2     0.0262\n",
       "9     0.0255\n",
       "5     0.0251\n",
       "8     0.0247\n",
       "10    0.0246\n",
       "6     0.0245\n",
       "1     0.0237\n",
       "4     0.0235\n",
       "7     0.0235\n",
       "dtype: float64"
      ]
     },
     "execution_count": 24,
     "metadata": {},
     "output_type": "execute_result"
    }
   ],
   "source": [
    "spade_prob"
   ]
  },
  {
   "cell_type": "code",
   "execution_count": 25,
   "metadata": {},
   "outputs": [],
   "source": [
    "from scipy import stats"
   ]
  },
  {
   "cell_type": "code",
   "execution_count": 26,
   "metadata": {},
   "outputs": [],
   "source": [
    "spade_bern = spade_prob.apply(lambda x: stats.binom.pmf(1, n=10, p=x))"
   ]
  },
  {
   "cell_type": "code",
   "execution_count": 27,
   "metadata": {},
   "outputs": [
    {
     "data": {
      "text/plain": [
       "player\n",
       "3     0.213963\n",
       "2     0.206314\n",
       "9     0.202105\n",
       "5     0.199671\n",
       "8     0.197215\n",
       "10    0.196598\n",
       "6     0.195980\n",
       "1     0.190984\n",
       "4     0.189722\n",
       "7     0.189722\n",
       "dtype: float64"
      ]
     },
     "execution_count": 27,
     "metadata": {},
     "output_type": "execute_result"
    }
   ],
   "source": [
    "spade_bern"
   ]
  },
  {
   "cell_type": "markdown",
   "metadata": {},
   "source": [
    "Remember, Bernoulli's equation is very specifc. We calucated the likelihood of the players drawing 1 spade card in their 10 pulls.  What if we wanted to see the probability of the player drawing 2 spade cards."
   ]
  },
  {
   "cell_type": "code",
   "execution_count": 31,
   "metadata": {},
   "outputs": [
    {
     "data": {
      "text/plain": [
       "player\n",
       "3     0.027227\n",
       "2     0.024979\n",
       "9     0.023798\n",
       "5     0.023133\n",
       "8     0.022476\n",
       "10    0.022312\n",
       "6     0.022149\n",
       "1     0.020863\n",
       "4     0.020546\n",
       "7     0.020546\n",
       "dtype: float64"
      ]
     },
     "execution_count": 31,
     "metadata": {},
     "output_type": "execute_result"
    }
   ],
   "source": [
    "spade_2_bern = spade_prob.apply(lambda x: stats.binom.pmf(2, n=10, p=x))\n",
    "spade_2_bern"
   ]
  },
  {
   "cell_type": "markdown",
   "metadata": {},
   "source": [
    "Wow! Quite a difference between 1 spade and 2 spades."
   ]
  },
  {
   "cell_type": "markdown",
   "metadata": {},
   "source": [
    "# Recap: Pulling It All Together"
   ]
  },
  {
   "cell_type": "markdown",
   "metadata": {},
   "source": [
    "So what does all this mean?\n",
    "\n",
    "Going back and looking at all the calculations for Player 3 for this dataset we have:\n",
    "* Proportion of red card drawn is 49.3%\n",
    "* Probablity of drawing a spade is 2.75%\n",
    "* Probabilty of drawing 1 spade card out of 10 draws is 21.4%\n",
    "* Probabilty of drawing 2 spade cards out of 10 draws is 2.72%\n",
    "\n",
    "All of those metrics are accurate, however, for an individual who is not familiar with statistics, they could be a bit confusing.\n",
    "\n",
    "Next time someone starts peppering you with stats about something, take a step back and think about what they are **really** telling you. You could even ask them how they arrived at those calculations."
   ]
  }
 ],
 "metadata": {
  "kernelspec": {
   "display_name": "DS-jupyter",
   "language": "python",
   "name": "ds-jupyter"
  },
  "language_info": {
   "codemirror_mode": {
    "name": "ipython",
    "version": 3
   },
   "file_extension": ".py",
   "mimetype": "text/x-python",
   "name": "python",
   "nbconvert_exporter": "python",
   "pygments_lexer": "ipython3",
   "version": "3.9.10"
  },
  "toc-autonumbering": true
 },
 "nbformat": 4,
 "nbformat_minor": 4
}
