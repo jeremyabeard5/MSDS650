{
 "cells": [
  {
   "cell_type": "markdown",
   "metadata": {},
   "source": [
    "**Jeremy Beard\n",
    "\n",
    "**Due 20220313\n",
    "\n",
    "**Week 1\n",
    "\n",
    "**MSDS650\n",
    "\n",
    "**Genie Hays\n",
    "\n",
    "<img align=\"right\" style=\"padding-right:10px;\" src=\"figures_wk1/answering_questions.png\" width=350><br>\n",
    "# Week 1 Lab: Data Analytics - Answering Questions\n",
    "\n",
    "As noted in our lecture notebook this week, the main purpose of data analytics is to answer questions about a dataset. This week you will practice developing questions about a dataset and then answer those questions using python's Pandas library.\n",
    "\n",
    "##  Our Dataset\n",
    "**Dataset Name::** Movie Lens dataset\n",
    "GroupLens Research has collected and made available rating data sets from the MovieLens web site (https://movielens.org). \n",
    "The dataset is comprised of 3 seperate files: movies.dat, ratings.dat, users.dat.\n"
   ]
  },
  {
   "cell_type": "markdown",
   "metadata": {},
   "source": [
    "Reminder: The first step in any type of data analysis is to <u>look</u> at your data."
   ]
  },
  {
   "cell_type": "code",
   "execution_count": 1,
   "metadata": {},
   "outputs": [
    {
     "name": "stderr",
     "output_type": "stream",
     "text": [
      "'head' is not recognized as an internal or external command,\n",
      "operable program or batch file.\n"
     ]
    }
   ],
   "source": [
    "#I included these cells for complete-ness, but since I am on a Windows machine, 'head' doesn't work. \n",
    "#I looked at each set of data in my local text editor though, Notepad++\n",
    "!head assign_wk1/movies.dat"
   ]
  },
  {
   "cell_type": "code",
   "execution_count": 2,
   "metadata": {},
   "outputs": [
    {
     "name": "stderr",
     "output_type": "stream",
     "text": [
      "'head' is not recognized as an internal or external command,\n",
      "operable program or batch file.\n"
     ]
    }
   ],
   "source": [
    "#I included these cells for complete-ness, but since I am on a Windows machine, 'head' doesn't work. \n",
    "#I looked at each set of data in my local text editor though, Notepad++\n",
    "!head assign_wk1/ratings.dat"
   ]
  },
  {
   "cell_type": "code",
   "execution_count": 3,
   "metadata": {},
   "outputs": [
    {
     "name": "stderr",
     "output_type": "stream",
     "text": [
      "'head' is not recognized as an internal or external command,\n",
      "operable program or batch file.\n"
     ]
    }
   ],
   "source": [
    "#I included these cells for complete-ness, but since I am on a Windows machine, 'head' doesn't work. \n",
    "#I looked at each set of data in my local text editor though, Notepad++\n",
    "!head assign_wk1/users.dat"
   ]
  },
  {
   "cell_type": "markdown",
   "metadata": {},
   "source": [
    "Hmmm.... Well it appears that all 3 of our data files do not include a header row.  So we are going to need to define a header row for each of the 3 files. The accompanying README file denotes the fileds for each of these files. "
   ]
  },
  {
   "cell_type": "markdown",
   "metadata": {},
   "source": [
    "<div class=\"alert alert-block alert-info\">\n",
    "    <b>File Separator::</b> Did you notice that seperator in the file is not a comma?  We will need to account for that when we load each file into a Pandas dataframe. <br> <br>\n",
    "The README file has additional useful information that you might want to refer while working on this assignment.\n",
    "</div>"
   ]
  },
  {
   "cell_type": "markdown",
   "metadata": {},
   "source": [
    "# I. Introduction\n",
    "In this week's assignment, the movies datasets from the Lab this week were used and expanded upon. In addition to the operations which were performed in the lab (below), additional questions are asked of the dataset. "
   ]
  },
  {
   "cell_type": "markdown",
   "metadata": {},
   "source": [
    "# II. Methods, III. Code, and IV. Analysis of Results\n",
    "Let's begin with just the steps from the lab. The movies dataset is loaded, including the option of the separator being the semicolon. Display some info about the data and the first 10 rows of the data."
   ]
  },
  {
   "cell_type": "code",
   "execution_count": 4,
   "metadata": {},
   "outputs": [],
   "source": [
    "import pandas as pd"
   ]
  },
  {
   "cell_type": "code",
   "execution_count": 5,
   "metadata": {},
   "outputs": [
    {
     "name": "stdout",
     "output_type": "stream",
     "text": [
      "<class 'pandas.core.frame.DataFrame'>\n",
      "RangeIndex: 3883 entries, 0 to 3882\n",
      "Data columns (total 3 columns):\n",
      " #   Column    Non-Null Count  Dtype \n",
      "---  ------    --------------  ----- \n",
      " 0   movie_id  3883 non-null   int64 \n",
      " 1   title     3883 non-null   object\n",
      " 2   genres    3883 non-null   object\n",
      "dtypes: int64(1), object(2)\n",
      "memory usage: 91.1+ KB\n"
     ]
    },
    {
     "data": {
      "text/html": [
       "<div>\n",
       "<style scoped>\n",
       "    .dataframe tbody tr th:only-of-type {\n",
       "        vertical-align: middle;\n",
       "    }\n",
       "\n",
       "    .dataframe tbody tr th {\n",
       "        vertical-align: top;\n",
       "    }\n",
       "\n",
       "    .dataframe thead th {\n",
       "        text-align: right;\n",
       "    }\n",
       "</style>\n",
       "<table border=\"1\" class=\"dataframe\">\n",
       "  <thead>\n",
       "    <tr style=\"text-align: right;\">\n",
       "      <th></th>\n",
       "      <th>movie_id</th>\n",
       "      <th>title</th>\n",
       "      <th>genres</th>\n",
       "    </tr>\n",
       "  </thead>\n",
       "  <tbody>\n",
       "    <tr>\n",
       "      <th>0</th>\n",
       "      <td>1</td>\n",
       "      <td>Toy Story (1995)</td>\n",
       "      <td>Animation|Children's|Comedy</td>\n",
       "    </tr>\n",
       "    <tr>\n",
       "      <th>1</th>\n",
       "      <td>2</td>\n",
       "      <td>Jumanji (1995)</td>\n",
       "      <td>Adventure|Children's|Fantasy</td>\n",
       "    </tr>\n",
       "    <tr>\n",
       "      <th>2</th>\n",
       "      <td>3</td>\n",
       "      <td>Grumpier Old Men (1995)</td>\n",
       "      <td>Comedy|Romance</td>\n",
       "    </tr>\n",
       "    <tr>\n",
       "      <th>3</th>\n",
       "      <td>4</td>\n",
       "      <td>Waiting to Exhale (1995)</td>\n",
       "      <td>Comedy|Drama</td>\n",
       "    </tr>\n",
       "    <tr>\n",
       "      <th>4</th>\n",
       "      <td>5</td>\n",
       "      <td>Father of the Bride Part II (1995)</td>\n",
       "      <td>Comedy</td>\n",
       "    </tr>\n",
       "    <tr>\n",
       "      <th>5</th>\n",
       "      <td>6</td>\n",
       "      <td>Heat (1995)</td>\n",
       "      <td>Action|Crime|Thriller</td>\n",
       "    </tr>\n",
       "    <tr>\n",
       "      <th>6</th>\n",
       "      <td>7</td>\n",
       "      <td>Sabrina (1995)</td>\n",
       "      <td>Comedy|Romance</td>\n",
       "    </tr>\n",
       "    <tr>\n",
       "      <th>7</th>\n",
       "      <td>8</td>\n",
       "      <td>Tom and Huck (1995)</td>\n",
       "      <td>Adventure|Children's</td>\n",
       "    </tr>\n",
       "    <tr>\n",
       "      <th>8</th>\n",
       "      <td>9</td>\n",
       "      <td>Sudden Death (1995)</td>\n",
       "      <td>Action</td>\n",
       "    </tr>\n",
       "    <tr>\n",
       "      <th>9</th>\n",
       "      <td>10</td>\n",
       "      <td>GoldenEye (1995)</td>\n",
       "      <td>Action|Adventure|Thriller</td>\n",
       "    </tr>\n",
       "  </tbody>\n",
       "</table>\n",
       "</div>"
      ],
      "text/plain": [
       "   movie_id                               title                        genres\n",
       "0         1                    Toy Story (1995)   Animation|Children's|Comedy\n",
       "1         2                      Jumanji (1995)  Adventure|Children's|Fantasy\n",
       "2         3             Grumpier Old Men (1995)                Comedy|Romance\n",
       "3         4            Waiting to Exhale (1995)                  Comedy|Drama\n",
       "4         5  Father of the Bride Part II (1995)                        Comedy\n",
       "5         6                         Heat (1995)         Action|Crime|Thriller\n",
       "6         7                      Sabrina (1995)                Comedy|Romance\n",
       "7         8                 Tom and Huck (1995)          Adventure|Children's\n",
       "8         9                 Sudden Death (1995)                        Action\n",
       "9        10                    GoldenEye (1995)     Action|Adventure|Thriller"
      ]
     },
     "execution_count": 5,
     "metadata": {},
     "output_type": "execute_result"
    }
   ],
   "source": [
    "# movie.dat fields --> MovieID::Title::Genres\n",
    "\n",
    "m_cols = ['movie_id', 'title', 'genres']\n",
    "movies_df = pd.read_csv('assign_wk1/movies.dat', sep=';', names=m_cols, encoding='latin1')\n",
    "movies_df.info()\n",
    "movies_df.head(10)\n",
    "\n",
    "##My movies.dat text file had a weird error at line 3845: And God Created Women. \n",
    "##I had to correct it for pandas to correctly recognize only 3 columns of data\n",
    "##I used the function below to find the error\n",
    "#movies_df[movies_df['nan'].notnull()]\n"
   ]
  },
  {
   "cell_type": "markdown",
   "metadata": {},
   "source": [
    "Now that we've loaded the movies.dat dataframe which gives a movie id and the titles and genres of movies, we will now load the next dataframe. This will be the ratings.dat dataframe which gives a user_id, a movie_id, a rating, and a timestamp."
   ]
  },
  {
   "cell_type": "code",
   "execution_count": 6,
   "metadata": {},
   "outputs": [
    {
     "data": {
      "text/html": [
       "<div>\n",
       "<style scoped>\n",
       "    .dataframe tbody tr th:only-of-type {\n",
       "        vertical-align: middle;\n",
       "    }\n",
       "\n",
       "    .dataframe tbody tr th {\n",
       "        vertical-align: top;\n",
       "    }\n",
       "\n",
       "    .dataframe thead th {\n",
       "        text-align: right;\n",
       "    }\n",
       "</style>\n",
       "<table border=\"1\" class=\"dataframe\">\n",
       "  <thead>\n",
       "    <tr style=\"text-align: right;\">\n",
       "      <th></th>\n",
       "      <th>user_id</th>\n",
       "      <th>movie_id</th>\n",
       "      <th>rating</th>\n",
       "      <th>unix_timestamp</th>\n",
       "    </tr>\n",
       "  </thead>\n",
       "  <tbody>\n",
       "    <tr>\n",
       "      <th>0</th>\n",
       "      <td>1</td>\n",
       "      <td>1193</td>\n",
       "      <td>5</td>\n",
       "      <td>978300760</td>\n",
       "    </tr>\n",
       "    <tr>\n",
       "      <th>1</th>\n",
       "      <td>1</td>\n",
       "      <td>661</td>\n",
       "      <td>3</td>\n",
       "      <td>978302109</td>\n",
       "    </tr>\n",
       "    <tr>\n",
       "      <th>2</th>\n",
       "      <td>1</td>\n",
       "      <td>914</td>\n",
       "      <td>3</td>\n",
       "      <td>978301968</td>\n",
       "    </tr>\n",
       "    <tr>\n",
       "      <th>3</th>\n",
       "      <td>1</td>\n",
       "      <td>3408</td>\n",
       "      <td>4</td>\n",
       "      <td>978300275</td>\n",
       "    </tr>\n",
       "    <tr>\n",
       "      <th>4</th>\n",
       "      <td>1</td>\n",
       "      <td>2355</td>\n",
       "      <td>5</td>\n",
       "      <td>978824291</td>\n",
       "    </tr>\n",
       "    <tr>\n",
       "      <th>5</th>\n",
       "      <td>1</td>\n",
       "      <td>1197</td>\n",
       "      <td>3</td>\n",
       "      <td>978302268</td>\n",
       "    </tr>\n",
       "    <tr>\n",
       "      <th>6</th>\n",
       "      <td>1</td>\n",
       "      <td>1287</td>\n",
       "      <td>5</td>\n",
       "      <td>978302039</td>\n",
       "    </tr>\n",
       "    <tr>\n",
       "      <th>7</th>\n",
       "      <td>1</td>\n",
       "      <td>2804</td>\n",
       "      <td>5</td>\n",
       "      <td>978300719</td>\n",
       "    </tr>\n",
       "    <tr>\n",
       "      <th>8</th>\n",
       "      <td>1</td>\n",
       "      <td>594</td>\n",
       "      <td>4</td>\n",
       "      <td>978302268</td>\n",
       "    </tr>\n",
       "    <tr>\n",
       "      <th>9</th>\n",
       "      <td>1</td>\n",
       "      <td>919</td>\n",
       "      <td>4</td>\n",
       "      <td>978301368</td>\n",
       "    </tr>\n",
       "  </tbody>\n",
       "</table>\n",
       "</div>"
      ],
      "text/plain": [
       "   user_id  movie_id  rating  unix_timestamp\n",
       "0        1      1193       5       978300760\n",
       "1        1       661       3       978302109\n",
       "2        1       914       3       978301968\n",
       "3        1      3408       4       978300275\n",
       "4        1      2355       5       978824291\n",
       "5        1      1197       3       978302268\n",
       "6        1      1287       5       978302039\n",
       "7        1      2804       5       978300719\n",
       "8        1       594       4       978302268\n",
       "9        1       919       4       978301368"
      ]
     },
     "execution_count": 6,
     "metadata": {},
     "output_type": "execute_result"
    }
   ],
   "source": [
    "# ratings.dat fields --> UserID::MovieID::Rating::Timestamp\n",
    "r_cols = ['user_id', 'movie_id', 'rating', 'unix_timestamp']\n",
    "ratings_df = pd.read_csv('assign_wk1/ratings.dat', sep=';', names=r_cols)\n",
    "ratings_df.head(10)\n"
   ]
  },
  {
   "cell_type": "markdown",
   "metadata": {},
   "source": [
    "Finally, we have our third dataframe to load. This is the users.dat dataframe which gives information about the users such as age and sex. These three dataframes will eventually be merged together. Let's see how."
   ]
  },
  {
   "cell_type": "code",
   "execution_count": 7,
   "metadata": {},
   "outputs": [
    {
     "data": {
      "text/html": [
       "<div>\n",
       "<style scoped>\n",
       "    .dataframe tbody tr th:only-of-type {\n",
       "        vertical-align: middle;\n",
       "    }\n",
       "\n",
       "    .dataframe tbody tr th {\n",
       "        vertical-align: top;\n",
       "    }\n",
       "\n",
       "    .dataframe thead th {\n",
       "        text-align: right;\n",
       "    }\n",
       "</style>\n",
       "<table border=\"1\" class=\"dataframe\">\n",
       "  <thead>\n",
       "    <tr style=\"text-align: right;\">\n",
       "      <th></th>\n",
       "      <th>user_id</th>\n",
       "      <th>sex</th>\n",
       "      <th>age</th>\n",
       "      <th>occupation</th>\n",
       "      <th>zip_code</th>\n",
       "    </tr>\n",
       "  </thead>\n",
       "  <tbody>\n",
       "    <tr>\n",
       "      <th>0</th>\n",
       "      <td>1</td>\n",
       "      <td>F</td>\n",
       "      <td>1</td>\n",
       "      <td>10</td>\n",
       "      <td>48067</td>\n",
       "    </tr>\n",
       "    <tr>\n",
       "      <th>1</th>\n",
       "      <td>2</td>\n",
       "      <td>M</td>\n",
       "      <td>56</td>\n",
       "      <td>16</td>\n",
       "      <td>70072</td>\n",
       "    </tr>\n",
       "    <tr>\n",
       "      <th>2</th>\n",
       "      <td>3</td>\n",
       "      <td>M</td>\n",
       "      <td>25</td>\n",
       "      <td>15</td>\n",
       "      <td>55117</td>\n",
       "    </tr>\n",
       "    <tr>\n",
       "      <th>3</th>\n",
       "      <td>4</td>\n",
       "      <td>M</td>\n",
       "      <td>45</td>\n",
       "      <td>7</td>\n",
       "      <td>02460</td>\n",
       "    </tr>\n",
       "    <tr>\n",
       "      <th>4</th>\n",
       "      <td>5</td>\n",
       "      <td>M</td>\n",
       "      <td>25</td>\n",
       "      <td>20</td>\n",
       "      <td>55455</td>\n",
       "    </tr>\n",
       "    <tr>\n",
       "      <th>5</th>\n",
       "      <td>6</td>\n",
       "      <td>F</td>\n",
       "      <td>50</td>\n",
       "      <td>9</td>\n",
       "      <td>55117</td>\n",
       "    </tr>\n",
       "    <tr>\n",
       "      <th>6</th>\n",
       "      <td>7</td>\n",
       "      <td>M</td>\n",
       "      <td>35</td>\n",
       "      <td>1</td>\n",
       "      <td>06810</td>\n",
       "    </tr>\n",
       "    <tr>\n",
       "      <th>7</th>\n",
       "      <td>8</td>\n",
       "      <td>M</td>\n",
       "      <td>25</td>\n",
       "      <td>12</td>\n",
       "      <td>11413</td>\n",
       "    </tr>\n",
       "    <tr>\n",
       "      <th>8</th>\n",
       "      <td>9</td>\n",
       "      <td>M</td>\n",
       "      <td>25</td>\n",
       "      <td>17</td>\n",
       "      <td>61614</td>\n",
       "    </tr>\n",
       "    <tr>\n",
       "      <th>9</th>\n",
       "      <td>10</td>\n",
       "      <td>F</td>\n",
       "      <td>35</td>\n",
       "      <td>1</td>\n",
       "      <td>95370</td>\n",
       "    </tr>\n",
       "  </tbody>\n",
       "</table>\n",
       "</div>"
      ],
      "text/plain": [
       "   user_id sex  age  occupation zip_code\n",
       "0        1   F    1          10    48067\n",
       "1        2   M   56          16    70072\n",
       "2        3   M   25          15    55117\n",
       "3        4   M   45           7    02460\n",
       "4        5   M   25          20    55455\n",
       "5        6   F   50           9    55117\n",
       "6        7   M   35           1    06810\n",
       "7        8   M   25          12    11413\n",
       "8        9   M   25          17    61614\n",
       "9       10   F   35           1    95370"
      ]
     },
     "execution_count": 7,
     "metadata": {},
     "output_type": "execute_result"
    }
   ],
   "source": [
    "# users.dat fields --> UserID::Gender::Age::Occupation::Zip-code\n",
    "u_cols = ['user_id', 'sex', 'age', 'occupation', 'zip_code']\n",
    "users_df = pd.read_csv('assign_wk1/users.dat', sep=';', names=u_cols)\n",
    "users_df.head(10)"
   ]
  },
  {
   "cell_type": "markdown",
   "metadata": {},
   "source": [
    "Now we can merge the individal dataframes into a single dataframe. This will link the dataframes based on movie_id and user_id as those columns are present in multiple dataframes."
   ]
  },
  {
   "cell_type": "code",
   "execution_count": 8,
   "metadata": {
    "scrolled": true
   },
   "outputs": [
    {
     "data": {
      "text/html": [
       "<div>\n",
       "<style scoped>\n",
       "    .dataframe tbody tr th:only-of-type {\n",
       "        vertical-align: middle;\n",
       "    }\n",
       "\n",
       "    .dataframe tbody tr th {\n",
       "        vertical-align: top;\n",
       "    }\n",
       "\n",
       "    .dataframe thead th {\n",
       "        text-align: right;\n",
       "    }\n",
       "</style>\n",
       "<table border=\"1\" class=\"dataframe\">\n",
       "  <thead>\n",
       "    <tr style=\"text-align: right;\">\n",
       "      <th></th>\n",
       "      <th>movie_id</th>\n",
       "      <th>title</th>\n",
       "      <th>genres</th>\n",
       "      <th>user_id</th>\n",
       "      <th>rating</th>\n",
       "      <th>unix_timestamp</th>\n",
       "      <th>sex</th>\n",
       "      <th>age</th>\n",
       "      <th>occupation</th>\n",
       "      <th>zip_code</th>\n",
       "    </tr>\n",
       "  </thead>\n",
       "  <tbody>\n",
       "    <tr>\n",
       "      <th>0</th>\n",
       "      <td>1</td>\n",
       "      <td>Toy Story (1995)</td>\n",
       "      <td>Animation|Children's|Comedy</td>\n",
       "      <td>1</td>\n",
       "      <td>5</td>\n",
       "      <td>978824268</td>\n",
       "      <td>F</td>\n",
       "      <td>1</td>\n",
       "      <td>10</td>\n",
       "      <td>48067</td>\n",
       "    </tr>\n",
       "    <tr>\n",
       "      <th>1</th>\n",
       "      <td>48</td>\n",
       "      <td>Pocahontas (1995)</td>\n",
       "      <td>Animation|Children's|Musical|Romance</td>\n",
       "      <td>1</td>\n",
       "      <td>5</td>\n",
       "      <td>978824351</td>\n",
       "      <td>F</td>\n",
       "      <td>1</td>\n",
       "      <td>10</td>\n",
       "      <td>48067</td>\n",
       "    </tr>\n",
       "    <tr>\n",
       "      <th>2</th>\n",
       "      <td>150</td>\n",
       "      <td>Apollo 13 (1995)</td>\n",
       "      <td>Drama</td>\n",
       "      <td>1</td>\n",
       "      <td>5</td>\n",
       "      <td>978301777</td>\n",
       "      <td>F</td>\n",
       "      <td>1</td>\n",
       "      <td>10</td>\n",
       "      <td>48067</td>\n",
       "    </tr>\n",
       "    <tr>\n",
       "      <th>3</th>\n",
       "      <td>260</td>\n",
       "      <td>Star Wars: Episode IV - A New Hope (1977)</td>\n",
       "      <td>Action|Adventure|Fantasy|Sci-Fi</td>\n",
       "      <td>1</td>\n",
       "      <td>4</td>\n",
       "      <td>978300760</td>\n",
       "      <td>F</td>\n",
       "      <td>1</td>\n",
       "      <td>10</td>\n",
       "      <td>48067</td>\n",
       "    </tr>\n",
       "    <tr>\n",
       "      <th>4</th>\n",
       "      <td>527</td>\n",
       "      <td>Schindler's List (1993)</td>\n",
       "      <td>Drama|War</td>\n",
       "      <td>1</td>\n",
       "      <td>5</td>\n",
       "      <td>978824195</td>\n",
       "      <td>F</td>\n",
       "      <td>1</td>\n",
       "      <td>10</td>\n",
       "      <td>48067</td>\n",
       "    </tr>\n",
       "    <tr>\n",
       "      <th>5</th>\n",
       "      <td>531</td>\n",
       "      <td>Secret Garden, The (1993)</td>\n",
       "      <td>Children's|Drama</td>\n",
       "      <td>1</td>\n",
       "      <td>4</td>\n",
       "      <td>978302149</td>\n",
       "      <td>F</td>\n",
       "      <td>1</td>\n",
       "      <td>10</td>\n",
       "      <td>48067</td>\n",
       "    </tr>\n",
       "    <tr>\n",
       "      <th>6</th>\n",
       "      <td>588</td>\n",
       "      <td>Aladdin (1992)</td>\n",
       "      <td>Animation|Children's|Comedy|Musical</td>\n",
       "      <td>1</td>\n",
       "      <td>4</td>\n",
       "      <td>978824268</td>\n",
       "      <td>F</td>\n",
       "      <td>1</td>\n",
       "      <td>10</td>\n",
       "      <td>48067</td>\n",
       "    </tr>\n",
       "    <tr>\n",
       "      <th>7</th>\n",
       "      <td>594</td>\n",
       "      <td>Snow White and the Seven Dwarfs (1937)</td>\n",
       "      <td>Animation|Children's|Musical</td>\n",
       "      <td>1</td>\n",
       "      <td>4</td>\n",
       "      <td>978302268</td>\n",
       "      <td>F</td>\n",
       "      <td>1</td>\n",
       "      <td>10</td>\n",
       "      <td>48067</td>\n",
       "    </tr>\n",
       "    <tr>\n",
       "      <th>8</th>\n",
       "      <td>595</td>\n",
       "      <td>Beauty and the Beast (1991)</td>\n",
       "      <td>Animation|Children's|Musical</td>\n",
       "      <td>1</td>\n",
       "      <td>5</td>\n",
       "      <td>978824268</td>\n",
       "      <td>F</td>\n",
       "      <td>1</td>\n",
       "      <td>10</td>\n",
       "      <td>48067</td>\n",
       "    </tr>\n",
       "    <tr>\n",
       "      <th>9</th>\n",
       "      <td>608</td>\n",
       "      <td>Fargo (1996)</td>\n",
       "      <td>Crime|Drama|Thriller</td>\n",
       "      <td>1</td>\n",
       "      <td>4</td>\n",
       "      <td>978301398</td>\n",
       "      <td>F</td>\n",
       "      <td>1</td>\n",
       "      <td>10</td>\n",
       "      <td>48067</td>\n",
       "    </tr>\n",
       "    <tr>\n",
       "      <th>10</th>\n",
       "      <td>661</td>\n",
       "      <td>James and the Giant Peach (1996)</td>\n",
       "      <td>Animation|Children's|Musical</td>\n",
       "      <td>1</td>\n",
       "      <td>3</td>\n",
       "      <td>978302109</td>\n",
       "      <td>F</td>\n",
       "      <td>1</td>\n",
       "      <td>10</td>\n",
       "      <td>48067</td>\n",
       "    </tr>\n",
       "    <tr>\n",
       "      <th>11</th>\n",
       "      <td>720</td>\n",
       "      <td>Wallace &amp; Gromit: The Best of Aardman Animatio...</td>\n",
       "      <td>Animation</td>\n",
       "      <td>1</td>\n",
       "      <td>3</td>\n",
       "      <td>978300760</td>\n",
       "      <td>F</td>\n",
       "      <td>1</td>\n",
       "      <td>10</td>\n",
       "      <td>48067</td>\n",
       "    </tr>\n",
       "    <tr>\n",
       "      <th>12</th>\n",
       "      <td>745</td>\n",
       "      <td>Close Shave, A (1995)</td>\n",
       "      <td>Animation|Comedy|Thriller</td>\n",
       "      <td>1</td>\n",
       "      <td>3</td>\n",
       "      <td>978824268</td>\n",
       "      <td>F</td>\n",
       "      <td>1</td>\n",
       "      <td>10</td>\n",
       "      <td>48067</td>\n",
       "    </tr>\n",
       "    <tr>\n",
       "      <th>13</th>\n",
       "      <td>783</td>\n",
       "      <td>Hunchback of Notre Dame, The (1996)</td>\n",
       "      <td>Animation|Children's|Musical</td>\n",
       "      <td>1</td>\n",
       "      <td>4</td>\n",
       "      <td>978824291</td>\n",
       "      <td>F</td>\n",
       "      <td>1</td>\n",
       "      <td>10</td>\n",
       "      <td>48067</td>\n",
       "    </tr>\n",
       "    <tr>\n",
       "      <th>14</th>\n",
       "      <td>914</td>\n",
       "      <td>My Fair Lady (1964)</td>\n",
       "      <td>Musical|Romance</td>\n",
       "      <td>1</td>\n",
       "      <td>3</td>\n",
       "      <td>978301968</td>\n",
       "      <td>F</td>\n",
       "      <td>1</td>\n",
       "      <td>10</td>\n",
       "      <td>48067</td>\n",
       "    </tr>\n",
       "    <tr>\n",
       "      <th>15</th>\n",
       "      <td>919</td>\n",
       "      <td>Wizard of Oz, The (1939)</td>\n",
       "      <td>Adventure|Children's|Drama|Musical</td>\n",
       "      <td>1</td>\n",
       "      <td>4</td>\n",
       "      <td>978301368</td>\n",
       "      <td>F</td>\n",
       "      <td>1</td>\n",
       "      <td>10</td>\n",
       "      <td>48067</td>\n",
       "    </tr>\n",
       "    <tr>\n",
       "      <th>16</th>\n",
       "      <td>938</td>\n",
       "      <td>Gigi (1958)</td>\n",
       "      <td>Musical</td>\n",
       "      <td>1</td>\n",
       "      <td>4</td>\n",
       "      <td>978301752</td>\n",
       "      <td>F</td>\n",
       "      <td>1</td>\n",
       "      <td>10</td>\n",
       "      <td>48067</td>\n",
       "    </tr>\n",
       "    <tr>\n",
       "      <th>17</th>\n",
       "      <td>1022</td>\n",
       "      <td>Cinderella (1950)</td>\n",
       "      <td>Animation|Children's|Musical</td>\n",
       "      <td>1</td>\n",
       "      <td>5</td>\n",
       "      <td>978300055</td>\n",
       "      <td>F</td>\n",
       "      <td>1</td>\n",
       "      <td>10</td>\n",
       "      <td>48067</td>\n",
       "    </tr>\n",
       "    <tr>\n",
       "      <th>18</th>\n",
       "      <td>1028</td>\n",
       "      <td>Mary Poppins (1964)</td>\n",
       "      <td>Children's|Comedy|Musical</td>\n",
       "      <td>1</td>\n",
       "      <td>5</td>\n",
       "      <td>978301777</td>\n",
       "      <td>F</td>\n",
       "      <td>1</td>\n",
       "      <td>10</td>\n",
       "      <td>48067</td>\n",
       "    </tr>\n",
       "    <tr>\n",
       "      <th>19</th>\n",
       "      <td>1029</td>\n",
       "      <td>Dumbo (1941)</td>\n",
       "      <td>Animation|Children's|Musical</td>\n",
       "      <td>1</td>\n",
       "      <td>5</td>\n",
       "      <td>978302205</td>\n",
       "      <td>F</td>\n",
       "      <td>1</td>\n",
       "      <td>10</td>\n",
       "      <td>48067</td>\n",
       "    </tr>\n",
       "  </tbody>\n",
       "</table>\n",
       "</div>"
      ],
      "text/plain": [
       "    movie_id                                              title  \\\n",
       "0          1                                   Toy Story (1995)   \n",
       "1         48                                  Pocahontas (1995)   \n",
       "2        150                                   Apollo 13 (1995)   \n",
       "3        260          Star Wars: Episode IV - A New Hope (1977)   \n",
       "4        527                            Schindler's List (1993)   \n",
       "5        531                          Secret Garden, The (1993)   \n",
       "6        588                                     Aladdin (1992)   \n",
       "7        594             Snow White and the Seven Dwarfs (1937)   \n",
       "8        595                        Beauty and the Beast (1991)   \n",
       "9        608                                       Fargo (1996)   \n",
       "10       661                   James and the Giant Peach (1996)   \n",
       "11       720  Wallace & Gromit: The Best of Aardman Animatio...   \n",
       "12       745                              Close Shave, A (1995)   \n",
       "13       783                Hunchback of Notre Dame, The (1996)   \n",
       "14       914                                My Fair Lady (1964)   \n",
       "15       919                           Wizard of Oz, The (1939)   \n",
       "16       938                                        Gigi (1958)   \n",
       "17      1022                                  Cinderella (1950)   \n",
       "18      1028                                Mary Poppins (1964)   \n",
       "19      1029                                       Dumbo (1941)   \n",
       "\n",
       "                                  genres  user_id  rating  unix_timestamp sex  \\\n",
       "0            Animation|Children's|Comedy        1       5       978824268   F   \n",
       "1   Animation|Children's|Musical|Romance        1       5       978824351   F   \n",
       "2                                  Drama        1       5       978301777   F   \n",
       "3        Action|Adventure|Fantasy|Sci-Fi        1       4       978300760   F   \n",
       "4                              Drama|War        1       5       978824195   F   \n",
       "5                       Children's|Drama        1       4       978302149   F   \n",
       "6    Animation|Children's|Comedy|Musical        1       4       978824268   F   \n",
       "7           Animation|Children's|Musical        1       4       978302268   F   \n",
       "8           Animation|Children's|Musical        1       5       978824268   F   \n",
       "9                   Crime|Drama|Thriller        1       4       978301398   F   \n",
       "10          Animation|Children's|Musical        1       3       978302109   F   \n",
       "11                             Animation        1       3       978300760   F   \n",
       "12             Animation|Comedy|Thriller        1       3       978824268   F   \n",
       "13          Animation|Children's|Musical        1       4       978824291   F   \n",
       "14                       Musical|Romance        1       3       978301968   F   \n",
       "15    Adventure|Children's|Drama|Musical        1       4       978301368   F   \n",
       "16                               Musical        1       4       978301752   F   \n",
       "17          Animation|Children's|Musical        1       5       978300055   F   \n",
       "18             Children's|Comedy|Musical        1       5       978301777   F   \n",
       "19          Animation|Children's|Musical        1       5       978302205   F   \n",
       "\n",
       "    age  occupation zip_code  \n",
       "0     1          10    48067  \n",
       "1     1          10    48067  \n",
       "2     1          10    48067  \n",
       "3     1          10    48067  \n",
       "4     1          10    48067  \n",
       "5     1          10    48067  \n",
       "6     1          10    48067  \n",
       "7     1          10    48067  \n",
       "8     1          10    48067  \n",
       "9     1          10    48067  \n",
       "10    1          10    48067  \n",
       "11    1          10    48067  \n",
       "12    1          10    48067  \n",
       "13    1          10    48067  \n",
       "14    1          10    48067  \n",
       "15    1          10    48067  \n",
       "16    1          10    48067  \n",
       "17    1          10    48067  \n",
       "18    1          10    48067  \n",
       "19    1          10    48067  "
      ]
     },
     "execution_count": 8,
     "metadata": {},
     "output_type": "execute_result"
    }
   ],
   "source": [
    "# merge movies_df with ratings_df\n",
    "movie_ratings_df = pd.merge(movies_df, ratings_df)\n",
    "\n",
    "# now movies_ratings_df with users_df\n",
    "lens_df = pd.merge(movie_ratings_df, users_df)\n",
    "lens_df.head(20)"
   ]
  },
  {
   "cell_type": "markdown",
   "metadata": {},
   "source": [
    "Now, to learn about our data a little more, a few simple descriptive functions are called to show some metadata. The info() and describe() functions, as well as some simple statistics are used to give information about the data as a whole."
   ]
  },
  {
   "cell_type": "code",
   "execution_count": 9,
   "metadata": {
    "scrolled": true
   },
   "outputs": [
    {
     "name": "stdout",
     "output_type": "stream",
     "text": [
      "<class 'pandas.core.frame.DataFrame'>\n",
      "Int64Index: 1000209 entries, 0 to 1000208\n",
      "Data columns (total 10 columns):\n",
      " #   Column          Non-Null Count    Dtype \n",
      "---  ------          --------------    ----- \n",
      " 0   movie_id        1000209 non-null  int64 \n",
      " 1   title           1000209 non-null  object\n",
      " 2   genres          1000209 non-null  object\n",
      " 3   user_id         1000209 non-null  int64 \n",
      " 4   rating          1000209 non-null  int64 \n",
      " 5   unix_timestamp  1000209 non-null  int64 \n",
      " 6   sex             1000209 non-null  object\n",
      " 7   age             1000209 non-null  int64 \n",
      " 8   occupation      1000209 non-null  int64 \n",
      " 9   zip_code        1000209 non-null  object\n",
      "dtypes: int64(6), object(4)\n",
      "memory usage: 83.9+ MB\n"
     ]
    }
   ],
   "source": [
    "lens_df.info()"
   ]
  },
  {
   "cell_type": "code",
   "execution_count": 10,
   "metadata": {
    "scrolled": false
   },
   "outputs": [
    {
     "data": {
      "text/html": [
       "<div>\n",
       "<style scoped>\n",
       "    .dataframe tbody tr th:only-of-type {\n",
       "        vertical-align: middle;\n",
       "    }\n",
       "\n",
       "    .dataframe tbody tr th {\n",
       "        vertical-align: top;\n",
       "    }\n",
       "\n",
       "    .dataframe thead th {\n",
       "        text-align: right;\n",
       "    }\n",
       "</style>\n",
       "<table border=\"1\" class=\"dataframe\">\n",
       "  <thead>\n",
       "    <tr style=\"text-align: right;\">\n",
       "      <th></th>\n",
       "      <th>movie_id</th>\n",
       "      <th>user_id</th>\n",
       "      <th>rating</th>\n",
       "      <th>unix_timestamp</th>\n",
       "      <th>age</th>\n",
       "      <th>occupation</th>\n",
       "    </tr>\n",
       "  </thead>\n",
       "  <tbody>\n",
       "    <tr>\n",
       "      <th>count</th>\n",
       "      <td>1.000209e+06</td>\n",
       "      <td>1.000209e+06</td>\n",
       "      <td>1.000209e+06</td>\n",
       "      <td>1.000209e+06</td>\n",
       "      <td>1.000209e+06</td>\n",
       "      <td>1.000209e+06</td>\n",
       "    </tr>\n",
       "    <tr>\n",
       "      <th>mean</th>\n",
       "      <td>1.865540e+03</td>\n",
       "      <td>3.024512e+03</td>\n",
       "      <td>3.581564e+00</td>\n",
       "      <td>9.722437e+08</td>\n",
       "      <td>2.973831e+01</td>\n",
       "      <td>8.036138e+00</td>\n",
       "    </tr>\n",
       "    <tr>\n",
       "      <th>std</th>\n",
       "      <td>1.096041e+03</td>\n",
       "      <td>1.728413e+03</td>\n",
       "      <td>1.117102e+00</td>\n",
       "      <td>1.215256e+07</td>\n",
       "      <td>1.175198e+01</td>\n",
       "      <td>6.531336e+00</td>\n",
       "    </tr>\n",
       "    <tr>\n",
       "      <th>min</th>\n",
       "      <td>1.000000e+00</td>\n",
       "      <td>1.000000e+00</td>\n",
       "      <td>1.000000e+00</td>\n",
       "      <td>9.567039e+08</td>\n",
       "      <td>1.000000e+00</td>\n",
       "      <td>0.000000e+00</td>\n",
       "    </tr>\n",
       "    <tr>\n",
       "      <th>25%</th>\n",
       "      <td>1.030000e+03</td>\n",
       "      <td>1.506000e+03</td>\n",
       "      <td>3.000000e+00</td>\n",
       "      <td>9.653026e+08</td>\n",
       "      <td>2.500000e+01</td>\n",
       "      <td>2.000000e+00</td>\n",
       "    </tr>\n",
       "    <tr>\n",
       "      <th>50%</th>\n",
       "      <td>1.835000e+03</td>\n",
       "      <td>3.070000e+03</td>\n",
       "      <td>4.000000e+00</td>\n",
       "      <td>9.730180e+08</td>\n",
       "      <td>2.500000e+01</td>\n",
       "      <td>7.000000e+00</td>\n",
       "    </tr>\n",
       "    <tr>\n",
       "      <th>75%</th>\n",
       "      <td>2.770000e+03</td>\n",
       "      <td>4.476000e+03</td>\n",
       "      <td>4.000000e+00</td>\n",
       "      <td>9.752209e+08</td>\n",
       "      <td>3.500000e+01</td>\n",
       "      <td>1.400000e+01</td>\n",
       "    </tr>\n",
       "    <tr>\n",
       "      <th>max</th>\n",
       "      <td>3.952000e+03</td>\n",
       "      <td>6.040000e+03</td>\n",
       "      <td>5.000000e+00</td>\n",
       "      <td>1.046455e+09</td>\n",
       "      <td>5.600000e+01</td>\n",
       "      <td>2.000000e+01</td>\n",
       "    </tr>\n",
       "  </tbody>\n",
       "</table>\n",
       "</div>"
      ],
      "text/plain": [
       "           movie_id       user_id        rating  unix_timestamp           age  \\\n",
       "count  1.000209e+06  1.000209e+06  1.000209e+06    1.000209e+06  1.000209e+06   \n",
       "mean   1.865540e+03  3.024512e+03  3.581564e+00    9.722437e+08  2.973831e+01   \n",
       "std    1.096041e+03  1.728413e+03  1.117102e+00    1.215256e+07  1.175198e+01   \n",
       "min    1.000000e+00  1.000000e+00  1.000000e+00    9.567039e+08  1.000000e+00   \n",
       "25%    1.030000e+03  1.506000e+03  3.000000e+00    9.653026e+08  2.500000e+01   \n",
       "50%    1.835000e+03  3.070000e+03  4.000000e+00    9.730180e+08  2.500000e+01   \n",
       "75%    2.770000e+03  4.476000e+03  4.000000e+00    9.752209e+08  3.500000e+01   \n",
       "max    3.952000e+03  6.040000e+03  5.000000e+00    1.046455e+09  5.600000e+01   \n",
       "\n",
       "         occupation  \n",
       "count  1.000209e+06  \n",
       "mean   8.036138e+00  \n",
       "std    6.531336e+00  \n",
       "min    0.000000e+00  \n",
       "25%    2.000000e+00  \n",
       "50%    7.000000e+00  \n",
       "75%    1.400000e+01  \n",
       "max    2.000000e+01  "
      ]
     },
     "execution_count": 10,
     "metadata": {},
     "output_type": "execute_result"
    }
   ],
   "source": [
    "lens_df.describe()"
   ]
  },
  {
   "cell_type": "code",
   "execution_count": 11,
   "metadata": {},
   "outputs": [
    {
     "data": {
      "text/plain": [
       "(1000209, 10)"
      ]
     },
     "execution_count": 11,
     "metadata": {},
     "output_type": "execute_result"
    }
   ],
   "source": [
    "lens_df.shape"
   ]
  },
  {
   "cell_type": "markdown",
   "metadata": {},
   "source": [
    "#### Related Homework Assignment Questions\n",
    "1) Above, I demostrated using a info() and shape functions with our lens_df data structure.\n",
    "\n",
    "* Describe what both of these functions are used for?\n",
    "\n",
    "    The 'info()' and 'shape()' functions each have their own use in data analytics. The 'info()' function displays a set of metainfo about the dataframe in question. The 'info()' function displays each column of the dataframe as well as a count of non-null values and a description of the type of data each column contains. The 'shape()' function is much more simple and returns a tuple of the size of the dataframe.\n",
    "    \n",
    "* What information is returned from these functions?\n",
    "\n",
    "    The 'info()' function returns a description of the dataframe object including a count of the non-null values of each column of the dataframe, as well as the type of data contains in each column of the dataframe.\n",
    "    The 'shape()' function returns a tuple of the size of the dataframe object.\n",
    "    \n",
    "* Why is this information helpful?\n",
    "\n",
    "    This information is helpful because it gives the user a sense of what they are looking at. Both the 'shape()' and 'info() functions give the user some metadata about the dataframe. If the user is observant, in some cases he or she can also find the shape of the data within the 'info()' function, as it gives a count of the columns and rows. "
   ]
  },
  {
   "cell_type": "code",
   "execution_count": 12,
   "metadata": {
    "scrolled": true
   },
   "outputs": [
    {
     "data": {
      "text/plain": [
       "sum       3.582313e+06\n",
       "mean      3.581564e+00\n",
       "median    4.000000e+00\n",
       "min       1.000000e+00\n",
       "max       5.000000e+00\n",
       "std       1.117102e+00\n",
       "var       1.247917e+00\n",
       "mad       9.338609e-01\n",
       "prod      0.000000e+00\n",
       "Name: rating, dtype: float64"
      ]
     },
     "execution_count": 12,
     "metadata": {},
     "output_type": "execute_result"
    }
   ],
   "source": [
    "lens_df['rating'].agg( ['sum', 'mean', 'median', 'min', 'max', 'std', 'var', 'mad', 'prod'] )"
   ]
  },
  {
   "cell_type": "markdown",
   "metadata": {},
   "source": [
    "Now we want to find out a little about each individual movie itself. This is done by using the 'groupby' function to group the data by the title of each movie. I wanted to compute the average rating of each movie in the list, so I computed the mean rating of each movie and displayed it. This is to answer the question in the homework of \"which movies have the highest average rating?\" This question is not answered yet, but we are on our way."
   ]
  },
  {
   "cell_type": "code",
   "execution_count": 13,
   "metadata": {
    "scrolled": true
   },
   "outputs": [
    {
     "name": "stdout",
     "output_type": "stream",
     "text": [
      "title\n",
      "$1,000,000 Duck (1971)                        3.027027\n",
      "'Night Mother (1986)                          3.371429\n",
      "'Til There Was You (1997)                     2.692308\n",
      "'burbs, The (1989)                            2.910891\n",
      "...And Justice for All (1979)                 3.713568\n",
      "                                                ...   \n",
      "Zed & Two Noughts, A (1985)                   3.413793\n",
      "Zero Effect (1998)                            3.750831\n",
      "Zero Kelvin (Kjærlighetens kjøtere) (1995)    3.500000\n",
      "Zeus and Roxanne (1997)                       2.521739\n",
      "eXistenZ (1999)                               3.256098\n",
      "Name: rating, Length: 3706, dtype: float64\n"
     ]
    }
   ],
   "source": [
    "# this cell finds the average rating of the movies in this list \n",
    "df_title_ratings = lens_df.groupby([\"title\"])['rating'].mean()\n",
    "\n",
    "print(df_title_ratings)"
   ]
  },
  {
   "cell_type": "markdown",
   "metadata": {},
   "source": [
    "Now we need to sort the values to find the highest rated movies. However, you can see that the top choices have a rating of 5.0 exactly. This can tell us that the sample size of this movie is very small, and may not be representative of the larger population. To offset this, later in the assignment, I take only movies which have 10 ratings or more. This will give more realistic answers."
   ]
  },
  {
   "cell_type": "code",
   "execution_count": 14,
   "metadata": {},
   "outputs": [
    {
     "name": "stdout",
     "output_type": "stream",
     "text": [
      "                                            title\n",
      "rating                                           \n",
      "5.0                       Ulysses (Ulisse) (1954)\n",
      "5.0                                  Lured (1947)\n",
      "5.0                       Follow the Bitch (1998)\n",
      "5.0                      Bittersweet Motel (2000)\n",
      "5.0                        Song of Freedom (1936)\n",
      "5.0                      One Little Indian (1973)\n",
      "5.0                          Smashing Time (1967)\n",
      "5.0     Schlafes Bruder (Brother of Sleep) (1995)\n",
      "5.0            Gate of Heavenly Peace, The (1995)\n",
      "5.0                              Baby, The (1973)\n"
     ]
    }
   ],
   "source": [
    "## this line answers the questions \"What movies have the highest average rating from the data?\"\n",
    "print(df_title_ratings.reset_index().sort_values(['rating'], ascending=False).set_index(['rating']).head(10))"
   ]
  },
  {
   "cell_type": "code",
   "execution_count": 15,
   "metadata": {
    "scrolled": true
   },
   "outputs": [
    {
     "name": "stdout",
     "output_type": "stream",
     "text": [
      "                                                    title\n",
      "rating                                                   \n",
      "1.0                                Elstree Calling (1930)\n",
      "1.0                                    Get Over It (1996)\n",
      "1.0                                  Venice/Venice (1992)\n",
      "1.0                                        Windows (1980)\n",
      "1.0                    Kestrel's Eye (Falkens öga) (1998)\n",
      "1.0                                McCullochs, The (1975)\n",
      "1.0                                      Sleepover (1995)\n",
      "1.0     Torso (Corpi Presentano Tracce di Violenza Car...\n",
      "1.0           Spring Fever USA (a.k.a. Lauderdale) (1989)\n",
      "1.0                             Santa with Muscles (1996)\n"
     ]
    }
   ],
   "source": [
    "## this line answers the questions \"What movies have the lowest average rating from the data?\"\n",
    "print(df_title_ratings.reset_index().sort_values(['rating'], ascending=True).set_index(['rating']).head(10))"
   ]
  },
  {
   "cell_type": "markdown",
   "metadata": {},
   "source": [
    "Next, I wanted to answer the question \"what are the most watched movies?\" I did this by using the pivot_table command and agreggating the number of times each title is found in the data. I then sorted the data and found that the most watched movie in this dataset is \"American Beauty\". You can see the other top-watched movies below."
   ]
  },
  {
   "cell_type": "code",
   "execution_count": 16,
   "metadata": {},
   "outputs": [
    {
     "name": "stdout",
     "output_type": "stream",
     "text": [
      "title\n",
      "American Beauty (1999)                                   3428\n",
      "Star Wars: Episode IV - A New Hope (1977)                2991\n",
      "Star Wars: Episode V - The Empire Strikes Back (1980)    2990\n",
      "Star Wars: Episode VI - Return of the Jedi (1983)        2883\n",
      "Jurassic Park (1993)                                     2672\n",
      "Saving Private Ryan (1998)                               2653\n",
      "Terminator 2: Judgment Day (1991)                        2649\n",
      "Matrix, The (1999)                                       2590\n",
      "Back to the Future (1985)                                2583\n",
      "Silence of the Lambs, The (1991)                         2578\n",
      "dtype: int64\n"
     ]
    }
   ],
   "source": [
    "#The following finds the most-watched movies by grouping them by title and sorting\n",
    "count_movies = lens_df.pivot_table(columns=['title'], aggfunc='size').sort_values(ascending=False)\n",
    "#NOTE: I used the following link for learning to count duplicates: \n",
    "#https://datatofish.com/count-duplicates-pandas/\n",
    "print (count_movies.head(10))"
   ]
  },
  {
   "cell_type": "code",
   "execution_count": 17,
   "metadata": {
    "scrolled": true
   },
   "outputs": [
    {
     "name": "stdout",
     "output_type": "stream",
     "text": [
      "title\n",
      "Another Man's Poison (1952)                                              1\n",
      "Night Tide (1961)                                                        1\n",
      "Shadows (Cienie) (1988)                                                  1\n",
      "McCullochs, The (1975)                                                   1\n",
      "Anna (1996)                                                              1\n",
      "Target (1995)                                                            1\n",
      "Even Dwarfs Started Small (Auch Zwerge haben klein angefangen) (1971)    1\n",
      "Tashunga (1995)                                                          1\n",
      "Waltzes from Vienna (1933)                                               1\n",
      "Open Season (1996)                                                       1\n",
      "dtype: int64\n"
     ]
    }
   ],
   "source": [
    "#The following finds the least-watched movies by grouping them by title and sorting\n",
    "count_movies = lens_df.pivot_table(columns=['title'], aggfunc='size').sort_values(ascending=True)\n",
    "print (count_movies.head(10))"
   ]
  },
  {
   "cell_type": "markdown",
   "metadata": {},
   "source": [
    "Next, I wanted to answer the question \"Which users have rated the most movies?\" This will show us who really is the true movie buff or not. I used the same pivot_table command to group the data by user_id. Then I sorted the data and displayed it. User 4169 has watched and rated over 2300 movies!!! That is a lot of movies for sure. "
   ]
  },
  {
   "cell_type": "code",
   "execution_count": 18,
   "metadata": {},
   "outputs": [
    {
     "name": "stdout",
     "output_type": "stream",
     "text": [
      "user_id\n",
      "4169    2314\n",
      "1680    1850\n",
      "4277    1743\n",
      "1941    1595\n",
      "1181    1521\n",
      "889     1518\n",
      "3618    1344\n",
      "2063    1323\n",
      "1150    1302\n",
      "1015    1286\n",
      "dtype: int64\n"
     ]
    }
   ],
   "source": [
    "# this cell answers the question \"which users have rated the most movies?\"\n",
    "count_users = lens_df.pivot_table(columns=['user_id'], aggfunc='size').sort_values(ascending=False)\n",
    "print(count_users.head(10))"
   ]
  },
  {
   "cell_type": "markdown",
   "metadata": {},
   "source": [
    "Finally, in the next cell, we export the merged data so we have it stored somewhere. "
   ]
  },
  {
   "cell_type": "code",
   "execution_count": 19,
   "metadata": {},
   "outputs": [],
   "source": [
    "lens_df.to_csv('movie_lens_merged.csv',index=False)"
   ]
  },
  {
   "cell_type": "markdown",
   "metadata": {},
   "source": [
    "#### Related Homework Assignment Questions\n",
    "\n",
    "From the above cells, I've answered the questions below:\n",
    "\n",
    "2) Using the functions demonstrated in `1_Data_Analytics_Pandas_Basics.ipynb` answer the following questions:\n",
    "\n",
    "    * Which movie(s) has the highest average rating? \n",
    "    \n",
    "        To get a more accurate picture of the highest \"average\" rating, there needs to first be an average. To do this, I excluded any movies with less than 10 ratings. After doing that, I found the highest rated movies to be:\n",
    "        **I am Cuba\n",
    "        **Lamerica\n",
    "        **Apple, The (Sib)\n",
    "        **Sanjuro\n",
    "        **Seven Samurai (The Magnificent Seven)\n",
    "        **Shawshank Redemption, The\n",
    "        **Godfather, The\n",
    "        **Close Shave, A\n",
    "        **Usual Suspects, The\n",
    "        **Schindler's List\n",
    "        \n",
    "    * What about the movie(s) with the lowest rating?\n",
    "    \n",
    "        Doing the same as with the question above, I excluded any movies with less than 10 ratings. Doing that, I found the movies with the lowest ratings were:\n",
    "        \n",
    "        **Santa with Muscles\n",
    "        **Carnosaur 3: Primal Species\n",
    "        **Slaughterhouse 2\n",
    "        **Brenda Starr\n",
    "        **Time Tracers\n",
    "        **Turbo: A Power Rangers Movie\n",
    "        **3 Ninjas: High Noon on Mega Mountain\n",
    "        **Amityville 3-D\n",
    "        **Carnosaur 2\n",
    "        **Prom Night III: The Last Kiss\n",
    "        \n",
    "    * Which movie(s) has the most ratings in our dataset?\n",
    "    \n",
    "        I found the movies with the most ratings in the dataset to be:\n",
    "        \n",
    "        **American Beauty (1999)                                   2482\n",
    "        **Star Wars: Episode IV - A New Hope (1977)                2344\n",
    "        **Star Wars: Episode V - The Empire Strikes Back (1980)    2342\n",
    "        **Star Wars: Episode VI - Return of the Jedi (1983)        2230\n",
    "        **Terminator 2: Judgment Day (1991)                        2193\n",
    "        **Jurassic Park (1993)                                     2099\n",
    "        **Saving Private Ryan (1998)                               2078\n",
    "        **Matrix, The (1999)                                       2076\n",
    "        **Men in Black (1997)                                      2000\n",
    "        **Back to the Future (1985)                                1944\n",
    "        \n",
    "    * List the 10 users who have rated the most movies?\n",
    "    \n",
    "        The users who have rated the most movies are:\n",
    "        \n",
    "        **user_id count\n",
    "        **4169    2314\n",
    "        **1680    1850\n",
    "        **4277    1743\n",
    "        **1941    1595\n",
    "        **1181    1521\n",
    "        **889     1518\n",
    "        **3618    1344\n",
    "        **2063    1323\n",
    "        **1150    1302\n",
    "        **1015    1286"
   ]
  },
  {
   "cell_type": "markdown",
   "metadata": {},
   "source": [
    "One major part of the homework assignment this week is to ask 5 questions of the data, and go about answering them using the functions from the week 1 reading. I found myself asking the following questions of the data:\n",
    "#### 1. What is the general tendency for rating across all users?\n",
    "#### 2. Who rates movies higher, women or men?\n",
    "#### 3. Who watches more movies, males or females?\n",
    "#### 4. What are the top 10 most watched movies for males? What about females?\n",
    "#### 5. What are the top 10 least watched movies for females and males?\n",
    "#### 6. Drop any movies that were rated less than 10 times, and compute some facts about the remaining data\n",
    "#### 7. What are the relative ages of all these movie-watchers? Use a box plot"
   ]
  },
  {
   "cell_type": "markdown",
   "metadata": {},
   "source": [
    "The first question I set to answer was \"What is the general tendency for rating across all users? I used a histogram to answer this question visually as the histogram shows the general shape of the data. Most users seem to give their movies a 4 rating it looks like!"
   ]
  },
  {
   "cell_type": "code",
   "execution_count": 20,
   "metadata": {},
   "outputs": [
    {
     "data": {
      "text/plain": [
       "array([[<AxesSubplot:title={'center':'rating'}>]], dtype=object)"
      ]
     },
     "execution_count": 20,
     "metadata": {},
     "output_type": "execute_result"
    },
    {
     "data": {
      "image/png": "[encoded data removed]",
      "text/plain": [
       "<Figure size 432x288 with 1 Axes>"
      ]
     },
     "metadata": {
      "needs_background": "light"
     },
     "output_type": "display_data"
    }
   ],
   "source": [
    "# Questions I want to answer:\n",
    "# 1. What is the general tendency for rating across all users?\n",
    "lens_df.hist(column='rating')"
   ]
  },
  {
   "cell_type": "markdown",
   "metadata": {},
   "source": [
    "The next question I wanted to answer was: who rates movies higher, men or women? I found that they were pretty equal! From the cell below, it seems like women tended to rate movies a tad more favorably than men, but overall the average rating of movies for men vs. women were about the same value."
   ]
  },
  {
   "cell_type": "code",
   "execution_count": 21,
   "metadata": {},
   "outputs": [
    {
     "name": "stdout",
     "output_type": "stream",
     "text": [
      "sex\n",
      "F    3.620366\n",
      "M    3.568879\n",
      "Name: rating, dtype: float64\n"
     ]
    }
   ],
   "source": [
    "# 2. Who rates movies higher, women or men?\n",
    "#df_title_ratings = lens_df.groupby([\"title\"])['rating'].mean()\n",
    "df_male_ratings = lens_df.groupby(['sex'])['rating'].mean()\n",
    "print(df_male_ratings)\n"
   ]
  },
  {
   "cell_type": "markdown",
   "metadata": {},
   "source": [
    "Next, to continue with the male-female rabbit hole, I wanted to answer the questions \"who watched more movies, males or females?\" From the cell below, it appears that males watch more than 3x the amount of movies that females do!! Or at least they felt compelled to provide a rating 3x more frequently for the movies they watched. That drastic difference was shocking to me. I don't know what I was expecting, but it wasn't that."
   ]
  },
  {
   "cell_type": "code",
   "execution_count": 22,
   "metadata": {},
   "outputs": [
    {
     "data": {
      "text/plain": [
       "sex\n",
       "M    753769\n",
       "F    246440\n",
       "dtype: int64"
      ]
     },
     "execution_count": 22,
     "metadata": {},
     "output_type": "execute_result"
    }
   ],
   "source": [
    "# 3. Who watches more movies, males or females?\n",
    "lens_df.pivot_table(columns=['sex'], aggfunc='size').sort_values(ascending=False)\n"
   ]
  },
  {
   "cell_type": "markdown",
   "metadata": {},
   "source": [
    "Next, I wanted to split the dataframe into an entirely male dataframe, and an entirely female dataframe. I used the 'loc' function to achieve this, combined with a boolean argument of ['sex'] == 'M' or ['sex'] == 'F'. I wanted to see what the top 10 most watched movies for males and females were. I used the similar pivot_table function to achieve this. You can see the result below. Both males and females watched and rated \"American Beauty\" the most!"
   ]
  },
  {
   "cell_type": "code",
   "execution_count": 23,
   "metadata": {
    "scrolled": true
   },
   "outputs": [
    {
     "name": "stdout",
     "output_type": "stream",
     "text": [
      "Males Most Watched Movies\n",
      "title\n",
      "American Beauty (1999)                                   2482\n",
      "Star Wars: Episode IV - A New Hope (1977)                2344\n",
      "Star Wars: Episode V - The Empire Strikes Back (1980)    2342\n",
      "Star Wars: Episode VI - Return of the Jedi (1983)        2230\n",
      "Terminator 2: Judgment Day (1991)                        2193\n",
      "Jurassic Park (1993)                                     2099\n",
      "Saving Private Ryan (1998)                               2078\n",
      "Matrix, The (1999)                                       2076\n",
      "Men in Black (1997)                                      2000\n",
      "Back to the Future (1985)                                1944\n",
      "dtype: int64\n",
      "\n",
      "Females Most Watched Movies\n",
      "title\n",
      "American Beauty (1999)                                   946\n",
      "Shakespeare in Love (1998)                               798\n",
      "Silence of the Lambs, The (1991)                         706\n",
      "Sixth Sense, The (1999)                                  664\n",
      "Groundhog Day (1993)                                     658\n",
      "Fargo (1996)                                             657\n",
      "Star Wars: Episode VI - Return of the Jedi (1983)        653\n",
      "Star Wars: Episode V - The Empire Strikes Back (1980)    648\n",
      "Star Wars: Episode IV - A New Hope (1977)                647\n",
      "Forrest Gump (1994)                                      644\n",
      "dtype: int64\n"
     ]
    }
   ],
   "source": [
    "# 4. What are the top 10 most watched movies for males?\n",
    "df_males = lens_df.loc[(lens_df['sex'] == 'M')]\n",
    "df_females = lens_df.loc[(lens_df['sex'] == 'F')]\n",
    "#NOTE: I used this website for only choosing rows with a certain column value (in this case, 'M' or 'F')\n",
    "#https://www.statology.org/pandas-select-rows-based-on-column-values/\n",
    "print('Males Most Watched Movies')\n",
    "print(df_males.pivot_table(columns=['title'], aggfunc='size').sort_values(ascending=False).head(10))\n",
    "\n",
    "\n",
    "#    What are the top 10 most watched movies for females?\n",
    "print('\\nFemales Most Watched Movies')\n",
    "print(df_females.pivot_table(columns=['title'], aggfunc='size').sort_values(ascending=False).head(10))"
   ]
  },
  {
   "cell_type": "markdown",
   "metadata": {},
   "source": [
    "Along the same vein, I wanted to find the least watched movies for males and females. This was achieved easily using the same functions but sorting them in 'ascending' order instead of descending."
   ]
  },
  {
   "cell_type": "code",
   "execution_count": 24,
   "metadata": {},
   "outputs": [
    {
     "name": "stdout",
     "output_type": "stream",
     "text": [
      "Males Least Watched Movies\n",
      "title\n",
      "Beauty (1998)                                                            1\n",
      "Somewhere in the City (1997)                                             1\n",
      "Fantastic Night, The (La Nuit Fantastique) (1949)                        1\n",
      "Sonic Outlaws (1995)                                                     1\n",
      "Bat Whispers, The (1930)                                                 1\n",
      "Uninvited Guest, An (2000)                                               1\n",
      "Last Time I Saw Paris, The (1954)                                        1\n",
      "Last of the High Kings, The (a.k.a. Summer Fling) (1996)                 1\n",
      "Coming Apart (1969)                                                      1\n",
      "Even Dwarfs Started Small (Auch Zwerge haben klein angefangen) (1971)    1\n",
      "dtype: int64\n",
      "\n",
      "Females Least Watched Movies\n",
      "title\n",
      "Big Combo, The (1955)                  1\n",
      "Ogre, The (Der Unhold) (1996)          1\n",
      "Bittersweet Motel (2000)               1\n",
      "Cheetah (1989)                         1\n",
      "I Am Cuba (Soy Cuba/Ya Kuba) (1964)    1\n",
      "Last Resort (1994)                     1\n",
      "Show, The (1995)                       1\n",
      "Coming Apart (1969)                    1\n",
      "Shopping (1994)                        1\n",
      "Raw Deal (1948)                        1\n",
      "dtype: int64\n"
     ]
    }
   ],
   "source": [
    "# 5. What are the top 10 least watched movies for females and males?\n",
    "print('Males Least Watched Movies')\n",
    "print(df_males.pivot_table(columns=['title'], aggfunc='size').sort_values(ascending=True).head(10))\n",
    "\n",
    "print('\\nFemales Least Watched Movies')\n",
    "print(df_females.pivot_table(columns=['title'], aggfunc='size').sort_values(ascending=True).head(10))"
   ]
  },
  {
   "cell_type": "markdown",
   "metadata": {},
   "source": [
    "Finally, below is what I alluded to in the sections above. I found that the highest average ratings were not telling of the overall population because they seemed to have '5.0' exactly, where I would expect some variance from a perfect 5.0 score, if the sample size is adequately high. Therefore, I chose to remove any movies which had less than 10 ratings by users. I found much more satisfying average ratings. Please see below."
   ]
  },
  {
   "cell_type": "code",
   "execution_count": 25,
   "metadata": {},
   "outputs": [
    {
     "name": "stdout",
     "output_type": "stream",
     "text": [
      "title\n",
      "$1,000,000 Duck (1971)               3.027027\n",
      "'Night Mother (1986)                 3.371429\n",
      "'Til There Was You (1997)            2.692308\n",
      "'burbs, The (1989)                   2.910891\n",
      "...And Justice for All (1979)        3.713568\n",
      "                                       ...   \n",
      "Your Friends and Neighbors (1998)    3.376147\n",
      "Zed & Two Noughts, A (1985)          3.413793\n",
      "Zero Effect (1998)                   3.750831\n",
      "Zeus and Roxanne (1997)              2.521739\n",
      "eXistenZ (1999)                      3.256098\n",
      "Name: rating, Length: 3416, dtype: float64\n"
     ]
    }
   ],
   "source": [
    "# 6. Drop any movies that were rated less than 10 times, \n",
    "#    and compute some facts about the remaining data\n",
    "common_movies = lens_df.groupby('title').filter(lambda x: x['rating'].count() >= 5)\n",
    "df_common_titles = common_movies.groupby([\"title\"])['rating'].mean()\n",
    "print(df_common_titles)"
   ]
  },
  {
   "cell_type": "code",
   "execution_count": 26,
   "metadata": {},
   "outputs": [
    {
     "name": "stdout",
     "output_type": "stream",
     "text": [
      "                                                      title\n",
      "rating                                                     \n",
      "4.800000                I Am Cuba (Soy Cuba/Ya Kuba) (1964)\n",
      "4.750000                                    Lamerica (1994)\n",
      "4.666667                            Apple, The (Sib) (1998)\n",
      "4.608696                                     Sanjuro (1962)\n",
      "4.560510  Seven Samurai (The Magnificent Seven) (Shichin...\n",
      "4.554558                   Shawshank Redemption, The (1994)\n",
      "4.524966                              Godfather, The (1972)\n",
      "4.520548                              Close Shave, A (1995)\n",
      "4.517106                         Usual Suspects, The (1995)\n",
      "4.510417                            Schindler's List (1993)\n"
     ]
    }
   ],
   "source": [
    "#These are the top 10 movies from 10 or more users\n",
    "print(df_common_titles.reset_index().sort_values(['rating'], ascending=False).set_index(['rating']).head(10))"
   ]
  },
  {
   "cell_type": "code",
   "execution_count": 27,
   "metadata": {
    "scrolled": true
   },
   "outputs": [
    {
     "name": "stdout",
     "output_type": "stream",
     "text": [
      "                                                title\n",
      "rating                                               \n",
      "1.000000                    Santa with Muscles (1996)\n",
      "1.058824           Carnosaur 3: Primal Species (1996)\n",
      "1.142857                      Slaughterhouse 2 (1988)\n",
      "1.166667                          Brenda Starr (1989)\n",
      "1.285714                          Time Tracers (1995)\n",
      "1.318182          Turbo: A Power Rangers Movie (1997)\n",
      "1.361702  3 Ninjas: High Noon On Mega Mountain (1998)\n",
      "1.372093                        Amityville 3-D (1983)\n",
      "1.461538                           Carnosaur 2 (1995)\n",
      "1.466667         Prom Night III: The Last Kiss (1989)\n"
     ]
    }
   ],
   "source": [
    "#These are the least liked 10 movies from 10 or more users\n",
    "print(df_common_titles.reset_index().sort_values(['rating'], ascending=True).set_index(['rating']).head(10))"
   ]
  },
  {
   "cell_type": "markdown",
   "metadata": {},
   "source": [
    "Finlly, I wanted to explore the ages of the users involved in this dataset. I created a boxplot based on the age of the user which submitted the rating. You can see the data centers around age 30, with a 25% quartile of 25 and a 75% quartile of 35. "
   ]
  },
  {
   "cell_type": "code",
   "execution_count": 28,
   "metadata": {},
   "outputs": [
    {
     "data": {
      "text/plain": [
       "<AxesSubplot:>"
      ]
     },
     "execution_count": 28,
     "metadata": {},
     "output_type": "execute_result"
    },
    {
     "data": {
      "image/png": "[encoded data removed]",
      "text/plain": [
       "<Figure size 432x288 with 1 Axes>"
      ]
     },
     "metadata": {
      "needs_background": "light"
     },
     "output_type": "display_data"
    }
   ],
   "source": [
    "# 7. What are the relative ages of all these movie-watchers? Use a box plot\n",
    "lens_df.boxplot('age')"
   ]
  },
  {
   "cell_type": "code",
   "execution_count": null,
   "metadata": {},
   "outputs": [],
   "source": []
  },
  {
   "cell_type": "markdown",
   "metadata": {},
   "source": [
    "# V. Conclusion\n",
    "This assignment brought me back to pandas and got me working with data again! It's been fun to see the different statistics, and come up with my own questions that I can answer. I found I was more interested in the questions since I came up with them, and found it interesting that males and females were similar in their overall average ratings, but vastly different in the quantity of ratings they each provided. Males were much more likely to have a rating in this database. \n",
    "\n",
    "Please let me know if you have any questions! Thank you.\n",
    "All the best,\n",
    "Jeremy"
   ]
  },
  {
   "cell_type": "markdown",
   "metadata": {},
   "source": [
    "# VI. References\n",
    "MSDS 650 - Week 1 Content:\n",
    "\n",
    "1.) Class datasets provided for this assignment: ratings.csv, movies.csv, users.csv\n",
    "\n",
    "2.) From the Experts PDF: Week 1\n",
    "\n",
    "3.) Week 2 Assignment Lab (Jupyter Notebook)\n",
    "\n",
    "4.) https://www.statology.org/pandas-select-rows-based-on-column-values/\n",
    "    \n",
    "5.) https://datatofish.com/count-duplicates-pandas/"
   ]
  },
  {
   "cell_type": "markdown",
   "metadata": {},
   "source": [
    "# Deliverables\n",
    "Upload your Jupyter Notebook to the corresponding location in WorldClass. \n",
    "\n",
    "**Note::** Make sure you have clearly indicated each assignment requirement within your notebook. Also, I <u><i><b>highly encourage</b></i></u> you to use markdown text to create a notebook that integrates your analysis within your code. Refer to the GettingStarted notebook to understand the difference between markdown text and comments."
   ]
  },
  {
   "cell_type": "markdown",
   "metadata": {},
   "source": [
    "\n"
   ]
  }
 ],
 "metadata": {
  "kernelspec": {
   "display_name": "DS-jupyter",
   "language": "python",
   "name": "ds-jupyter"
  },
  "language_info": {
   "codemirror_mode": {
    "name": "ipython",
    "version": 3
   },
   "file_extension": ".py",
   "mimetype": "text/x-python",
   "name": "python",
   "nbconvert_exporter": "python",
   "pygments_lexer": "ipython3",
   "version": "3.9.10"
  }
 },
 "nbformat": 4,
 "nbformat_minor": 4
}
