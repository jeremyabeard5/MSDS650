{
 "cells": [
  {
   "cell_type": "markdown",
   "metadata": {},
   "source": [
    "* Jeremy Beard\n",
    "* Due 20220424\n",
    "* Week 7\n",
    "* MSDS650\n",
    "* Genie Hays"
   ]
  },
  {
   "cell_type": "markdown",
   "metadata": {},
   "source": [
    "# Week 7 Lab: Text Analytics"
   ]
  },
  {
   "cell_type": "markdown",
   "metadata": {},
   "source": [
    "<img align=\"right\" style=\"padding-right:10px;\" src=\"figures_wk7/topic_modeling.png\" width=400><br>\n",
    "\n",
    "This week's assignment will focus on text analysis of BBC News articles.\n",
    "\n",
    "## Our Dataset: \n",
    "**Dataset:** bbc.csv(Provided in folder assign_wk7)<br>\n",
    "Consists of 2225 documents from the BBC news website corresponding to stories in five topical areas from 2004-2005. <br>\n",
    "Class Labels: 5 (business, entertainment, politics, sport, tech)\n",
    "\n",
    "## Text Analytics Lab\n",
    "\n",
    "**Objective:** \n",
    "To demostrate all of the text analysis techniques covered int his week's lecture material. Your submission needs to include the following:\n",
    "   - Preparation of the text data for analysis\n",
    "       * Elimination of stopwords, punctuation, digits, lowercase\n",
    "   - Identify the 10 most frequently used words in the text\n",
    "       * How about the ten least frequently used words? \n",
    "       * How does lemmatization change the most/least frequent words?\n",
    "           - Explain and demonstrate this topic\n",
    "   - Generate a world cloud for the text\n",
    "   - Demonstrate the generation of n-grams and part of speech tagging\n",
    "   - Create a Topic model of the text\n",
    "       * Find the optimal number of topics\n",
    "       * test the accuracy of your model\n",
    "       * Display your results 2 different ways.\n",
    "           1) Print the topics and explain any insights at this point.\n",
    "           2) Graph the topics and explain any insights at this point.\n"
   ]
  },
  {
   "cell_type": "markdown",
   "metadata": {},
   "source": [
    "### Deliverables:\n",
    "\n",
    "Upload your notebook's .ipynb file and your topic_model_viz.html page this week.\n",
    "   \n",
    "**Important:** Make sure your provide complete and thorough explanations for all of your analysis. You need to defend your thought processes and reasoning."
   ]
  },
  {
   "cell_type": "markdown",
   "metadata": {},
   "source": [
    "Reference:\n",
    "> Graphic comes from https://medium.com/nanonets/topic-modeling-with-lsa-psla-lda-and-lda2vec-555ff65b0b05"
   ]
  },
  {
   "cell_type": "markdown",
   "metadata": {},
   "source": [
    "# I. Introduction"
   ]
  },
  {
   "cell_type": "markdown",
   "metadata": {},
   "source": [
    "In this assignment we will begin to explore the world of text analysis and text analytics. We will take some data from BBC News, clean it, and perform some analytics on the data such as identifying frequently used words, generate word clouds, exploring n-grams and part-of-speech tagging, and finding an optimal topic number for use in a Latent Dirichlet Allocation (LDA) model. Let's begin!"
   ]
  },
  {
   "cell_type": "markdown",
   "metadata": {},
   "source": [
    "# II. Methods, III. Code, and IV. Analysis of Results"
   ]
  },
  {
   "cell_type": "code",
   "execution_count": 1,
   "metadata": {},
   "outputs": [],
   "source": [
    "# Preparation of the text data for analysis\n",
    "##  Elimination of stopwords, punctuation, digits, lowercase\n",
    "\n",
    "# Identify the 10 most frequently used words in the text\n",
    "##  How about the ten least frequently used words?\n",
    "##  How does lemmatization change the most/least frequent words?\n",
    "###   Explain and demonstrate this topic\n",
    "\n",
    "# Generate a world cloud for the text\n",
    "\n",
    "# Demonstrate the generation of n-grams and part of speech tagging\n",
    "\n",
    "# Create a Topic model of the text\n",
    "##  Find the optimal number of topics\n",
    "##  test the accuracy of your model\n",
    "##  Display your results 2 different ways. \n",
    "###   1) Print the topics and explain any insights at this point. \n",
    "###   2) Graph the topics and explain any insights at this point."
   ]
  },
  {
   "cell_type": "markdown",
   "metadata": {},
   "source": [
    "###### Prep of Text Data for Analysis"
   ]
  },
  {
   "cell_type": "code",
   "execution_count": 2,
   "metadata": {},
   "outputs": [
    {
     "name": "stderr",
     "output_type": "stream",
     "text": [
      "C:\\Users\\jerem\\AppData\\Local\\Packages\\PythonSoftwareFoundation.Python.3.9_qbz5n2kfra8p0\\LocalCache\\local-packages\\Python39\\site-packages\\sklearn\\decomposition\\_lda.py:28: DeprecationWarning: `np.float` is a deprecated alias for the builtin `float`. To silence this warning, use `float` by itself. Doing this will not modify any behavior and is safe. If you specifically wanted the numpy scalar type, use `np.float64` here.\n",
      "Deprecated in NumPy 1.20; for more details and guidance: https://numpy.org/devdocs/release/1.20.0-notes.html#deprecations\n",
      "  EPS = np.finfo(np.float).eps\n"
     ]
    }
   ],
   "source": [
    "import pandas as pd\n",
    "import numpy as np\n",
    "import matplotlib.pyplot as plt\n",
    "import seaborn as sns\n",
    "\n",
    "from nltk.corpus import stopwords, words\n",
    "import nltk\n",
    "from nltk.stem import WordNetLemmatizer\n",
    "\n",
    "from wordcloud import WordCloud\n",
    "\n",
    "from nltk.tag import pos_tag\n",
    "from collections import Counter\n",
    "\n",
    "import gensim\n",
    "import gensim.corpora as corpora\n",
    "\n",
    "from gensim.models import CoherenceModel\n",
    "\n",
    "import pyLDAvis\n",
    "import pyLDAvis.gensim_models\n",
    "\n",
    "import warnings\n",
    "warnings.filterwarnings(\"ignore\")\n",
    "\n",
    "%matplotlib inline\n",
    "sns.set()"
   ]
  },
  {
   "cell_type": "code",
   "execution_count": 3,
   "metadata": {},
   "outputs": [],
   "source": [
    "df = pd.read_csv(\"assign_wk7/bbc.csv\")\n",
    "df.columns = ['id', 'news_raw', 'news_type']"
   ]
  },
  {
   "cell_type": "code",
   "execution_count": 4,
   "metadata": {},
   "outputs": [
    {
     "data": {
      "text/html": [
       "<div>\n",
       "<style scoped>\n",
       "    .dataframe tbody tr th:only-of-type {\n",
       "        vertical-align: middle;\n",
       "    }\n",
       "\n",
       "    .dataframe tbody tr th {\n",
       "        vertical-align: top;\n",
       "    }\n",
       "\n",
       "    .dataframe thead th {\n",
       "        text-align: right;\n",
       "    }\n",
       "</style>\n",
       "<table border=\"1\" class=\"dataframe\">\n",
       "  <thead>\n",
       "    <tr style=\"text-align: right;\">\n",
       "      <th></th>\n",
       "      <th>id</th>\n",
       "      <th>news_raw</th>\n",
       "      <th>news_type</th>\n",
       "    </tr>\n",
       "  </thead>\n",
       "  <tbody>\n",
       "    <tr>\n",
       "      <th>0</th>\n",
       "      <td>0</td>\n",
       "      <td>UK economy facing 'major risks'\\n \\n The UK ma...</td>\n",
       "      <td>business</td>\n",
       "    </tr>\n",
       "    <tr>\n",
       "      <th>1</th>\n",
       "      <td>1</td>\n",
       "      <td>Aids and climate top Davos agenda\\n \\n Climate...</td>\n",
       "      <td>business</td>\n",
       "    </tr>\n",
       "    <tr>\n",
       "      <th>2</th>\n",
       "      <td>2</td>\n",
       "      <td>Asian quake hits European shares\\n \\n Shares i...</td>\n",
       "      <td>business</td>\n",
       "    </tr>\n",
       "    <tr>\n",
       "      <th>3</th>\n",
       "      <td>3</td>\n",
       "      <td>India power shares jump on debut\\n \\n Shares i...</td>\n",
       "      <td>business</td>\n",
       "    </tr>\n",
       "    <tr>\n",
       "      <th>4</th>\n",
       "      <td>4</td>\n",
       "      <td>Lacroix label bought by US firm\\n \\n Luxury go...</td>\n",
       "      <td>business</td>\n",
       "    </tr>\n",
       "  </tbody>\n",
       "</table>\n",
       "</div>"
      ],
      "text/plain": [
       "   id                                           news_raw news_type\n",
       "0   0  UK economy facing 'major risks'\\n \\n The UK ma...  business\n",
       "1   1  Aids and climate top Davos agenda\\n \\n Climate...  business\n",
       "2   2  Asian quake hits European shares\\n \\n Shares i...  business\n",
       "3   3  India power shares jump on debut\\n \\n Shares i...  business\n",
       "4   4  Lacroix label bought by US firm\\n \\n Luxury go...  business"
      ]
     },
     "execution_count": 4,
     "metadata": {},
     "output_type": "execute_result"
    }
   ],
   "source": [
    "df.head()"
   ]
  },
  {
   "cell_type": "code",
   "execution_count": 5,
   "metadata": {},
   "outputs": [
    {
     "data": {
      "text/html": [
       "<div>\n",
       "<style scoped>\n",
       "    .dataframe tbody tr th:only-of-type {\n",
       "        vertical-align: middle;\n",
       "    }\n",
       "\n",
       "    .dataframe tbody tr th {\n",
       "        vertical-align: top;\n",
       "    }\n",
       "\n",
       "    .dataframe thead th {\n",
       "        text-align: right;\n",
       "    }\n",
       "</style>\n",
       "<table border=\"1\" class=\"dataframe\">\n",
       "  <thead>\n",
       "    <tr style=\"text-align: right;\">\n",
       "      <th></th>\n",
       "      <th>id</th>\n",
       "      <th>news_raw</th>\n",
       "      <th>news_type</th>\n",
       "      <th>word_count</th>\n",
       "    </tr>\n",
       "  </thead>\n",
       "  <tbody>\n",
       "    <tr>\n",
       "      <th>0</th>\n",
       "      <td>0</td>\n",
       "      <td>UK economy facing 'major risks'\\n \\n The UK ma...</td>\n",
       "      <td>business</td>\n",
       "      <td>329</td>\n",
       "    </tr>\n",
       "    <tr>\n",
       "      <th>1</th>\n",
       "      <td>1</td>\n",
       "      <td>Aids and climate top Davos agenda\\n \\n Climate...</td>\n",
       "      <td>business</td>\n",
       "      <td>454</td>\n",
       "    </tr>\n",
       "    <tr>\n",
       "      <th>2</th>\n",
       "      <td>2</td>\n",
       "      <td>Asian quake hits European shares\\n \\n Shares i...</td>\n",
       "      <td>business</td>\n",
       "      <td>553</td>\n",
       "    </tr>\n",
       "    <tr>\n",
       "      <th>3</th>\n",
       "      <td>3</td>\n",
       "      <td>India power shares jump on debut\\n \\n Shares i...</td>\n",
       "      <td>business</td>\n",
       "      <td>175</td>\n",
       "    </tr>\n",
       "    <tr>\n",
       "      <th>4</th>\n",
       "      <td>4</td>\n",
       "      <td>Lacroix label bought by US firm\\n \\n Luxury go...</td>\n",
       "      <td>business</td>\n",
       "      <td>152</td>\n",
       "    </tr>\n",
       "  </tbody>\n",
       "</table>\n",
       "</div>"
      ],
      "text/plain": [
       "   id                                           news_raw news_type  word_count\n",
       "0   0  UK economy facing 'major risks'\\n \\n The UK ma...  business         329\n",
       "1   1  Aids and climate top Davos agenda\\n \\n Climate...  business         454\n",
       "2   2  Asian quake hits European shares\\n \\n Shares i...  business         553\n",
       "3   3  India power shares jump on debut\\n \\n Shares i...  business         175\n",
       "4   4  Lacroix label bought by US firm\\n \\n Luxury go...  business         152"
      ]
     },
     "execution_count": 5,
     "metadata": {},
     "output_type": "execute_result"
    }
   ],
   "source": [
    "# first, I will perform some word count and character counts\n",
    "df['word_count'] = df.news_raw.apply(lambda x: len(str(x).split(\" \")))\n",
    "df.head()"
   ]
  },
  {
   "cell_type": "code",
   "execution_count": 6,
   "metadata": {},
   "outputs": [
    {
     "data": {
      "text/html": [
       "<div>\n",
       "<style scoped>\n",
       "    .dataframe tbody tr th:only-of-type {\n",
       "        vertical-align: middle;\n",
       "    }\n",
       "\n",
       "    .dataframe tbody tr th {\n",
       "        vertical-align: top;\n",
       "    }\n",
       "\n",
       "    .dataframe thead th {\n",
       "        text-align: right;\n",
       "    }\n",
       "</style>\n",
       "<table border=\"1\" class=\"dataframe\">\n",
       "  <thead>\n",
       "    <tr style=\"text-align: right;\">\n",
       "      <th></th>\n",
       "      <th>id</th>\n",
       "      <th>news_raw</th>\n",
       "      <th>news_type</th>\n",
       "      <th>word_count</th>\n",
       "      <th>char_count</th>\n",
       "    </tr>\n",
       "  </thead>\n",
       "  <tbody>\n",
       "    <tr>\n",
       "      <th>0</th>\n",
       "      <td>0</td>\n",
       "      <td>UK economy facing 'major risks'\\n \\n The UK ma...</td>\n",
       "      <td>business</td>\n",
       "      <td>329</td>\n",
       "      <td>1996</td>\n",
       "    </tr>\n",
       "    <tr>\n",
       "      <th>1</th>\n",
       "      <td>1</td>\n",
       "      <td>Aids and climate top Davos agenda\\n \\n Climate...</td>\n",
       "      <td>business</td>\n",
       "      <td>454</td>\n",
       "      <td>2727</td>\n",
       "    </tr>\n",
       "    <tr>\n",
       "      <th>2</th>\n",
       "      <td>2</td>\n",
       "      <td>Asian quake hits European shares\\n \\n Shares i...</td>\n",
       "      <td>business</td>\n",
       "      <td>553</td>\n",
       "      <td>3444</td>\n",
       "    </tr>\n",
       "    <tr>\n",
       "      <th>3</th>\n",
       "      <td>3</td>\n",
       "      <td>India power shares jump on debut\\n \\n Shares i...</td>\n",
       "      <td>business</td>\n",
       "      <td>175</td>\n",
       "      <td>1038</td>\n",
       "    </tr>\n",
       "    <tr>\n",
       "      <th>4</th>\n",
       "      <td>4</td>\n",
       "      <td>Lacroix label bought by US firm\\n \\n Luxury go...</td>\n",
       "      <td>business</td>\n",
       "      <td>152</td>\n",
       "      <td>894</td>\n",
       "    </tr>\n",
       "  </tbody>\n",
       "</table>\n",
       "</div>"
      ],
      "text/plain": [
       "   id                                           news_raw news_type  \\\n",
       "0   0  UK economy facing 'major risks'\\n \\n The UK ma...  business   \n",
       "1   1  Aids and climate top Davos agenda\\n \\n Climate...  business   \n",
       "2   2  Asian quake hits European shares\\n \\n Shares i...  business   \n",
       "3   3  India power shares jump on debut\\n \\n Shares i...  business   \n",
       "4   4  Lacroix label bought by US firm\\n \\n Luxury go...  business   \n",
       "\n",
       "   word_count  char_count  \n",
       "0         329        1996  \n",
       "1         454        2727  \n",
       "2         553        3444  \n",
       "3         175        1038  \n",
       "4         152         894  "
      ]
     },
     "execution_count": 6,
     "metadata": {},
     "output_type": "execute_result"
    }
   ],
   "source": [
    "df['char_count'] = df.news_raw.str.len()\n",
    "df.head()"
   ]
  },
  {
   "cell_type": "code",
   "execution_count": 7,
   "metadata": {},
   "outputs": [
    {
     "data": {
      "text/html": [
       "<div>\n",
       "<style scoped>\n",
       "    .dataframe tbody tr th:only-of-type {\n",
       "        vertical-align: middle;\n",
       "    }\n",
       "\n",
       "    .dataframe tbody tr th {\n",
       "        vertical-align: top;\n",
       "    }\n",
       "\n",
       "    .dataframe thead th {\n",
       "        text-align: right;\n",
       "    }\n",
       "</style>\n",
       "<table border=\"1\" class=\"dataframe\">\n",
       "  <thead>\n",
       "    <tr style=\"text-align: right;\">\n",
       "      <th></th>\n",
       "      <th>id</th>\n",
       "      <th>news_raw</th>\n",
       "      <th>news_type</th>\n",
       "      <th>word_count</th>\n",
       "      <th>char_count</th>\n",
       "      <th>stopwords</th>\n",
       "    </tr>\n",
       "  </thead>\n",
       "  <tbody>\n",
       "    <tr>\n",
       "      <th>0</th>\n",
       "      <td>0</td>\n",
       "      <td>UK economy facing 'major risks'\\n \\n The UK ma...</td>\n",
       "      <td>business</td>\n",
       "      <td>329</td>\n",
       "      <td>1996</td>\n",
       "      <td>112</td>\n",
       "    </tr>\n",
       "    <tr>\n",
       "      <th>1</th>\n",
       "      <td>1</td>\n",
       "      <td>Aids and climate top Davos agenda\\n \\n Climate...</td>\n",
       "      <td>business</td>\n",
       "      <td>454</td>\n",
       "      <td>2727</td>\n",
       "      <td>161</td>\n",
       "    </tr>\n",
       "    <tr>\n",
       "      <th>2</th>\n",
       "      <td>2</td>\n",
       "      <td>Asian quake hits European shares\\n \\n Shares i...</td>\n",
       "      <td>business</td>\n",
       "      <td>553</td>\n",
       "      <td>3444</td>\n",
       "      <td>171</td>\n",
       "    </tr>\n",
       "    <tr>\n",
       "      <th>3</th>\n",
       "      <td>3</td>\n",
       "      <td>India power shares jump on debut\\n \\n Shares i...</td>\n",
       "      <td>business</td>\n",
       "      <td>175</td>\n",
       "      <td>1038</td>\n",
       "      <td>55</td>\n",
       "    </tr>\n",
       "    <tr>\n",
       "      <th>4</th>\n",
       "      <td>4</td>\n",
       "      <td>Lacroix label bought by US firm\\n \\n Luxury go...</td>\n",
       "      <td>business</td>\n",
       "      <td>152</td>\n",
       "      <td>894</td>\n",
       "      <td>47</td>\n",
       "    </tr>\n",
       "  </tbody>\n",
       "</table>\n",
       "</div>"
      ],
      "text/plain": [
       "   id                                           news_raw news_type  \\\n",
       "0   0  UK economy facing 'major risks'\\n \\n The UK ma...  business   \n",
       "1   1  Aids and climate top Davos agenda\\n \\n Climate...  business   \n",
       "2   2  Asian quake hits European shares\\n \\n Shares i...  business   \n",
       "3   3  India power shares jump on debut\\n \\n Shares i...  business   \n",
       "4   4  Lacroix label bought by US firm\\n \\n Luxury go...  business   \n",
       "\n",
       "   word_count  char_count  stopwords  \n",
       "0         329        1996        112  \n",
       "1         454        2727        161  \n",
       "2         553        3444        171  \n",
       "3         175        1038         55  \n",
       "4         152         894         47  "
      ]
     },
     "execution_count": 7,
     "metadata": {},
     "output_type": "execute_result"
    }
   ],
   "source": [
    "# Now for the next step\n",
    "##  Elimination of stopwords, punctuation, digits, lowercase\n",
    "stop = stopwords.words('english')\n",
    "\n",
    "# first let's count the stopwords\n",
    "df['stopwords'] = df.news_raw.apply(lambda x: len([x for x in x.split() if x in stop]))\n",
    "df.head()"
   ]
  },
  {
   "cell_type": "code",
   "execution_count": 8,
   "metadata": {},
   "outputs": [
    {
     "data": {
      "text/html": [
       "<div>\n",
       "<style scoped>\n",
       "    .dataframe tbody tr th:only-of-type {\n",
       "        vertical-align: middle;\n",
       "    }\n",
       "\n",
       "    .dataframe tbody tr th {\n",
       "        vertical-align: top;\n",
       "    }\n",
       "\n",
       "    .dataframe thead th {\n",
       "        text-align: right;\n",
       "    }\n",
       "</style>\n",
       "<table border=\"1\" class=\"dataframe\">\n",
       "  <thead>\n",
       "    <tr style=\"text-align: right;\">\n",
       "      <th></th>\n",
       "      <th>id</th>\n",
       "      <th>news_raw</th>\n",
       "      <th>news_type</th>\n",
       "      <th>word_count</th>\n",
       "      <th>char_count</th>\n",
       "      <th>stopwords</th>\n",
       "      <th>news_clean</th>\n",
       "    </tr>\n",
       "  </thead>\n",
       "  <tbody>\n",
       "    <tr>\n",
       "      <th>0</th>\n",
       "      <td>0</td>\n",
       "      <td>UK economy facing 'major risks'\\n \\n The UK ma...</td>\n",
       "      <td>business</td>\n",
       "      <td>329</td>\n",
       "      <td>1996</td>\n",
       "      <td>112</td>\n",
       "      <td>uk economy facing 'major risks' the uk manufac...</td>\n",
       "    </tr>\n",
       "    <tr>\n",
       "      <th>1</th>\n",
       "      <td>1</td>\n",
       "      <td>Aids and climate top Davos agenda\\n \\n Climate...</td>\n",
       "      <td>business</td>\n",
       "      <td>454</td>\n",
       "      <td>2727</td>\n",
       "      <td>161</td>\n",
       "      <td>aids and climate top davos agenda climate chan...</td>\n",
       "    </tr>\n",
       "    <tr>\n",
       "      <th>2</th>\n",
       "      <td>2</td>\n",
       "      <td>Asian quake hits European shares\\n \\n Shares i...</td>\n",
       "      <td>business</td>\n",
       "      <td>553</td>\n",
       "      <td>3444</td>\n",
       "      <td>171</td>\n",
       "      <td>asian quake hits european shares shares in eur...</td>\n",
       "    </tr>\n",
       "    <tr>\n",
       "      <th>3</th>\n",
       "      <td>3</td>\n",
       "      <td>India power shares jump on debut\\n \\n Shares i...</td>\n",
       "      <td>business</td>\n",
       "      <td>175</td>\n",
       "      <td>1038</td>\n",
       "      <td>55</td>\n",
       "      <td>india power shares jump on debut shares in ind...</td>\n",
       "    </tr>\n",
       "    <tr>\n",
       "      <th>4</th>\n",
       "      <td>4</td>\n",
       "      <td>Lacroix label bought by US firm\\n \\n Luxury go...</td>\n",
       "      <td>business</td>\n",
       "      <td>152</td>\n",
       "      <td>894</td>\n",
       "      <td>47</td>\n",
       "      <td>lacroix label bought by us firm luxury goods g...</td>\n",
       "    </tr>\n",
       "  </tbody>\n",
       "</table>\n",
       "</div>"
      ],
      "text/plain": [
       "   id                                           news_raw news_type  \\\n",
       "0   0  UK economy facing 'major risks'\\n \\n The UK ma...  business   \n",
       "1   1  Aids and climate top Davos agenda\\n \\n Climate...  business   \n",
       "2   2  Asian quake hits European shares\\n \\n Shares i...  business   \n",
       "3   3  India power shares jump on debut\\n \\n Shares i...  business   \n",
       "4   4  Lacroix label bought by US firm\\n \\n Luxury go...  business   \n",
       "\n",
       "   word_count  char_count  stopwords  \\\n",
       "0         329        1996        112   \n",
       "1         454        2727        161   \n",
       "2         553        3444        171   \n",
       "3         175        1038         55   \n",
       "4         152         894         47   \n",
       "\n",
       "                                          news_clean  \n",
       "0  uk economy facing 'major risks' the uk manufac...  \n",
       "1  aids and climate top davos agenda climate chan...  \n",
       "2  asian quake hits european shares shares in eur...  \n",
       "3  india power shares jump on debut shares in ind...  \n",
       "4  lacroix label bought by us firm luxury goods g...  "
      ]
     },
     "execution_count": 8,
     "metadata": {},
     "output_type": "execute_result"
    }
   ],
   "source": [
    "# then let's make everything lowercase\n",
    "df['news_clean'] = df.news_raw.apply(lambda x: \" \".join(x.lower() for x in x.split()))\n",
    "df.head()"
   ]
  },
  {
   "cell_type": "code",
   "execution_count": 9,
   "metadata": {},
   "outputs": [
    {
     "data": {
      "text/html": [
       "<div>\n",
       "<style scoped>\n",
       "    .dataframe tbody tr th:only-of-type {\n",
       "        vertical-align: middle;\n",
       "    }\n",
       "\n",
       "    .dataframe tbody tr th {\n",
       "        vertical-align: top;\n",
       "    }\n",
       "\n",
       "    .dataframe thead th {\n",
       "        text-align: right;\n",
       "    }\n",
       "</style>\n",
       "<table border=\"1\" class=\"dataframe\">\n",
       "  <thead>\n",
       "    <tr style=\"text-align: right;\">\n",
       "      <th></th>\n",
       "      <th>id</th>\n",
       "      <th>news_raw</th>\n",
       "      <th>news_type</th>\n",
       "      <th>word_count</th>\n",
       "      <th>char_count</th>\n",
       "      <th>stopwords</th>\n",
       "      <th>news_clean</th>\n",
       "    </tr>\n",
       "  </thead>\n",
       "  <tbody>\n",
       "    <tr>\n",
       "      <th>0</th>\n",
       "      <td>0</td>\n",
       "      <td>UK economy facing 'major risks'\\n \\n The UK ma...</td>\n",
       "      <td>business</td>\n",
       "      <td>329</td>\n",
       "      <td>1996</td>\n",
       "      <td>112</td>\n",
       "      <td>uk economy facing major risks the uk manufactu...</td>\n",
       "    </tr>\n",
       "    <tr>\n",
       "      <th>1</th>\n",
       "      <td>1</td>\n",
       "      <td>Aids and climate top Davos agenda\\n \\n Climate...</td>\n",
       "      <td>business</td>\n",
       "      <td>454</td>\n",
       "      <td>2727</td>\n",
       "      <td>161</td>\n",
       "      <td>aids and climate top davos agenda climate chan...</td>\n",
       "    </tr>\n",
       "    <tr>\n",
       "      <th>2</th>\n",
       "      <td>2</td>\n",
       "      <td>Asian quake hits European shares\\n \\n Shares i...</td>\n",
       "      <td>business</td>\n",
       "      <td>553</td>\n",
       "      <td>3444</td>\n",
       "      <td>171</td>\n",
       "      <td>asian quake hits european shares shares in eur...</td>\n",
       "    </tr>\n",
       "    <tr>\n",
       "      <th>3</th>\n",
       "      <td>3</td>\n",
       "      <td>India power shares jump on debut\\n \\n Shares i...</td>\n",
       "      <td>business</td>\n",
       "      <td>175</td>\n",
       "      <td>1038</td>\n",
       "      <td>55</td>\n",
       "      <td>india power shares jump on debut shares in ind...</td>\n",
       "    </tr>\n",
       "    <tr>\n",
       "      <th>4</th>\n",
       "      <td>4</td>\n",
       "      <td>Lacroix label bought by US firm\\n \\n Luxury go...</td>\n",
       "      <td>business</td>\n",
       "      <td>152</td>\n",
       "      <td>894</td>\n",
       "      <td>47</td>\n",
       "      <td>lacroix label bought by us firm luxury goods g...</td>\n",
       "    </tr>\n",
       "  </tbody>\n",
       "</table>\n",
       "</div>"
      ],
      "text/plain": [
       "   id                                           news_raw news_type  \\\n",
       "0   0  UK economy facing 'major risks'\\n \\n The UK ma...  business   \n",
       "1   1  Aids and climate top Davos agenda\\n \\n Climate...  business   \n",
       "2   2  Asian quake hits European shares\\n \\n Shares i...  business   \n",
       "3   3  India power shares jump on debut\\n \\n Shares i...  business   \n",
       "4   4  Lacroix label bought by US firm\\n \\n Luxury go...  business   \n",
       "\n",
       "   word_count  char_count  stopwords  \\\n",
       "0         329        1996        112   \n",
       "1         454        2727        161   \n",
       "2         553        3444        171   \n",
       "3         175        1038         55   \n",
       "4         152         894         47   \n",
       "\n",
       "                                          news_clean  \n",
       "0  uk economy facing major risks the uk manufactu...  \n",
       "1  aids and climate top davos agenda climate chan...  \n",
       "2  asian quake hits european shares shares in eur...  \n",
       "3  india power shares jump on debut shares in ind...  \n",
       "4  lacroix label bought by us firm luxury goods g...  "
      ]
     },
     "execution_count": 9,
     "metadata": {},
     "output_type": "execute_result"
    }
   ],
   "source": [
    "# now let's remove all punctuation\n",
    "df['news_clean'] = df.news_clean.str.replace('[^\\w\\s]','')\n",
    "df.head()"
   ]
  },
  {
   "cell_type": "code",
   "execution_count": 10,
   "metadata": {},
   "outputs": [
    {
     "data": {
      "text/html": [
       "<div>\n",
       "<style scoped>\n",
       "    .dataframe tbody tr th:only-of-type {\n",
       "        vertical-align: middle;\n",
       "    }\n",
       "\n",
       "    .dataframe tbody tr th {\n",
       "        vertical-align: top;\n",
       "    }\n",
       "\n",
       "    .dataframe thead th {\n",
       "        text-align: right;\n",
       "    }\n",
       "</style>\n",
       "<table border=\"1\" class=\"dataframe\">\n",
       "  <thead>\n",
       "    <tr style=\"text-align: right;\">\n",
       "      <th></th>\n",
       "      <th>id</th>\n",
       "      <th>news_raw</th>\n",
       "      <th>news_type</th>\n",
       "      <th>word_count</th>\n",
       "      <th>char_count</th>\n",
       "      <th>stopwords</th>\n",
       "      <th>news_clean</th>\n",
       "    </tr>\n",
       "  </thead>\n",
       "  <tbody>\n",
       "    <tr>\n",
       "      <th>0</th>\n",
       "      <td>0</td>\n",
       "      <td>UK economy facing 'major risks'\\n \\n The UK ma...</td>\n",
       "      <td>business</td>\n",
       "      <td>329</td>\n",
       "      <td>1996</td>\n",
       "      <td>112</td>\n",
       "      <td>uk economy facing major risks the uk manufactu...</td>\n",
       "    </tr>\n",
       "    <tr>\n",
       "      <th>1</th>\n",
       "      <td>1</td>\n",
       "      <td>Aids and climate top Davos agenda\\n \\n Climate...</td>\n",
       "      <td>business</td>\n",
       "      <td>454</td>\n",
       "      <td>2727</td>\n",
       "      <td>161</td>\n",
       "      <td>aids and climate top davos agenda climate chan...</td>\n",
       "    </tr>\n",
       "    <tr>\n",
       "      <th>2</th>\n",
       "      <td>2</td>\n",
       "      <td>Asian quake hits European shares\\n \\n Shares i...</td>\n",
       "      <td>business</td>\n",
       "      <td>553</td>\n",
       "      <td>3444</td>\n",
       "      <td>171</td>\n",
       "      <td>asian quake hits european shares shares in eur...</td>\n",
       "    </tr>\n",
       "    <tr>\n",
       "      <th>3</th>\n",
       "      <td>3</td>\n",
       "      <td>India power shares jump on debut\\n \\n Shares i...</td>\n",
       "      <td>business</td>\n",
       "      <td>175</td>\n",
       "      <td>1038</td>\n",
       "      <td>55</td>\n",
       "      <td>india power shares jump on debut shares in ind...</td>\n",
       "    </tr>\n",
       "    <tr>\n",
       "      <th>4</th>\n",
       "      <td>4</td>\n",
       "      <td>Lacroix label bought by US firm\\n \\n Luxury go...</td>\n",
       "      <td>business</td>\n",
       "      <td>152</td>\n",
       "      <td>894</td>\n",
       "      <td>47</td>\n",
       "      <td>lacroix label bought by us firm luxury goods g...</td>\n",
       "    </tr>\n",
       "  </tbody>\n",
       "</table>\n",
       "</div>"
      ],
      "text/plain": [
       "   id                                           news_raw news_type  \\\n",
       "0   0  UK economy facing 'major risks'\\n \\n The UK ma...  business   \n",
       "1   1  Aids and climate top Davos agenda\\n \\n Climate...  business   \n",
       "2   2  Asian quake hits European shares\\n \\n Shares i...  business   \n",
       "3   3  India power shares jump on debut\\n \\n Shares i...  business   \n",
       "4   4  Lacroix label bought by US firm\\n \\n Luxury go...  business   \n",
       "\n",
       "   word_count  char_count  stopwords  \\\n",
       "0         329        1996        112   \n",
       "1         454        2727        161   \n",
       "2         553        3444        171   \n",
       "3         175        1038         55   \n",
       "4         152         894         47   \n",
       "\n",
       "                                          news_clean  \n",
       "0  uk economy facing major risks the uk manufactu...  \n",
       "1  aids and climate top davos agenda climate chan...  \n",
       "2  asian quake hits european shares shares in eur...  \n",
       "3  india power shares jump on debut shares in ind...  \n",
       "4  lacroix label bought by us firm luxury goods g...  "
      ]
     },
     "execution_count": 10,
     "metadata": {},
     "output_type": "execute_result"
    }
   ],
   "source": [
    "# now let's remove all digits\n",
    "df['news_clean'] = df.news_clean.str.replace('\\d+','')\n",
    "df.head()"
   ]
  },
  {
   "cell_type": "code",
   "execution_count": 11,
   "metadata": {
    "scrolled": true
   },
   "outputs": [
    {
     "data": {
      "text/html": [
       "<div>\n",
       "<style scoped>\n",
       "    .dataframe tbody tr th:only-of-type {\n",
       "        vertical-align: middle;\n",
       "    }\n",
       "\n",
       "    .dataframe tbody tr th {\n",
       "        vertical-align: top;\n",
       "    }\n",
       "\n",
       "    .dataframe thead th {\n",
       "        text-align: right;\n",
       "    }\n",
       "</style>\n",
       "<table border=\"1\" class=\"dataframe\">\n",
       "  <thead>\n",
       "    <tr style=\"text-align: right;\">\n",
       "      <th></th>\n",
       "      <th>id</th>\n",
       "      <th>news_raw</th>\n",
       "      <th>news_type</th>\n",
       "      <th>word_count</th>\n",
       "      <th>char_count</th>\n",
       "      <th>stopwords</th>\n",
       "      <th>news_clean</th>\n",
       "    </tr>\n",
       "  </thead>\n",
       "  <tbody>\n",
       "    <tr>\n",
       "      <th>0</th>\n",
       "      <td>0</td>\n",
       "      <td>UK economy facing 'major risks'\\n \\n The UK ma...</td>\n",
       "      <td>business</td>\n",
       "      <td>329</td>\n",
       "      <td>1996</td>\n",
       "      <td>112</td>\n",
       "      <td>uk economy facing major risks uk manufacturing...</td>\n",
       "    </tr>\n",
       "    <tr>\n",
       "      <th>1</th>\n",
       "      <td>1</td>\n",
       "      <td>Aids and climate top Davos agenda\\n \\n Climate...</td>\n",
       "      <td>business</td>\n",
       "      <td>454</td>\n",
       "      <td>2727</td>\n",
       "      <td>161</td>\n",
       "      <td>aids climate top davos agenda climate change f...</td>\n",
       "    </tr>\n",
       "    <tr>\n",
       "      <th>2</th>\n",
       "      <td>2</td>\n",
       "      <td>Asian quake hits European shares\\n \\n Shares i...</td>\n",
       "      <td>business</td>\n",
       "      <td>553</td>\n",
       "      <td>3444</td>\n",
       "      <td>171</td>\n",
       "      <td>asian quake hits european shares shares europe...</td>\n",
       "    </tr>\n",
       "    <tr>\n",
       "      <th>3</th>\n",
       "      <td>3</td>\n",
       "      <td>India power shares jump on debut\\n \\n Shares i...</td>\n",
       "      <td>business</td>\n",
       "      <td>175</td>\n",
       "      <td>1038</td>\n",
       "      <td>55</td>\n",
       "      <td>india power shares jump debut shares indias la...</td>\n",
       "    </tr>\n",
       "    <tr>\n",
       "      <th>4</th>\n",
       "      <td>4</td>\n",
       "      <td>Lacroix label bought by US firm\\n \\n Luxury go...</td>\n",
       "      <td>business</td>\n",
       "      <td>152</td>\n",
       "      <td>894</td>\n",
       "      <td>47</td>\n",
       "      <td>lacroix label bought us firm luxury goods grou...</td>\n",
       "    </tr>\n",
       "  </tbody>\n",
       "</table>\n",
       "</div>"
      ],
      "text/plain": [
       "   id                                           news_raw news_type  \\\n",
       "0   0  UK economy facing 'major risks'\\n \\n The UK ma...  business   \n",
       "1   1  Aids and climate top Davos agenda\\n \\n Climate...  business   \n",
       "2   2  Asian quake hits European shares\\n \\n Shares i...  business   \n",
       "3   3  India power shares jump on debut\\n \\n Shares i...  business   \n",
       "4   4  Lacroix label bought by US firm\\n \\n Luxury go...  business   \n",
       "\n",
       "   word_count  char_count  stopwords  \\\n",
       "0         329        1996        112   \n",
       "1         454        2727        161   \n",
       "2         553        3444        171   \n",
       "3         175        1038         55   \n",
       "4         152         894         47   \n",
       "\n",
       "                                          news_clean  \n",
       "0  uk economy facing major risks uk manufacturing...  \n",
       "1  aids climate top davos agenda climate change f...  \n",
       "2  asian quake hits european shares shares europe...  \n",
       "3  india power shares jump debut shares indias la...  \n",
       "4  lacroix label bought us firm luxury goods grou...  "
      ]
     },
     "execution_count": 11,
     "metadata": {},
     "output_type": "execute_result"
    }
   ],
   "source": [
    "# now let's remove stopwords\n",
    "df['news_clean'] = df.news_clean.apply(lambda x: \" \".join(w for w in x.split() if w not in stop))\n",
    "df.head()"
   ]
  },
  {
   "cell_type": "code",
   "execution_count": 12,
   "metadata": {},
   "outputs": [
    {
     "data": {
      "text/html": [
       "<div>\n",
       "<style scoped>\n",
       "    .dataframe tbody tr th:only-of-type {\n",
       "        vertical-align: middle;\n",
       "    }\n",
       "\n",
       "    .dataframe tbody tr th {\n",
       "        vertical-align: top;\n",
       "    }\n",
       "\n",
       "    .dataframe thead th {\n",
       "        text-align: right;\n",
       "    }\n",
       "</style>\n",
       "<table border=\"1\" class=\"dataframe\">\n",
       "  <thead>\n",
       "    <tr style=\"text-align: right;\">\n",
       "      <th></th>\n",
       "      <th>id</th>\n",
       "      <th>news_raw</th>\n",
       "      <th>news_type</th>\n",
       "      <th>word_count</th>\n",
       "      <th>char_count</th>\n",
       "      <th>stopwords</th>\n",
       "      <th>news_clean</th>\n",
       "    </tr>\n",
       "  </thead>\n",
       "  <tbody>\n",
       "    <tr>\n",
       "      <th>0</th>\n",
       "      <td>0</td>\n",
       "      <td>UK economy facing 'major risks'\\n \\n The UK ma...</td>\n",
       "      <td>business</td>\n",
       "      <td>329</td>\n",
       "      <td>1996</td>\n",
       "      <td>112</td>\n",
       "      <td>uk economy facing major risks uk manufacturing...</td>\n",
       "    </tr>\n",
       "    <tr>\n",
       "      <th>1</th>\n",
       "      <td>1</td>\n",
       "      <td>Aids and climate top Davos agenda\\n \\n Climate...</td>\n",
       "      <td>business</td>\n",
       "      <td>454</td>\n",
       "      <td>2727</td>\n",
       "      <td>161</td>\n",
       "      <td>aids climate top davos agenda climate change f...</td>\n",
       "    </tr>\n",
       "    <tr>\n",
       "      <th>2</th>\n",
       "      <td>2</td>\n",
       "      <td>Asian quake hits European shares\\n \\n Shares i...</td>\n",
       "      <td>business</td>\n",
       "      <td>553</td>\n",
       "      <td>3444</td>\n",
       "      <td>171</td>\n",
       "      <td>asian quake hits european shares shares europe...</td>\n",
       "    </tr>\n",
       "    <tr>\n",
       "      <th>3</th>\n",
       "      <td>3</td>\n",
       "      <td>India power shares jump on debut\\n \\n Shares i...</td>\n",
       "      <td>business</td>\n",
       "      <td>175</td>\n",
       "      <td>1038</td>\n",
       "      <td>55</td>\n",
       "      <td>india power shares jump debut shares indias la...</td>\n",
       "    </tr>\n",
       "    <tr>\n",
       "      <th>4</th>\n",
       "      <td>4</td>\n",
       "      <td>Lacroix label bought by US firm\\n \\n Luxury go...</td>\n",
       "      <td>business</td>\n",
       "      <td>152</td>\n",
       "      <td>894</td>\n",
       "      <td>47</td>\n",
       "      <td>lacroix label bought us firm luxury goods grou...</td>\n",
       "    </tr>\n",
       "  </tbody>\n",
       "</table>\n",
       "</div>"
      ],
      "text/plain": [
       "   id                                           news_raw news_type  \\\n",
       "0   0  UK economy facing 'major risks'\\n \\n The UK ma...  business   \n",
       "1   1  Aids and climate top Davos agenda\\n \\n Climate...  business   \n",
       "2   2  Asian quake hits European shares\\n \\n Shares i...  business   \n",
       "3   3  India power shares jump on debut\\n \\n Shares i...  business   \n",
       "4   4  Lacroix label bought by US firm\\n \\n Luxury go...  business   \n",
       "\n",
       "   word_count  char_count  stopwords  \\\n",
       "0         329        1996        112   \n",
       "1         454        2727        161   \n",
       "2         553        3444        171   \n",
       "3         175        1038         55   \n",
       "4         152         894         47   \n",
       "\n",
       "                                          news_clean  \n",
       "0  uk economy facing major risks uk manufacturing...  \n",
       "1  aids climate top davos agenda climate change f...  \n",
       "2  asian quake hits european shares shares europe...  \n",
       "3  india power shares jump debut shares indias la...  \n",
       "4  lacroix label bought us firm luxury goods grou...  "
      ]
     },
     "execution_count": 12,
     "metadata": {},
     "output_type": "execute_result"
    }
   ],
   "source": [
    "#Now let's remove all single-character words\n",
    "df['news_clean'] = df.news_clean.apply(lambda x: \" \".join(x for x in x.split() if len(x) > 1))\n",
    "df.head()"
   ]
  },
  {
   "cell_type": "markdown",
   "metadata": {},
   "source": [
    "The data looks pretty clean now!"
   ]
  },
  {
   "cell_type": "markdown",
   "metadata": {},
   "source": [
    "###### Word Frequency and Lemmatization"
   ]
  },
  {
   "cell_type": "code",
   "execution_count": 13,
   "metadata": {},
   "outputs": [
    {
     "data": {
      "text/plain": [
       "[('said', 7253),\n",
       " ('mr', 3004),\n",
       " ('would', 2577),\n",
       " ('also', 2156),\n",
       " ('new', 1970),\n",
       " ('people', 1969),\n",
       " ('us', 1923),\n",
       " ('one', 1739),\n",
       " ('year', 1637),\n",
       " ('could', 1510)]"
      ]
     },
     "execution_count": 13,
     "metadata": {},
     "output_type": "execute_result"
    }
   ],
   "source": [
    "# Identify the 10 most frequently used words in the text\n",
    "##  How about the ten least frequently used words?\n",
    "##  How does lemmatization change the most/least frequent words?\n",
    "###   Explain and demonstrate this topic\n",
    "\n",
    "#first, let's find the 10 most frequent words\n",
    "freq = pd.Series(' '.join(df.news_clean).split()).value_counts(ascending=False).to_dict()\n",
    "list(freq.items())[:10]"
   ]
  },
  {
   "cell_type": "code",
   "execution_count": 14,
   "metadata": {
    "scrolled": true
   },
   "outputs": [
    {
     "data": {
      "text/plain": [
       "[('riotous', 1),\n",
       " ('wellpaced', 1),\n",
       " ('punky', 1),\n",
       " ('inflammatory', 1),\n",
       " ('semimythical', 1),\n",
       " ('bunker', 1),\n",
       " ('foreignlanguage', 1),\n",
       " ('tinseltown', 1),\n",
       " ('aramaic', 1),\n",
       " ('snubbing', 1),\n",
       " ('epicstyle', 1),\n",
       " ('dor', 1),\n",
       " ('palme', 1),\n",
       " ('bushbaiting', 1),\n",
       " ('brittany', 1),\n",
       " ('nominating', 1),\n",
       " ('bugging', 1),\n",
       " ('eucalyptus', 1),\n",
       " ('crowe', 1),\n",
       " ('debussy', 1),\n",
       " ('chopin', 1),\n",
       " ('angst', 1),\n",
       " ('selfsufficient', 1),\n",
       " ('sustenance', 1),\n",
       " ('thrills', 1),\n",
       " ('glasgowbased', 1),\n",
       " ('belfastborn', 1),\n",
       " ('salmon', 1),\n",
       " ('bana', 1),\n",
       " ('punter', 1)]"
      ]
     },
     "execution_count": 14,
     "metadata": {},
     "output_type": "execute_result"
    }
   ],
   "source": [
    "#now let's find the 10 least frequent words\n",
    "freq = pd.Series(' '.join(df.news_clean).split()).value_counts(ascending=True).to_dict()\n",
    "list(freq.items())[:30]"
   ]
  },
  {
   "cell_type": "markdown",
   "metadata": {},
   "source": [
    "Wow, there are a lot of words only used one time. It also looks like hyphenated words were joined together. Hmm, I'll stick with it for now"
   ]
  },
  {
   "cell_type": "code",
   "execution_count": 15,
   "metadata": {},
   "outputs": [
    {
     "name": "stderr",
     "output_type": "stream",
     "text": [
      "[nltk_data] Downloading package wordnet to\n",
      "[nltk_data]     C:\\Users\\jerem\\AppData\\Roaming\\nltk_data...\n",
      "[nltk_data]   Package wordnet is already up-to-date!\n",
      "[nltk_data] Downloading package omw-1.4 to\n",
      "[nltk_data]     C:\\Users\\jerem\\AppData\\Roaming\\nltk_data...\n",
      "[nltk_data]   Package omw-1.4 is already up-to-date!\n"
     ]
    }
   ],
   "source": [
    "# Now, let's utilize lemmatization\n",
    "nltk.download('wordnet')\n",
    "nltk.download('omw-1.4')\n",
    "wordnet_lemmatizer = WordNetLemmatizer()"
   ]
  },
  {
   "cell_type": "code",
   "execution_count": 16,
   "metadata": {},
   "outputs": [
    {
     "data": {
      "text/html": [
       "<div>\n",
       "<style scoped>\n",
       "    .dataframe tbody tr th:only-of-type {\n",
       "        vertical-align: middle;\n",
       "    }\n",
       "\n",
       "    .dataframe tbody tr th {\n",
       "        vertical-align: top;\n",
       "    }\n",
       "\n",
       "    .dataframe thead th {\n",
       "        text-align: right;\n",
       "    }\n",
       "</style>\n",
       "<table border=\"1\" class=\"dataframe\">\n",
       "  <thead>\n",
       "    <tr style=\"text-align: right;\">\n",
       "      <th></th>\n",
       "      <th>id</th>\n",
       "      <th>news_raw</th>\n",
       "      <th>news_type</th>\n",
       "      <th>word_count</th>\n",
       "      <th>char_count</th>\n",
       "      <th>stopwords</th>\n",
       "      <th>news_clean</th>\n",
       "    </tr>\n",
       "  </thead>\n",
       "  <tbody>\n",
       "    <tr>\n",
       "      <th>0</th>\n",
       "      <td>0</td>\n",
       "      <td>UK economy facing 'major risks'\\n \\n The UK ma...</td>\n",
       "      <td>business</td>\n",
       "      <td>329</td>\n",
       "      <td>1996</td>\n",
       "      <td>112</td>\n",
       "      <td>uk economy facing major risk uk manufacturing ...</td>\n",
       "    </tr>\n",
       "    <tr>\n",
       "      <th>1</th>\n",
       "      <td>1</td>\n",
       "      <td>Aids and climate top Davos agenda\\n \\n Climate...</td>\n",
       "      <td>business</td>\n",
       "      <td>454</td>\n",
       "      <td>2727</td>\n",
       "      <td>161</td>\n",
       "      <td>aid climate top davos agenda climate change fi...</td>\n",
       "    </tr>\n",
       "    <tr>\n",
       "      <th>2</th>\n",
       "      <td>2</td>\n",
       "      <td>Asian quake hits European shares\\n \\n Shares i...</td>\n",
       "      <td>business</td>\n",
       "      <td>553</td>\n",
       "      <td>3444</td>\n",
       "      <td>171</td>\n",
       "      <td>asian quake hit european share share europe le...</td>\n",
       "    </tr>\n",
       "    <tr>\n",
       "      <th>3</th>\n",
       "      <td>3</td>\n",
       "      <td>India power shares jump on debut\\n \\n Shares i...</td>\n",
       "      <td>business</td>\n",
       "      <td>175</td>\n",
       "      <td>1038</td>\n",
       "      <td>55</td>\n",
       "      <td>india power share jump debut share india large...</td>\n",
       "    </tr>\n",
       "    <tr>\n",
       "      <th>4</th>\n",
       "      <td>4</td>\n",
       "      <td>Lacroix label bought by US firm\\n \\n Luxury go...</td>\n",
       "      <td>business</td>\n",
       "      <td>152</td>\n",
       "      <td>894</td>\n",
       "      <td>47</td>\n",
       "      <td>lacroix label bought u firm luxury good group ...</td>\n",
       "    </tr>\n",
       "  </tbody>\n",
       "</table>\n",
       "</div>"
      ],
      "text/plain": [
       "   id                                           news_raw news_type  \\\n",
       "0   0  UK economy facing 'major risks'\\n \\n The UK ma...  business   \n",
       "1   1  Aids and climate top Davos agenda\\n \\n Climate...  business   \n",
       "2   2  Asian quake hits European shares\\n \\n Shares i...  business   \n",
       "3   3  India power shares jump on debut\\n \\n Shares i...  business   \n",
       "4   4  Lacroix label bought by US firm\\n \\n Luxury go...  business   \n",
       "\n",
       "   word_count  char_count  stopwords  \\\n",
       "0         329        1996        112   \n",
       "1         454        2727        161   \n",
       "2         553        3444        171   \n",
       "3         175        1038         55   \n",
       "4         152         894         47   \n",
       "\n",
       "                                          news_clean  \n",
       "0  uk economy facing major risk uk manufacturing ...  \n",
       "1  aid climate top davos agenda climate change fi...  \n",
       "2  asian quake hit european share share europe le...  \n",
       "3  india power share jump debut share india large...  \n",
       "4  lacroix label bought u firm luxury good group ...  "
      ]
     },
     "execution_count": 16,
     "metadata": {},
     "output_type": "execute_result"
    }
   ],
   "source": [
    "df['news_clean'] = df.news_clean.apply(lambda x: \" \".join(wordnet_lemmatizer.lemmatize(w) for w in x.split()))\n",
    "df.head()"
   ]
  },
  {
   "cell_type": "code",
   "execution_count": 17,
   "metadata": {},
   "outputs": [
    {
     "data": {
      "text/plain": [
       "[('said', 7253),\n",
       " ('mr', 3045),\n",
       " ('year', 2860),\n",
       " ('would', 2577),\n",
       " ('also', 2156),\n",
       " ('people', 2044),\n",
       " ('new', 1970),\n",
       " ('u', 1923),\n",
       " ('one', 1809),\n",
       " ('could', 1510)]"
      ]
     },
     "execution_count": 17,
     "metadata": {},
     "output_type": "execute_result"
    }
   ],
   "source": [
    "# After lemmatization, let's find the 10 most and least frequently used words\n",
    "freq = pd.Series(' '.join(df.news_clean).split()).value_counts(ascending=False).to_dict()\n",
    "list(freq.items())[:10]"
   ]
  },
  {
   "cell_type": "code",
   "execution_count": 18,
   "metadata": {
    "scrolled": true
   },
   "outputs": [
    {
     "data": {
      "text/plain": [
       "[('fanbase', 1),\n",
       " ('singalong', 1),\n",
       " ('enormity', 1),\n",
       " ('suddenness', 1),\n",
       " ('aimlessly', 1),\n",
       " ('ry', 1),\n",
       " ('cooder', 1),\n",
       " ('kokomo', 1),\n",
       " ('papa', 1),\n",
       " ('edna', 1),\n",
       " ('brittany', 1),\n",
       " ('bushbaiting', 1),\n",
       " ('palme', 1),\n",
       " ('dor', 1),\n",
       " ('epicstyle', 1),\n",
       " ('snubbing', 1),\n",
       " ('nominating', 1),\n",
       " ('aramaic', 1),\n",
       " ('foreignlanguage', 1),\n",
       " ('bunker', 1),\n",
       " ('semimythical', 1),\n",
       " ('inflammatory', 1),\n",
       " ('punky', 1),\n",
       " ('wellpaced', 1),\n",
       " ('tinseltown', 1),\n",
       " ('bugging', 1),\n",
       " ('eucalyptus', 1),\n",
       " ('crowe', 1),\n",
       " ('enigma', 1),\n",
       " ('bana', 1)]"
      ]
     },
     "execution_count": 18,
     "metadata": {},
     "output_type": "execute_result"
    }
   ],
   "source": [
    "freq = pd.Series(' '.join(df.news_clean).split()).value_counts(ascending=True).to_dict()\n",
    "list(freq.items())[:30]"
   ]
  },
  {
   "cell_type": "markdown",
   "metadata": {},
   "source": [
    "Now let's think about the following question:\n",
    "* How does lemmatization change the most/least frequent words? Explain and demonstrate this topic.\n",
    "\n",
    "Lemmatization seems to have not changed the most frequently used words much at all. The former entry in the list, 'us', seems to have changed to 'u' from lemmatization. Other than that, the list of the most frequent words didn't change at all. The values of this list DID change however. After lemmatization, the new word count was greater than or equal to the former word count. Said again, lemmatization increases the word count of the most frequently used words. This is most likely due to the general consolidation of the data due to the lemmatization. After lemmatization, the data is more concentrated and the frequencies of the words found will be higher as a result.\n",
    "\n",
    "The list of the least frequently used words seems to have changed a lot, however it may be the case that there are so many words used only 1 time, that the list changes every time we try to display only 30 of them. I checked and there are more than 2000 words used only 1 time. This is a lot! So it's a lot more difficult to discern what has changed with the list of the least frequently used words."
   ]
  },
  {
   "cell_type": "markdown",
   "metadata": {},
   "source": [
    "###### Word Cloud"
   ]
  },
  {
   "cell_type": "code",
   "execution_count": 19,
   "metadata": {},
   "outputs": [
    {
     "data": {
      "image/png": "[encoded data removed]",
      "text/plain": [
       "<Figure size 720x720 with 1 Axes>"
      ]
     },
     "metadata": {},
     "output_type": "display_data"
    }
   ],
   "source": [
    "# Now let's generate a world cloud for the text\n",
    "wc = WordCloud(width=1000, height=600, max_words=200).generate_from_frequencies(freq)\n",
    "plt.figure(figsize=(10, 10))\n",
    "plt.imshow(wc, interpolation='bilinear')\n",
    "plt.axis('off')\n",
    "plt.show()"
   ]
  },
  {
   "cell_type": "markdown",
   "metadata": {},
   "source": [
    "Looks pretty cool!"
   ]
  },
  {
   "cell_type": "markdown",
   "metadata": {},
   "source": [
    "###### Generating N-grams, POS tagging"
   ]
  },
  {
   "cell_type": "code",
   "execution_count": 20,
   "metadata": {},
   "outputs": [
    {
     "data": {
      "text/plain": [
       "[(('last', 'year'), 501),\n",
       " (('said', 'mr'), 363),\n",
       " (('told', 'bbc'), 348),\n",
       " (('mr', 'blair'), 335),\n",
       " (('prime', 'minister'), 319),\n",
       " (('mr', 'brown'), 256),\n",
       " (('chief', 'executive'), 206),\n",
       " (('said', 'would'), 192),\n",
       " (('last', 'week'), 188),\n",
       " (('tony', 'blair'), 186),\n",
       " (('mobile', 'phone'), 183),\n",
       " (('bbc', 'news'), 178),\n",
       " (('general', 'election'), 177),\n",
       " (('new', 'york'), 167),\n",
       " (('bn', 'bn'), 163),\n",
       " (('six', 'nation'), 162),\n",
       " (('mr', 'howard'), 160),\n",
       " (('year', 'ago'), 160),\n",
       " (('liberal', 'democrat'), 157),\n",
       " (('number', 'one'), 147)]"
      ]
     },
     "execution_count": 20,
     "metadata": {},
     "output_type": "execute_result"
    }
   ],
   "source": [
    "# now let's demonstrate the generation of n-grams and part-of-speech tagging\n",
    "# let's create a list of bigrams and trigrams\n",
    "\n",
    "# first, we have to generate a tokens list\n",
    "tokens = \" \".join(df.news_clean).split()\n",
    "\n",
    "# then we'll generate the bigrams and trigrams\n",
    "ngrams_2 = nltk.bigrams(tokens)\n",
    "ngrams_3 = nltk.trigrams(tokens)\n",
    "\n",
    "# now let's display each frequency distribution\n",
    "freq_2grams = pd.Series(ngrams_2).value_counts().to_dict()\n",
    "list(freq_2grams.items())[:20]"
   ]
  },
  {
   "cell_type": "code",
   "execution_count": 21,
   "metadata": {},
   "outputs": [
    {
     "data": {
      "text/plain": [
       "[(('told', 'bbc', 'news'), 147),\n",
       " (('bbc', 'news', 'website'), 97),\n",
       " (('told', 'bbc', 'radio'), 76),\n",
       " (('leader', 'michael', 'howard'), 58),\n",
       " (('mr', 'blair', 'said'), 54),\n",
       " (('million', 'dollar', 'baby'), 53),\n",
       " (('radio', 'today', 'programme'), 49),\n",
       " (('told', 'bbc', 'sport'), 48),\n",
       " (('bbc', 'radio', 'today'), 47),\n",
       " (('tory', 'leader', 'michael'), 41),\n",
       " (('mr', 'howard', 'said'), 41),\n",
       " (('next', 'general', 'election'), 39),\n",
       " (('chancellor', 'gordon', 'brown'), 33),\n",
       " (('prime', 'minister', 'tony'), 32),\n",
       " (('minister', 'tony', 'blair'), 32),\n",
       " (('leader', 'charles', 'kennedy'), 32),\n",
       " (('digital', 'music', 'player'), 30),\n",
       " (('two', 'year', 'ago'), 28),\n",
       " (('world', 'number', 'one'), 27),\n",
       " (('mr', 'blair', 'told'), 27)]"
      ]
     },
     "execution_count": 21,
     "metadata": {},
     "output_type": "execute_result"
    }
   ],
   "source": [
    "freq_3grams = pd.Series(ngrams_3).value_counts().to_dict()\n",
    "list(freq_3grams.items())[:20]"
   ]
  },
  {
   "cell_type": "code",
   "execution_count": 22,
   "metadata": {},
   "outputs": [
    {
     "name": "stderr",
     "output_type": "stream",
     "text": [
      "[nltk_data] Downloading package averaged_perceptron_tagger to\n",
      "[nltk_data]     C:\\Users\\jerem\\AppData\\Roaming\\nltk_data...\n",
      "[nltk_data]   Package averaged_perceptron_tagger is already up-to-\n",
      "[nltk_data]       date!\n"
     ]
    },
    {
     "data": {
      "text/plain": [
       "[('uk', 'JJ'),\n",
       " ('economy', 'NN'),\n",
       " ('facing', 'VBG'),\n",
       " ('major', 'JJ'),\n",
       " ('risk', 'NN'),\n",
       " ('uk', 'IN'),\n",
       " ('manufacturing', 'VBG'),\n",
       " ('sector', 'NN'),\n",
       " ('continue', 'VBP'),\n",
       " ('face', 'VBP'),\n",
       " ('serious', 'JJ'),\n",
       " ('challenge', 'NN'),\n",
       " ('next', 'IN'),\n",
       " ('two', 'CD'),\n",
       " ('year', 'NN'),\n",
       " ('british', 'JJ'),\n",
       " ('chamber', 'NN'),\n",
       " ('commerce', 'NN'),\n",
       " ('bcc', 'NN'),\n",
       " ('said', 'VBD')]"
      ]
     },
     "execution_count": 22,
     "metadata": {},
     "output_type": "execute_result"
    }
   ],
   "source": [
    "# cool! now let's experiment with part-of-speech tagging\n",
    "nltk.download('averaged_perceptron_tagger')\n",
    "\n",
    "pos_tags = pos_tag(tokens)\n",
    "pos_tags[:20]"
   ]
  },
  {
   "cell_type": "code",
   "execution_count": 23,
   "metadata": {
    "scrolled": true
   },
   "outputs": [
    {
     "data": {
      "text/plain": [
       "Counter({'JJ': 92905,\n",
       "         'NN': 229072,\n",
       "         'VBG': 19902,\n",
       "         'IN': 7979,\n",
       "         'VBP': 14159,\n",
       "         'CD': 6699,\n",
       "         'VBD': 34355,\n",
       "         'RBS': 134,\n",
       "         'RB': 23320,\n",
       "         'VBN': 12926,\n",
       "         'VB': 10843,\n",
       "         'JJS': 2417,\n",
       "         'JJR': 1794,\n",
       "         'NNP': 1002,\n",
       "         'RBR': 1045,\n",
       "         'NNS': 10979,\n",
       "         'WP$': 123,\n",
       "         'MD': 5368,\n",
       "         'VBZ': 3150,\n",
       "         'DT': 819,\n",
       "         'CC': 285,\n",
       "         'RP': 392,\n",
       "         'FW': 865,\n",
       "         'PRP': 259,\n",
       "         'WRB': 45,\n",
       "         'WP': 72,\n",
       "         'POS': 3,\n",
       "         'WDT': 60,\n",
       "         'EX': 69,\n",
       "         'NNPS': 3,\n",
       "         'PRP$': 15,\n",
       "         'PDT': 4,\n",
       "         'TO': 2,\n",
       "         'UH': 10})"
      ]
     },
     "execution_count": 23,
     "metadata": {},
     "output_type": "execute_result"
    }
   ],
   "source": [
    "pos_counts = Counter([j for i,j in pos_tag(tokens)])\n",
    "pos_counts"
   ]
  },
  {
   "cell_type": "code",
   "execution_count": 24,
   "metadata": {},
   "outputs": [
    {
     "data": {
      "text/plain": [
       "[('NN', 229072),\n",
       " ('JJ', 92905),\n",
       " ('VBD', 34355),\n",
       " ('RB', 23320),\n",
       " ('VBG', 19902),\n",
       " ('VBP', 14159),\n",
       " ('VBN', 12926),\n",
       " ('NNS', 10979),\n",
       " ('VB', 10843),\n",
       " ('IN', 7979),\n",
       " ('CD', 6699),\n",
       " ('MD', 5368),\n",
       " ('VBZ', 3150),\n",
       " ('JJS', 2417),\n",
       " ('JJR', 1794),\n",
       " ('RBR', 1045),\n",
       " ('NNP', 1002),\n",
       " ('FW', 865),\n",
       " ('DT', 819),\n",
       " ('RP', 392),\n",
       " ('CC', 285),\n",
       " ('PRP', 259),\n",
       " ('RBS', 134),\n",
       " ('WP$', 123),\n",
       " ('WP', 72),\n",
       " ('EX', 69),\n",
       " ('WDT', 60),\n",
       " ('WRB', 45),\n",
       " ('PRP$', 15),\n",
       " ('UH', 10),\n",
       " ('PDT', 4),\n",
       " ('POS', 3),\n",
       " ('NNPS', 3),\n",
       " ('TO', 2)]"
      ]
     },
     "execution_count": 24,
     "metadata": {},
     "output_type": "execute_result"
    }
   ],
   "source": [
    "#sorted(pos_counts.items())\n",
    "#the sorted function seems to only sort the counter by the first parameter\n",
    "\n",
    "[(l,k) for k,l in sorted([(j,i) for i,j in pos_counts.items()], reverse=True)]"
   ]
  },
  {
   "cell_type": "code",
   "execution_count": 25,
   "metadata": {},
   "outputs": [
    {
     "data": {
      "image/png": "[encoded data removed]",
      "text/plain": [
       "<Figure size 720x720 with 1 Axes>"
      ]
     },
     "metadata": {},
     "output_type": "display_data"
    }
   ],
   "source": [
    "plt.figure(figsize=(10, 10))\n",
    "\n",
    "\n",
    "plt.bar(list(pos_counts.keys()), list(pos_counts.values()), width=1)\n",
    "plt.xticks(rotation = 40) \n",
    "plt.show()"
   ]
  },
  {
   "cell_type": "markdown",
   "metadata": {},
   "source": [
    "The chart looks good! We can see that singular nouns are the most frequently used words in this dataset. Followed not-very-closely by adjectives and then past-tense verbs. Interesting!"
   ]
  },
  {
   "cell_type": "markdown",
   "metadata": {},
   "source": [
    "###### Topic Model "
   ]
  },
  {
   "cell_type": "code",
   "execution_count": 26,
   "metadata": {},
   "outputs": [
    {
     "name": "stdout",
     "output_type": "stream",
     "text": [
      "[['uk', 'economy', 'facing', 'major', 'risk', 'uk', 'manufacturing', 'sector', 'continue', 'face', 'serious', 'challenge', 'next', 'two', 'year', 'british', 'chamber', 'commerce', 'bcc', 'said', 'group', 'quarterly', 'survey', 'company', 'found', 'export', 'picked', 'last', 'three', 'month', 'best', 'level', 'eight', 'year', 'rise', 'came', 'despite', 'exchange', 'rate', 'cited', 'major', 'concern', 'however', 'bcc', 'found', 'whole', 'uk', 'economy', 'still', 'faced', 'major', 'risk', 'warned', 'growth', 'set', 'slow', 'recently', 'forecast', 'economic', 'growth', 'slow', 'little', 'manufacturer', 'domestic', 'sale', 'growth', 'fell', 'back', 'slightly', 'quarter', 'survey', 'firm', 'found', 'employment', 'manufacturing', 'also', 'fell', 'job', 'expectation', 'lowest', 'level', 'year', 'despite', 'positive', 'news', 'export', 'sector', 'worrying', 'sign', 'manufacturing', 'bcc', 'said', 'result', 'reinforce', 'concern', 'sector', 'persistent', 'inability', 'sustain', 'recovery', 'outlook', 'service', 'sector', 'uncertain', 'despite', 'increase', 'export', 'order', 'quarter', 'bcc', 'noted', 'bcc', 'found', 'confidence', 'increased', 'quarter', 'across', 'manufacturing', 'service', 'sector', 'although', 'overall', 'failed', 'reach', 'level', 'start', 'reduced', 'threat', 'interest', 'rate', 'increase', 'contributed', 'improved', 'confidence', 'said', 'bank', 'england', 'raised', 'interest', 'rate', 'five', 'time', 'november', 'august', 'last', 'year', 'rate', 'kept', 'hold', 'since', 'amid', 'sign', 'falling', 'consumer', 'confidence', 'slowdown', 'output', 'pressure', 'cost', 'margin', 'relentless', 'increase', 'regulation', 'threat', 'higher', 'tax', 'remain', 'serious', 'problem', 'bcc', 'director', 'general', 'david', 'frost', 'said', 'consumer', 'spending', 'set', 'decelerate', 'significantly', 'next', 'month', 'unlikely', 'investment', 'export', 'rise', 'sufficiently', 'strongly', 'pick', 'slack']]\n"
     ]
    }
   ],
   "source": [
    "# Now let's do the following:\n",
    "# Create a Topic model of the text\n",
    "##  Find the optimal number of topics\n",
    "##  test the accuracy of your model\n",
    "##  Display your results 2 different ways. 1) Print the topics and explain any insights at this point. 2) Graph the topics and explain any insights at this point.\n",
    "\n",
    "# first, let's get a list of the lemmatized text\n",
    "lem_ls = list(df.news_clean.apply(lambda x: list(x.split())))\n",
    "print(lem_ls[:1])"
   ]
  },
  {
   "cell_type": "code",
   "execution_count": 27,
   "metadata": {},
   "outputs": [],
   "source": [
    "# now let's construct a dictionary of the lemmatized terms and a term document frequency (TDF) for the data\n",
    "id2word = corpora.Dictionary(lem_ls)\n",
    "corpus = [id2word.doc2bow(post) for post in lem_ls]"
   ]
  },
  {
   "cell_type": "code",
   "execution_count": 28,
   "metadata": {
    "scrolled": true
   },
   "outputs": [
    {
     "name": "stdout",
     "output_type": "stream",
     "text": [
      "[(0, '0.014*\"said\" + 0.009*\"people\" + 0.008*\"game\" + 0.007*\"computer\" + 0.006*\"software\" + 0.006*\"pc\" + 0.006*\"new\" + 0.006*\"year\" + 0.005*\"site\" + 0.005*\"mr\"'), (1, '0.010*\"game\" + 0.009*\"said\" + 0.005*\"time\" + 0.005*\"player\" + 0.005*\"one\" + 0.005*\"would\" + 0.004*\"world\" + 0.004*\"win\" + 0.004*\"play\" + 0.004*\"year\"'), (2, '0.018*\"said\" + 0.013*\"mr\" + 0.007*\"would\" + 0.006*\"brown\" + 0.006*\"minister\" + 0.006*\"blair\" + 0.005*\"labour\" + 0.005*\"wale\" + 0.004*\"told\" + 0.004*\"also\"'), (3, '0.017*\"film\" + 0.013*\"best\" + 0.012*\"award\" + 0.009*\"year\" + 0.008*\"said\" + 0.006*\"star\" + 0.006*\"u\" + 0.005*\"also\" + 0.005*\"one\" + 0.005*\"actor\"'), (4, '0.017*\"said\" + 0.010*\"bn\" + 0.010*\"year\" + 0.009*\"u\" + 0.007*\"bank\" + 0.007*\"company\" + 0.007*\"market\" + 0.006*\"firm\" + 0.005*\"price\" + 0.005*\"share\"'), (5, '0.021*\"said\" + 0.015*\"mr\" + 0.011*\"government\" + 0.011*\"would\" + 0.009*\"party\" + 0.008*\"election\" + 0.008*\"people\" + 0.008*\"labour\" + 0.007*\"tax\" + 0.007*\"tory\"'), (6, '0.013*\"said\" + 0.006*\"european\" + 0.006*\"law\" + 0.006*\"would\" + 0.005*\"mr\" + 0.005*\"olympic\" + 0.005*\"also\" + 0.005*\"u\" + 0.004*\"could\" + 0.004*\"athens\"'), (7, '0.014*\"mobile\" + 0.014*\"said\" + 0.012*\"phone\" + 0.010*\"people\" + 0.010*\"technology\" + 0.008*\"service\" + 0.006*\"also\" + 0.005*\"tv\" + 0.005*\"digital\" + 0.005*\"music\"'), (8, '0.016*\"said\" + 0.011*\"email\" + 0.008*\"online\" + 0.008*\"music\" + 0.007*\"net\" + 0.007*\"people\" + 0.007*\"u\" + 0.007*\"user\" + 0.006*\"apple\" + 0.006*\"million\"'), (9, '0.013*\"mr\" + 0.013*\"said\" + 0.009*\"lord\" + 0.008*\"robot\" + 0.006*\"human\" + 0.006*\"spyware\" + 0.006*\"new\" + 0.005*\"law\" + 0.005*\"foreign\" + 0.005*\"court\"')]\n"
     ]
    }
   ],
   "source": [
    "# now we can train the Latent Dirichlet Allocation (LDA) model\n",
    "lda_model = gensim.models.LdaMulticore(corpus=corpus,\n",
    "                                       id2word=id2word,\n",
    "                                       num_topics=10, \n",
    "                                       random_state=42,\n",
    "                                       chunksize=100,\n",
    "                                       passes=10,\n",
    "                                       per_word_topics=True)\n",
    "print(lda_model.print_topics())"
   ]
  },
  {
   "cell_type": "code",
   "execution_count": 29,
   "metadata": {},
   "outputs": [
    {
     "name": "stdout",
     "output_type": "stream",
     "text": [
      "\n",
      "Coherence Score:  0.4322547336355346\n"
     ]
    }
   ],
   "source": [
    "# now let's evaluate the performance of the model using the coherence score\n",
    "# i will use the c_v coherence measure\n",
    "coherence_model_lda = CoherenceModel(model=lda_model, \n",
    "                                     texts=lem_ls, \n",
    "                                     dictionary=id2word, \n",
    "                                     coherence='c_v')\n",
    "\n",
    "# retreive the coherence_scores\n",
    "coherence_lda = coherence_model_lda.get_coherence()\n",
    "\n",
    "print('\\nCoherence Score: ', coherence_lda)"
   ]
  },
  {
   "cell_type": "code",
   "execution_count": 30,
   "metadata": {},
   "outputs": [
    {
     "name": "stdout",
     "output_type": "stream",
     "text": [
      "Calcuting for 2 topics\n",
      "Calculated for 2 topics, score=0.28167772645788935\n",
      "Calcuting for 3 topics\n",
      "Calculated for 3 topics, score=0.3180712692974153\n",
      "Calcuting for 4 topics\n",
      "Calculated for 4 topics, score=0.3980188975347121\n",
      "Calcuting for 5 topics\n",
      "Calculated for 5 topics, score=0.39484309378615434\n",
      "Calcuting for 6 topics\n",
      "Calculated for 6 topics, score=0.37606451079916026\n",
      "Calcuting for 7 topics\n",
      "Calculated for 7 topics, score=0.42574090525094205\n",
      "Calcuting for 8 topics\n",
      "Calculated for 8 topics, score=0.3914575827387896\n",
      "Calcuting for 9 topics\n",
      "Calculated for 9 topics, score=0.43033149602739773\n",
      "Calcuting for 10 topics\n",
      "Calculated for 10 topics, score=0.44004935500220155\n",
      "Calcuting for 11 topics\n",
      "Calculated for 11 topics, score=0.4397729519536738\n",
      "Calcuting for 12 topics\n",
      "Calculated for 12 topics, score=0.4382942561317704\n",
      "Calcuting for 13 topics\n",
      "Calculated for 13 topics, score=0.4306213852145141\n",
      "Calcuting for 14 topics\n",
      "Calculated for 14 topics, score=0.45763424659625435\n",
      "Calcuting for 15 topics\n",
      "Calculated for 15 topics, score=0.4095548106177847\n",
      "Calcuting for 16 topics\n",
      "Calculated for 16 topics, score=0.4794508919213351\n",
      "Calcuting for 17 topics\n",
      "Calculated for 17 topics, score=0.47548700413543216\n",
      "Calcuting for 18 topics\n",
      "Calculated for 18 topics, score=0.43563044618944563\n",
      "Calcuting for 19 topics\n",
      "Calculated for 19 topics, score=0.4845063870589336\n",
      "Calcuting for 20 topics\n",
      "Calculated for 20 topics, score=0.4490077297577888\n"
     ]
    }
   ],
   "source": [
    "scores = []\n",
    "for i in range(2,21):\n",
    "    print(f'Calcuting for {i} topics')\n",
    "    lda_model = gensim.models.LdaMulticore(corpus=corpus,\n",
    "                                       id2word=id2word,\n",
    "                                       num_topics=i, \n",
    "                                       random_state=42,\n",
    "                                       chunksize=100,\n",
    "                                       passes=10,\n",
    "                                       per_word_topics=True)\n",
    "    # compute the coherence score\n",
    "    coherence_model_lda = CoherenceModel(model=lda_model, \n",
    "                                         texts=lem_ls, \n",
    "                                         dictionary=id2word, \n",
    "                                         coherence='c_v')\n",
    "\n",
    "    # retreive the coherence_scores\n",
    "    coherence_lda = coherence_model_lda.get_coherence()\n",
    "    \n",
    "    scores.append((i,coherence_lda))\n",
    "    print(f'Calculated for {i} topics, score={coherence_lda}')"
   ]
  },
  {
   "cell_type": "code",
   "execution_count": 31,
   "metadata": {},
   "outputs": [
    {
     "data": {
      "text/plain": [
       "[(2, 0.28167772645788935),\n",
       " (3, 0.3180712692974153),\n",
       " (4, 0.3980188975347121),\n",
       " (5, 0.39484309378615434),\n",
       " (6, 0.37606451079916026),\n",
       " (7, 0.42574090525094205),\n",
       " (8, 0.3914575827387896),\n",
       " (9, 0.43033149602739773),\n",
       " (10, 0.44004935500220155),\n",
       " (11, 0.4397729519536738),\n",
       " (12, 0.4382942561317704),\n",
       " (13, 0.4306213852145141),\n",
       " (14, 0.45763424659625435),\n",
       " (15, 0.4095548106177847),\n",
       " (16, 0.4794508919213351),\n",
       " (17, 0.47548700413543216),\n",
       " (18, 0.43563044618944563),\n",
       " (19, 0.4845063870589336),\n",
       " (20, 0.4490077297577888)]"
      ]
     },
     "execution_count": 31,
     "metadata": {},
     "output_type": "execute_result"
    }
   ],
   "source": [
    "scores"
   ]
  },
  {
   "cell_type": "code",
   "execution_count": 32,
   "metadata": {
    "scrolled": true
   },
   "outputs": [
    {
     "data": {
      "image/png": "[encoded data removed]",
      "text/plain": [
       "<Figure size 720x720 with 1 Axes>"
      ]
     },
     "metadata": {},
     "output_type": "display_data"
    }
   ],
   "source": [
    "x_axis = []\n",
    "y_axis = []\n",
    "for (x,y) in scores:\n",
    "    x_axis.append(x)\n",
    "    y_axis.append(y)\n",
    "\n",
    "plt.figure(figsize=(10, 10))\n",
    "plt.bar(x_axis, y_axis)\n",
    "locs, labels = plt.xticks()\n",
    "plt.xticks(range(2,21))\n",
    "plt.show()\n"
   ]
  },
  {
   "cell_type": "markdown",
   "metadata": {},
   "source": [
    "So, it's clear that i=19 has the highest score. Now let's run the model again with 19 topics."
   ]
  },
  {
   "cell_type": "code",
   "execution_count": 39,
   "metadata": {
    "scrolled": true
   },
   "outputs": [
    {
     "name": "stdout",
     "output_type": "stream",
     "text": [
      "Calculated score for 19 topics=0.45707850779759884\n"
     ]
    }
   ],
   "source": [
    "model_lda = gensim.models.LdaMulticore(corpus=corpus,\n",
    "                                       id2word=id2word,\n",
    "                                       num_topics=19, \n",
    "                                       random_state=42,\n",
    "                                       chunksize=100,\n",
    "                                       passes=10,\n",
    "                                       per_word_topics=True)\n",
    "\n",
    "coherence_model_lda = CoherenceModel(model=model_lda, \n",
    "                                         texts=lem_ls, \n",
    "                                         dictionary=id2word, \n",
    "                                         coherence='c_v')\n",
    "\n",
    "coherence_lda = coherence_model_lda.get_coherence()\n",
    "print(f'Calculated score for 19 topics={coherence_lda}')"
   ]
  },
  {
   "cell_type": "markdown",
   "metadata": {},
   "source": [
    "Hmm, this score is different from the previous list's 19-topic score. Why is this?"
   ]
  },
  {
   "cell_type": "code",
   "execution_count": 36,
   "metadata": {},
   "outputs": [],
   "source": [
    "pyLDAvis.enable_notebook()\n",
    "LDAvis_prepared = pyLDAvis.gensim_models.prepare(bf_lda_model, corpus, id2word)\n",
    "\n",
    "# The first way I will display the topics is by saving it to an html file. \n",
    "# This creates a visualization of the topics and their relative significance and similarity\n",
    "pyLDAvis.save_html(LDAvis_prepared,'topic_model_viz.html')"
   ]
  },
  {
   "cell_type": "markdown",
   "metadata": {},
   "source": [
    "From the first visualization of the data, I can gain many insights. I noticed the following about the visualization:\n",
    "* Topics 7, 10, and 14 are very similar\n",
    "* Topics 1, 2, and 11 are also similar, but less similar than 7, 10, and 14\n",
    "* Topics 12, 13, 15, 16, 17, 18, and 19 are not very similar to any other topic\n",
    "* The 3 pairs of topics 3&5, 4&6, and 8&9 have the lowest non-zero degree of similarity between their respective members\n",
    "* By far, \"said\" was the word most frequently used for most topics, but some topics listed most frequently used words such as \"mr\", \"yukos\", \"film\", \"game\", and \"sale\". "
   ]
  },
  {
   "cell_type": "code",
   "execution_count": 37,
   "metadata": {
    "scrolled": true
   },
   "outputs": [
    {
     "name": "stdout",
     "output_type": "stream",
     "text": [
      "PreparedData(topic_coordinates=              x         y  topics  cluster       Freq\n",
      "topic                                                \n",
      "13    -0.088604 -0.046877       1        1  11.506211\n",
      "14    -0.121086 -0.098933       2        1  11.283993\n",
      "7     -0.176390  0.094321       3        1   9.443142\n",
      "2      0.052304  0.112797       4        1   8.731224\n",
      "0     -0.132669  0.107246       5        1   8.621749\n",
      "1     -0.001579  0.120747       6        1   8.415720\n",
      "3      0.125225  0.088060       7        1   7.095438\n",
      "5     -0.115816 -0.004430       8        1   7.032872\n",
      "17    -0.164994  0.003665       9        1   4.951989\n",
      "10     0.147392  0.096615      10        1   4.122837\n",
      "16    -0.082301 -0.088562      11        1   4.009560\n",
      "6      0.016403  0.036744      12        1   3.392675\n",
      "4      0.059829  0.012537      13        1   3.285216\n",
      "11     0.111641  0.077100      14        1   2.330011\n",
      "8      0.037167 -0.039064      15        1   1.608327\n",
      "15     0.037765 -0.160824      16        1   1.424311\n",
      "9      0.053856 -0.167941      17        1   1.062120\n",
      "18     0.095190 -0.081029      18        1   1.053713\n",
      "12     0.146669 -0.062171      19        1   0.628893, topic_info=        Term         Freq        Total Category  logprob  loglift\n",
      "240       mr  2796.000000  2796.000000  Default  30.0000  30.0000\n",
      "2072    film  1075.000000  1075.000000  Default  29.0000  29.0000\n",
      "632    award   623.000000   623.000000  Default  28.0000  28.0000\n",
      "99      sale   698.000000   698.000000  Default  27.0000  27.0000\n",
      "662   mobile   730.000000   730.000000  Default  26.0000  26.0000\n",
      "...      ...          ...          ...      ...      ...      ...\n",
      "1117    like     7.516680   858.160117  Topic19  -5.9977   0.3313\n",
      "103      set     7.410791   725.301193  Topic19  -6.0119   0.4853\n",
      "6       bank     7.112966   501.087149  Topic19  -6.0529   0.8141\n",
      "5       back     6.707445   752.433002  Topic19  -6.1116   0.3489\n",
      "68     month     6.618681   813.037204  Topic19  -6.1249   0.2581\n",
      "\n",
      "[1401 rows x 6 columns], token_table=       Topic      Freq        Term\n",
      "term                              \n",
      "12215     18  0.781354        abba\n",
      "17471     11  0.887591      abbasi\n",
      "10622      5  0.072363     academy\n",
      "10622      7  0.880418     academy\n",
      "10622     12  0.024121     academy\n",
      "...      ...       ...         ...\n",
      "307       11  0.926641  yushchenko\n",
      "9501       4  0.919868     zealand\n",
      "9501       6  0.010822     zealand\n",
      "9501       7  0.010822     zealand\n",
      "9501      10  0.032466     zealand\n",
      "\n",
      "[5704 rows x 3 columns], R=30, lambda_step=0.01, plot_opts={'xlab': 'PC1', 'ylab': 'PC2'}, topic_order=[14, 15, 8, 3, 1, 2, 4, 6, 18, 11, 17, 7, 5, 12, 9, 16, 10, 19, 13])\n"
     ]
    }
   ],
   "source": [
    "# The second way I will display the topics is simply by listing them\n",
    "print(LDAvis_prepared)"
   ]
  },
  {
   "cell_type": "markdown",
   "metadata": {},
   "source": [
    "From this second visualization of the topic data, I can gain the following insights:\n",
    "* The size of the topic number steadily decreases as we include more and more topics (that particular topic number's % of the total words as the number of topics increases. 1000 words / 1 topic = 1000, 1000 words / 19 topics = 52.6)\n",
    "* I can see that particular topic's X and Y coordinates"
   ]
  },
  {
   "cell_type": "code",
   "execution_count": null,
   "metadata": {},
   "outputs": [],
   "source": []
  },
  {
   "cell_type": "code",
   "execution_count": null,
   "metadata": {},
   "outputs": [],
   "source": []
  },
  {
   "cell_type": "markdown",
   "metadata": {},
   "source": [
    "# V. Conclusion"
   ]
  },
  {
   "cell_type": "markdown",
   "metadata": {},
   "source": [
    "This assignment was really interesting! It's really practical when it comes to web-scraping from social media, news sites, and other text-based data. I'm really interested to explore this further on my own. The word cloud was really captivating too, I really enjoyed that part of the assignment, even if it was just a small section of it. One note of concern: even though random_state was invoked so as to ensure consistency between runs of the LDA model, I still had variance when I ran the models each time. This was very strange. \n",
    "\n",
    "Thank you!\n",
    "Jeremy "
   ]
  },
  {
   "cell_type": "markdown",
   "metadata": {},
   "source": [
    "# VI. References"
   ]
  },
  {
   "cell_type": "markdown",
   "metadata": {},
   "source": [
    "1) Class dataset provided for this assignment: bbc.csv\n",
    "\n",
    "2) From the Experts PDF: Week 7\n",
    "\n",
    "3) Week 7 Assignment Lab (Jupyter Notebook)\n",
    "\n",
    "4) L. (2019, April 29). Categorizing and POS Tagging with NLTK Python | Learntek. LEARNTEK. Retrieved April 24, 2022, from https://www.learntek.org/blog/categorizing-pos-tagging-nltk-python/\n",
    "\n",
    "5) Pandas documentation, https://pandas.pydata.org/pandas-docs/stable/reference/api/pandas.DataFrame.value_counts.html\n",
    "\n"
   ]
  },
  {
   "cell_type": "code",
   "execution_count": null,
   "metadata": {},
   "outputs": [],
   "source": []
  }
 ],
 "metadata": {
  "kernelspec": {
   "display_name": "DS-jupyter",
   "language": "python",
   "name": "ds-jupyter"
  },
  "language_info": {
   "codemirror_mode": {
    "name": "ipython",
    "version": 3
   },
   "file_extension": ".py",
   "mimetype": "text/x-python",
   "name": "python",
   "nbconvert_exporter": "python",
   "pygments_lexer": "ipython3",
   "version": "3.9.12"
  }
 },
 "nbformat": 4,
 "nbformat_minor": 4
}
