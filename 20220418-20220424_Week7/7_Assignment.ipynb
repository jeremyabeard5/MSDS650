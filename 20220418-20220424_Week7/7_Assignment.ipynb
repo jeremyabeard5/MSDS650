{
 "cells": [
  {
   "cell_type": "markdown",
   "metadata": {},
   "source": [
    "# Week 7 Lab: Text Analytics"
   ]
  },
  {
   "cell_type": "markdown",
   "metadata": {},
   "source": [
    "<img align=\"right\" style=\"padding-right:10px;\" src=\"figures_wk7/topic_modeling.png\" width=400><br>\n",
    "\n",
    "This week's assignment will focus on text analysis of BBC News articles.\n",
    "\n",
    "## Our Dataset: \n",
    "**Dataset:** bbc.csv(Provided in folder assign_wk7)<br>\n",
    "Consists of 2225 documents from the BBC news website corresponding to stories in five topical areas from 2004-2005. <br>\n",
    "Class Labels: 5 (business, entertainment, politics, sport, tech)\n",
    "\n",
    "## Text Analytics Lab\n",
    "\n",
    "**Objective:** \n",
    "To demostrate all of the text analysis techniques covered int his week's lecture material. Your submission needs to include the following:\n",
    "   - Preparation of the text data for analysis\n",
    "       * Elimination of stopwords, punctuation, digits, lowercase\n",
    "   - Identify the 10 most frequently used words in the text\n",
    "       * How about the ten least frequently used words? \n",
    "       * How does lemmatization change the most/least frequent words?\n",
    "           - Explain and demonstrate this topic\n",
    "   - Generate a world cloud for the text\n",
    "   - Demonstrate the generation of n-grams and part of speech tagging\n",
    "   - Create a Topic model of the text\n",
    "       * Find the optimal number of topics\n",
    "       * test the accuracy of your model\n",
    "       * Display your results 2 different ways.\n",
    "           1) Print the topics and explain any insights at this point.\n",
    "           2) Graph the topics and explain any insights at this point.\n"
   ]
  },
  {
   "cell_type": "markdown",
   "metadata": {},
   "source": [
    "### Deliverables:\n",
    "\n",
    "Upload your notebook's .ipynb file and your topic_model_viz.html page this week.\n",
    "   \n",
    "**Important:** Make sure your provide complete and thorough explanations for all of your analysis. You need to defend your thought processes and reasoning."
   ]
  },
  {
   "cell_type": "markdown",
   "metadata": {},
   "source": [
    "Reference:\n",
    "> Graphic comes from https://medium.com/nanonets/topic-modeling-with-lsa-psla-lda-and-lda2vec-555ff65b0b05"
   ]
  }
 ],
 "metadata": {
  "kernelspec": {
   "display_name": "Python 3 (ipykernel)",
   "language": "python",
   "name": "python3"
  },
  "language_info": {
   "codemirror_mode": {
    "name": "ipython",
    "version": 3
   },
   "file_extension": ".py",
   "mimetype": "text/x-python",
   "name": "python",
   "nbconvert_exporter": "python",
   "pygments_lexer": "ipython3",
   "version": "3.9.7"
  }
 },
 "nbformat": 4,
 "nbformat_minor": 4
}
