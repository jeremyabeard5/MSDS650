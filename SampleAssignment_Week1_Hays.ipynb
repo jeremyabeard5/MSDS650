{
 "cells": [
  {
   "cell_type": "markdown",
   "metadata": {
    "id": "P2VVnMfWzG45"
   },
   "source": [
    "**Genie Hays**<br>\n",
    "**MSDS 650 - Week 2**<br>\n",
    "**Calculating Probability**<br>\n",
    "\n",
    "\n"
   ]
  },
  {
   "cell_type": "markdown",
   "metadata": {
    "id": "T3sAcASmzG5E"
   },
   "source": [
    "##**I. Introduction**\n",
    "\n",
    "This week's assignment provides practice in describing a dataset, handling missing data values, imputing, displaying data distribution and probablity calculations.\n",
    "\n",
    "The following datasets were provided for this assignment: flights.csv, airlines.csv, airports.csv The flights.csv dataset was used to practice probability calculations. However, the other two datasets, airlines.csv and airports.csv, provided interesting reference information. The analysis provided below is only one approach to the assignment requirements."
   ]
  },
  {
   "cell_type": "code",
   "execution_count": null,
   "metadata": {
    "id": "twH6O-bLzG5F"
   },
   "outputs": [],
   "source": [
    "import pandas as pd\n",
    "import numpy as np\n",
    "from scipy import stats\n",
    "\n",
    "import matplotlib.pylab as plt\n",
    "%matplotlib inline"
   ]
  },
  {
   "cell_type": "markdown",
   "metadata": {
    "id": "3OupfjDkzG5I"
   },
   "source": [
    "##**II. Methods, III. Code and IV. Analysis of Results**\n",
    "\n",
    "### Loading, inspecting for missing values and cleaning the data.\n",
    "I'm starting out with the flight dataset that was cleaned with Clean_Flights_data.ipynb."
   ]
  },
  {
   "cell_type": "code",
   "execution_count": null,
   "metadata": {
    "id": "k3o1Up3dzG5K"
   },
   "outputs": [],
   "source": [
    "data_df = pd.read_csv('../assign_wk2/flights_clean.csv', low_memory=False)"
   ]
  },
  {
   "cell_type": "markdown",
   "metadata": {
    "id": "lvyvcFK9zG5M"
   },
   "source": [
    "<div class=\"alert alert-block alert-info\">\n",
    "<b>Why didn't I include the pd.read_csv low_memory argument?</b>  <br>\n",
    "Visually inspecting the data in Sublime first it shows a couple of columns within the dataset that have a mixed data type. If you did not perform a visual inspection and determined this, Pandas would have presented a warning.<br>\n",
    "\n",
    "I could have used dropna() when loading the data. However, if I did that when loading the dataset, it would have lost several of the columns needed for analysis. So, we will clean things up after the analysis.\n",
    "</div>"
   ]
  },
  {
   "cell_type": "code",
   "execution_count": null,
   "metadata": {
    "id": "qLKid8s2zG5N",
    "outputId": "ed143d89-7120-41f6-bd5c-2ec950a9ecce"
   },
   "outputs": [
    {
     "data": {
      "text/html": [
       "<div>\n",
       "<style scoped>\n",
       "    .dataframe tbody tr th:only-of-type {\n",
       "        vertical-align: middle;\n",
       "    }\n",
       "\n",
       "    .dataframe tbody tr th {\n",
       "        vertical-align: top;\n",
       "    }\n",
       "\n",
       "    .dataframe thead th {\n",
       "        text-align: right;\n",
       "    }\n",
       "</style>\n",
       "<table border=\"1\" class=\"dataframe\">\n",
       "  <thead>\n",
       "    <tr style=\"text-align: right;\">\n",
       "      <th></th>\n",
       "      <th>year</th>\n",
       "      <th>month</th>\n",
       "      <th>day</th>\n",
       "      <th>day_of_week</th>\n",
       "      <th>airline</th>\n",
       "      <th>flight_number</th>\n",
       "      <th>origin_airport</th>\n",
       "      <th>destination_airport</th>\n",
       "      <th>scheduled_departure</th>\n",
       "      <th>departure_time</th>\n",
       "      <th>departure_delay</th>\n",
       "      <th>scheduled_time</th>\n",
       "      <th>elapsed_time</th>\n",
       "      <th>scheduled_arrival</th>\n",
       "      <th>arrival_time</th>\n",
       "      <th>arrival_delay</th>\n",
       "      <th>diverted</th>\n",
       "      <th>cancelled</th>\n",
       "    </tr>\n",
       "  </thead>\n",
       "  <tbody>\n",
       "    <tr>\n",
       "      <th>0</th>\n",
       "      <td>2015</td>\n",
       "      <td>1</td>\n",
       "      <td>1</td>\n",
       "      <td>4</td>\n",
       "      <td>AS</td>\n",
       "      <td>98</td>\n",
       "      <td>ANC</td>\n",
       "      <td>SEA</td>\n",
       "      <td>5</td>\n",
       "      <td>2354.0</td>\n",
       "      <td>-11.0</td>\n",
       "      <td>205.0</td>\n",
       "      <td>194.0</td>\n",
       "      <td>430</td>\n",
       "      <td>408.0</td>\n",
       "      <td>-22.0</td>\n",
       "      <td>0</td>\n",
       "      <td>0</td>\n",
       "    </tr>\n",
       "    <tr>\n",
       "      <th>1</th>\n",
       "      <td>2015</td>\n",
       "      <td>1</td>\n",
       "      <td>1</td>\n",
       "      <td>4</td>\n",
       "      <td>AA</td>\n",
       "      <td>2336</td>\n",
       "      <td>LAX</td>\n",
       "      <td>PBI</td>\n",
       "      <td>10</td>\n",
       "      <td>2.0</td>\n",
       "      <td>-8.0</td>\n",
       "      <td>280.0</td>\n",
       "      <td>279.0</td>\n",
       "      <td>750</td>\n",
       "      <td>741.0</td>\n",
       "      <td>-9.0</td>\n",
       "      <td>0</td>\n",
       "      <td>0</td>\n",
       "    </tr>\n",
       "    <tr>\n",
       "      <th>2</th>\n",
       "      <td>2015</td>\n",
       "      <td>1</td>\n",
       "      <td>1</td>\n",
       "      <td>4</td>\n",
       "      <td>US</td>\n",
       "      <td>840</td>\n",
       "      <td>SFO</td>\n",
       "      <td>CLT</td>\n",
       "      <td>20</td>\n",
       "      <td>18.0</td>\n",
       "      <td>-2.0</td>\n",
       "      <td>286.0</td>\n",
       "      <td>293.0</td>\n",
       "      <td>806</td>\n",
       "      <td>811.0</td>\n",
       "      <td>5.0</td>\n",
       "      <td>0</td>\n",
       "      <td>0</td>\n",
       "    </tr>\n",
       "    <tr>\n",
       "      <th>3</th>\n",
       "      <td>2015</td>\n",
       "      <td>1</td>\n",
       "      <td>1</td>\n",
       "      <td>4</td>\n",
       "      <td>AA</td>\n",
       "      <td>258</td>\n",
       "      <td>LAX</td>\n",
       "      <td>MIA</td>\n",
       "      <td>20</td>\n",
       "      <td>15.0</td>\n",
       "      <td>-5.0</td>\n",
       "      <td>285.0</td>\n",
       "      <td>281.0</td>\n",
       "      <td>805</td>\n",
       "      <td>756.0</td>\n",
       "      <td>-9.0</td>\n",
       "      <td>0</td>\n",
       "      <td>0</td>\n",
       "    </tr>\n",
       "    <tr>\n",
       "      <th>4</th>\n",
       "      <td>2015</td>\n",
       "      <td>1</td>\n",
       "      <td>1</td>\n",
       "      <td>4</td>\n",
       "      <td>AS</td>\n",
       "      <td>135</td>\n",
       "      <td>SEA</td>\n",
       "      <td>ANC</td>\n",
       "      <td>25</td>\n",
       "      <td>24.0</td>\n",
       "      <td>-1.0</td>\n",
       "      <td>235.0</td>\n",
       "      <td>215.0</td>\n",
       "      <td>320</td>\n",
       "      <td>259.0</td>\n",
       "      <td>-21.0</td>\n",
       "      <td>0</td>\n",
       "      <td>0</td>\n",
       "    </tr>\n",
       "    <tr>\n",
       "      <th>5</th>\n",
       "      <td>2015</td>\n",
       "      <td>1</td>\n",
       "      <td>1</td>\n",
       "      <td>4</td>\n",
       "      <td>DL</td>\n",
       "      <td>806</td>\n",
       "      <td>SFO</td>\n",
       "      <td>MSP</td>\n",
       "      <td>25</td>\n",
       "      <td>20.0</td>\n",
       "      <td>-5.0</td>\n",
       "      <td>217.0</td>\n",
       "      <td>230.0</td>\n",
       "      <td>602</td>\n",
       "      <td>610.0</td>\n",
       "      <td>8.0</td>\n",
       "      <td>0</td>\n",
       "      <td>0</td>\n",
       "    </tr>\n",
       "    <tr>\n",
       "      <th>6</th>\n",
       "      <td>2015</td>\n",
       "      <td>1</td>\n",
       "      <td>1</td>\n",
       "      <td>4</td>\n",
       "      <td>NK</td>\n",
       "      <td>612</td>\n",
       "      <td>LAS</td>\n",
       "      <td>MSP</td>\n",
       "      <td>25</td>\n",
       "      <td>19.0</td>\n",
       "      <td>-6.0</td>\n",
       "      <td>181.0</td>\n",
       "      <td>170.0</td>\n",
       "      <td>526</td>\n",
       "      <td>509.0</td>\n",
       "      <td>-17.0</td>\n",
       "      <td>0</td>\n",
       "      <td>0</td>\n",
       "    </tr>\n",
       "    <tr>\n",
       "      <th>7</th>\n",
       "      <td>2015</td>\n",
       "      <td>1</td>\n",
       "      <td>1</td>\n",
       "      <td>4</td>\n",
       "      <td>US</td>\n",
       "      <td>2013</td>\n",
       "      <td>LAX</td>\n",
       "      <td>CLT</td>\n",
       "      <td>30</td>\n",
       "      <td>44.0</td>\n",
       "      <td>14.0</td>\n",
       "      <td>273.0</td>\n",
       "      <td>249.0</td>\n",
       "      <td>803</td>\n",
       "      <td>753.0</td>\n",
       "      <td>-10.0</td>\n",
       "      <td>0</td>\n",
       "      <td>0</td>\n",
       "    </tr>\n",
       "    <tr>\n",
       "      <th>8</th>\n",
       "      <td>2015</td>\n",
       "      <td>1</td>\n",
       "      <td>1</td>\n",
       "      <td>4</td>\n",
       "      <td>AA</td>\n",
       "      <td>1112</td>\n",
       "      <td>SFO</td>\n",
       "      <td>DFW</td>\n",
       "      <td>30</td>\n",
       "      <td>19.0</td>\n",
       "      <td>-11.0</td>\n",
       "      <td>195.0</td>\n",
       "      <td>193.0</td>\n",
       "      <td>545</td>\n",
       "      <td>532.0</td>\n",
       "      <td>-13.0</td>\n",
       "      <td>0</td>\n",
       "      <td>0</td>\n",
       "    </tr>\n",
       "    <tr>\n",
       "      <th>9</th>\n",
       "      <td>2015</td>\n",
       "      <td>1</td>\n",
       "      <td>1</td>\n",
       "      <td>4</td>\n",
       "      <td>DL</td>\n",
       "      <td>1173</td>\n",
       "      <td>LAS</td>\n",
       "      <td>ATL</td>\n",
       "      <td>30</td>\n",
       "      <td>33.0</td>\n",
       "      <td>3.0</td>\n",
       "      <td>221.0</td>\n",
       "      <td>203.0</td>\n",
       "      <td>711</td>\n",
       "      <td>656.0</td>\n",
       "      <td>-15.0</td>\n",
       "      <td>0</td>\n",
       "      <td>0</td>\n",
       "    </tr>\n",
       "  </tbody>\n",
       "</table>\n",
       "</div>"
      ],
      "text/plain": [
       "   year  month  day  day_of_week airline  flight_number origin_airport  \\\n",
       "0  2015      1    1            4      AS             98            ANC   \n",
       "1  2015      1    1            4      AA           2336            LAX   \n",
       "2  2015      1    1            4      US            840            SFO   \n",
       "3  2015      1    1            4      AA            258            LAX   \n",
       "4  2015      1    1            4      AS            135            SEA   \n",
       "5  2015      1    1            4      DL            806            SFO   \n",
       "6  2015      1    1            4      NK            612            LAS   \n",
       "7  2015      1    1            4      US           2013            LAX   \n",
       "8  2015      1    1            4      AA           1112            SFO   \n",
       "9  2015      1    1            4      DL           1173            LAS   \n",
       "\n",
       "  destination_airport  scheduled_departure  departure_time  departure_delay  \\\n",
       "0                 SEA                    5          2354.0            -11.0   \n",
       "1                 PBI                   10             2.0             -8.0   \n",
       "2                 CLT                   20            18.0             -2.0   \n",
       "3                 MIA                   20            15.0             -5.0   \n",
       "4                 ANC                   25            24.0             -1.0   \n",
       "5                 MSP                   25            20.0             -5.0   \n",
       "6                 MSP                   25            19.0             -6.0   \n",
       "7                 CLT                   30            44.0             14.0   \n",
       "8                 DFW                   30            19.0            -11.0   \n",
       "9                 ATL                   30            33.0              3.0   \n",
       "\n",
       "   scheduled_time  elapsed_time  scheduled_arrival  arrival_time  \\\n",
       "0           205.0         194.0                430         408.0   \n",
       "1           280.0         279.0                750         741.0   \n",
       "2           286.0         293.0                806         811.0   \n",
       "3           285.0         281.0                805         756.0   \n",
       "4           235.0         215.0                320         259.0   \n",
       "5           217.0         230.0                602         610.0   \n",
       "6           181.0         170.0                526         509.0   \n",
       "7           273.0         249.0                803         753.0   \n",
       "8           195.0         193.0                545         532.0   \n",
       "9           221.0         203.0                711         656.0   \n",
       "\n",
       "   arrival_delay  diverted  cancelled  \n",
       "0          -22.0         0          0  \n",
       "1           -9.0         0          0  \n",
       "2            5.0         0          0  \n",
       "3           -9.0         0          0  \n",
       "4          -21.0         0          0  \n",
       "5            8.0         0          0  \n",
       "6          -17.0         0          0  \n",
       "7          -10.0         0          0  \n",
       "8          -13.0         0          0  \n",
       "9          -15.0         0          0  "
      ]
     },
     "execution_count": 3,
     "metadata": {},
     "output_type": "execute_result"
    }
   ],
   "source": [
    "data_df.head(10)"
   ]
  },
  {
   "cell_type": "code",
   "execution_count": null,
   "metadata": {
    "id": "CXIU5kLAzG5P",
    "outputId": "2b98ed0a-c935-4c45-eeab-47e60186cb76"
   },
   "outputs": [
    {
     "name": "stdout",
     "output_type": "stream",
     "text": [
      "<class 'pandas.core.frame.DataFrame'>\n",
      "RangeIndex: 5245484 entries, 0 to 5245483\n",
      "Data columns (total 18 columns):\n",
      " #   Column               Dtype  \n",
      "---  ------               -----  \n",
      " 0   year                 int64  \n",
      " 1   month                int64  \n",
      " 2   day                  int64  \n",
      " 3   day_of_week          int64  \n",
      " 4   airline              object \n",
      " 5   flight_number        int64  \n",
      " 6   origin_airport       object \n",
      " 7   destination_airport  object \n",
      " 8   scheduled_departure  int64  \n",
      " 9   departure_time       float64\n",
      " 10  departure_delay      float64\n",
      " 11  scheduled_time       float64\n",
      " 12  elapsed_time         float64\n",
      " 13  scheduled_arrival    int64  \n",
      " 14  arrival_time         float64\n",
      " 15  arrival_delay        float64\n",
      " 16  diverted             int64  \n",
      " 17  cancelled            int64  \n",
      "dtypes: float64(6), int64(9), object(3)\n",
      "memory usage: 720.4+ MB\n"
     ]
    }
   ],
   "source": [
    "data_df.info()"
   ]
  },
  {
   "cell_type": "markdown",
   "metadata": {
    "id": "z94-LbpEzG5R"
   },
   "source": [
    "\n",
    "<b>Where did the non-null attribute information go?</b></br>\n",
    "Since our dataset is so large, that information is excluded from this view. We will test for it outside of info() function.\n",
    "</div>"
   ]
  },
  {
   "cell_type": "code",
   "execution_count": null,
   "metadata": {
    "id": "NXELbxVXzG5R",
    "outputId": "9b212891-1227-4b84-a6bb-e3dd3fe21fa1"
   },
   "outputs": [
    {
     "data": {
      "text/plain": [
       "year                       0\n",
       "month                      0\n",
       "day                        0\n",
       "day_of_week                0\n",
       "airline                    0\n",
       "flight_number              0\n",
       "origin_airport             0\n",
       "destination_airport        0\n",
       "scheduled_departure        0\n",
       "departure_time             0\n",
       "departure_delay            0\n",
       "scheduled_time             1\n",
       "elapsed_time           14354\n",
       "scheduled_arrival          0\n",
       "arrival_time            2512\n",
       "arrival_delay              0\n",
       "diverted                   0\n",
       "cancelled                  0\n",
       "dtype: int64"
      ]
     },
     "execution_count": 5,
     "metadata": {},
     "output_type": "execute_result"
    }
   ],
   "source": [
    "# count the number of NaN in each column of the dataset\n",
    "data_df.isnull().sum()"
   ]
  },
  {
   "cell_type": "markdown",
   "metadata": {
    "id": "QiVYPELYzG5S"
   },
   "source": [
    "#### Reducing the dataset width\n",
    "There are still columns that have missing values: elapsed_time and arrival_time. I don't believe either of these will be useful in the analysis, so I'm going to drop them. Also, I don't believe that I will need day_of)week, airline, flight_number, departure_time, departure_delay, scheduled_time, scheduled_arrival going forward so let's drop those too. However, just in case, I'll make a copy of data_df first, so it's easier to get it back if needed."
   ]
  },
  {
   "cell_type": "code",
   "execution_count": null,
   "metadata": {
    "id": "gdCFwx0PzG5T",
    "outputId": "741e4b51-a307-4b52-8fcf-26e4883abb56"
   },
   "outputs": [
    {
     "data": {
      "text/plain": [
       "Index(['year', 'month', 'day', 'day_of_week', 'airline', 'flight_number',\n",
       "       'origin_airport', 'destination_airport', 'scheduled_departure',\n",
       "       'departure_time', 'departure_delay', 'scheduled_time', 'elapsed_time',\n",
       "       'scheduled_arrival', 'arrival_time', 'arrival_delay', 'diverted',\n",
       "       'cancelled'],\n",
       "      dtype='object')"
      ]
     },
     "execution_count": 6,
     "metadata": {},
     "output_type": "execute_result"
    }
   ],
   "source": [
    "data_df.columns"
   ]
  },
  {
   "cell_type": "code",
   "execution_count": null,
   "metadata": {
    "id": "97HHWdBMzG5U"
   },
   "outputs": [],
   "source": [
    "# make a copy of the full dataset\n",
    "reduced_df = data_df.copy()\n",
    "\n",
    "# columns to delete\n",
    "delete_cols = ['day_of_week', 'airline', 'flight_number','departure_time','departure_delay', 'scheduled_time', 'elapsed_time','scheduled_arrival', 'arrival_time']\n",
    "reduced_df.drop(delete_cols,axis=1,inplace=True)"
   ]
  },
  {
   "cell_type": "code",
   "execution_count": null,
   "metadata": {
    "id": "VEY5SHtrzG5U",
    "outputId": "5c2e6c67-71d7-458a-f245-eb3f8938278a"
   },
   "outputs": [
    {
     "name": "stdout",
     "output_type": "stream",
     "text": [
      "<class 'pandas.core.frame.DataFrame'>\n",
      "RangeIndex: 5245484 entries, 0 to 5245483\n",
      "Data columns (total 9 columns):\n",
      " #   Column               Dtype  \n",
      "---  ------               -----  \n",
      " 0   year                 int64  \n",
      " 1   month                int64  \n",
      " 2   day                  int64  \n",
      " 3   origin_airport       object \n",
      " 4   destination_airport  object \n",
      " 5   scheduled_departure  int64  \n",
      " 6   arrival_delay        float64\n",
      " 7   diverted             int64  \n",
      " 8   cancelled            int64  \n",
      "dtypes: float64(1), int64(6), object(2)\n",
      "memory usage: 360.2+ MB\n"
     ]
    }
   ],
   "source": [
    "reduced_df.info()"
   ]
  },
  {
   "cell_type": "code",
   "execution_count": null,
   "metadata": {
    "id": "G1E_bB2szG5V",
    "outputId": "36752967-1853-4ccb-966b-76574e6781f9"
   },
   "outputs": [
    {
     "data": {
      "text/plain": [
       "(5245484, 9)"
      ]
     },
     "execution_count": 9,
     "metadata": {},
     "output_type": "execute_result"
    }
   ],
   "source": [
    "reduced_df.shape"
   ]
  },
  {
   "cell_type": "markdown",
   "metadata": {
    "id": "bhyvA_IHzG5W"
   },
   "source": [
    "Time to investigate the cancelled and diverted fields."
   ]
  },
  {
   "cell_type": "code",
   "execution_count": null,
   "metadata": {
    "id": "dysB7XDBzG5W",
    "outputId": "388a0564-3049-408c-ab17-785f3107980a"
   },
   "outputs": [
    {
     "data": {
      "text/plain": [
       "1      14354\n",
       "0    5231130\n",
       "Name: diverted, dtype: int64"
      ]
     },
     "execution_count": 10,
     "metadata": {},
     "output_type": "execute_result"
    }
   ],
   "source": [
    "reduced_df.diverted.value_counts().sort_index(ascending=False)"
   ]
  },
  {
   "cell_type": "code",
   "execution_count": null,
   "metadata": {
    "id": "Que4LSExzG5X",
    "outputId": "d37ab8d9-659c-4603-b4e9-757fc0582307"
   },
   "outputs": [
    {
     "data": {
      "text/plain": [
       "0    5245484\n",
       "Name: cancelled, dtype: int64"
      ]
     },
     "execution_count": 11,
     "metadata": {},
     "output_type": "execute_result"
    }
   ],
   "source": [
    "reduced_df.cancelled.value_counts().sort_index(ascending=False)"
   ]
  },
  {
   "cell_type": "markdown",
   "metadata": {
    "id": "GhPHS_ZvzG5X"
   },
   "source": [
    "It appears that cancelled can be dropped. As for diverted, I'm going to remove flights that were diverted from the dataset too."
   ]
  },
  {
   "cell_type": "code",
   "execution_count": null,
   "metadata": {
    "id": "vMXv3VcwzG5Y"
   },
   "outputs": [],
   "source": [
    "reduced_df.drop(data_df[data_df.diverted == 1].index, inplace=True)"
   ]
  },
  {
   "cell_type": "code",
   "execution_count": null,
   "metadata": {
    "id": "-9LkBD1wzG5Y"
   },
   "outputs": [],
   "source": [
    "reduced_df.drop(['cancelled','diverted'],axis=1,inplace=True)"
   ]
  },
  {
   "cell_type": "code",
   "execution_count": null,
   "metadata": {
    "id": "bujkKKdezG5Z",
    "outputId": "16cc82d6-36c5-4b32-b9d2-c64f57a1f113"
   },
   "outputs": [
    {
     "name": "stdout",
     "output_type": "stream",
     "text": [
      "<class 'pandas.core.frame.DataFrame'>\n",
      "Int64Index: 5231130 entries, 0 to 5245483\n",
      "Data columns (total 7 columns):\n",
      " #   Column               Dtype  \n",
      "---  ------               -----  \n",
      " 0   year                 int64  \n",
      " 1   month                int64  \n",
      " 2   day                  int64  \n",
      " 3   origin_airport       object \n",
      " 4   destination_airport  object \n",
      " 5   scheduled_departure  int64  \n",
      " 6   arrival_delay        float64\n",
      "dtypes: float64(1), int64(4), object(2)\n",
      "memory usage: 319.3+ MB\n"
     ]
    }
   ],
   "source": [
    "reduced_df.info()"
   ]
  },
  {
   "cell_type": "code",
   "execution_count": null,
   "metadata": {
    "id": "3hQnQb7HzG5Z",
    "outputId": "5fdd2335-9d77-4130-db65-52fcbeb82bb4"
   },
   "outputs": [
    {
     "data": {
      "text/plain": [
       "(5231130, 7)"
      ]
     },
     "execution_count": 15,
     "metadata": {},
     "output_type": "execute_result"
    }
   ],
   "source": [
    "reduced_df.shape"
   ]
  },
  {
   "cell_type": "markdown",
   "metadata": {
    "id": "FjjrhIPyzG5a"
   },
   "source": [
    "### Provide an analysis of delayed flights based on the airport the flight originated from.\n",
    "Is the distribution of delayed flights normally distributed? <br>Describe the shape of the distribution based on the QQ-plot.\n",
    "\n",
    "Start out by looking at the a histogram of the arrival data."
   ]
  },
  {
   "cell_type": "code",
   "execution_count": null,
   "metadata": {
    "id": "p0TZUcCEzG5a",
    "outputId": "686cf9b4-9208-4556-c538-b4ef679881be"
   },
   "outputs": [
    {
     "data": {
      "image/png": "[encoded data removed]",
      "text/plain": [
       "<Figure size 432x288 with 1 Axes>"
      ]
     },
     "metadata": {
      "needs_background": "light"
     },
     "output_type": "display_data"
    }
   ],
   "source": [
    "arrival_data = reduced_df.arrival_delay\n",
    "ax = arrival_data.plot.kde()"
   ]
  },
  {
   "cell_type": "markdown",
   "metadata": {
    "id": "GVdg73UuzG5b"
   },
   "source": [
    "Well, that's an interesting plot! However, if we stop and think about it, we normal distribution is not expected. The airline industry is built on a series of connecting flights. A normal distribution in arrivals would cause all kinds of issues. Also to be normally distributed, we would have to have just as many flights arriving early as arriving late. \n",
    "\n",
    "In a perfect world, we would expect all of the data to be tightly clustered around 0. Meaning that flights are within a couple of minutes of the scheduled arrival time, either early or late.\n",
    "\n",
    "Let's see what the QQ-plot looks like in this case."
   ]
  },
  {
   "cell_type": "code",
   "execution_count": null,
   "metadata": {
    "id": "gr4CJB37zG5b",
    "outputId": "8b80254a-8a4f-4e0f-a643-9a5351af7a60"
   },
   "outputs": [
    {
     "data": {
      "image/png": "[encoded data removed]",
      "text/plain": [
       "<Figure size 288x288 with 1 Axes>"
      ]
     },
     "metadata": {
      "needs_background": "light"
     },
     "output_type": "display_data"
    }
   ],
   "source": [
    "fig, ax = plt.subplots(figsize=(4, 4))\n",
    "stats.probplot(arrival_data, plot=ax)\n",
    "\n",
    "plt.show()"
   ]
  },
  {
   "cell_type": "markdown",
   "metadata": {
    "id": "_m4ggVPvzG5b"
   },
   "source": [
    "As expected, the distribution of the arrival data (reduced_df.arrival_delay) is not normal. But that makes sense in this particualr case.  \n",
    "\n",
    "However, the QQ-plot can also be used to describe the data overall. I can see that the distribution is slightly skewed right and the two tails of the dataset are not equal in portion. It also appears that the right tail has some extreme values in the far end of the tail."
   ]
  },
  {
   "cell_type": "markdown",
   "metadata": {
    "id": "fmGBOdJHzG5c"
   },
   "source": [
    "#### Probablity of being delayed based on originating airport\n",
    "Definition of probablity state it is the likelihood of some event happening. \n",
    "\n",
    "Since we are calculating the likelihood of a flight being delayed based on it's originating airport, we need to determine the total number of flights that had a delayed arrival based on their originating airport. Then to get the probability, we divide those numbers by the total number of flights in the full dataset.  Glad I still have the full dataset around!\n",
    "\n",
    "First lets see how many originating airports we have."
   ]
  },
  {
   "cell_type": "code",
   "execution_count": null,
   "metadata": {
    "id": "7Un2hnNfzG5c",
    "outputId": "af921cef-35e4-448e-9391-54f81ea2e17c"
   },
   "outputs": [
    {
     "name": "stdout",
     "output_type": "stream",
     "text": [
      "<class 'pandas.core.frame.DataFrame'>\n",
      "Int64Index: 5231130 entries, 0 to 5245483\n",
      "Data columns (total 7 columns):\n",
      " #   Column               Dtype  \n",
      "---  ------               -----  \n",
      " 0   year                 int64  \n",
      " 1   month                int64  \n",
      " 2   day                  int64  \n",
      " 3   origin_airport       object \n",
      " 4   destination_airport  object \n",
      " 5   scheduled_departure  int64  \n",
      " 6   arrival_delay        float64\n",
      "dtypes: float64(1), int64(4), object(2)\n",
      "memory usage: 319.3+ MB\n"
     ]
    }
   ],
   "source": [
    "prob_df = reduced_df.copy()\n",
    "prob_df.info()"
   ]
  },
  {
   "cell_type": "code",
   "execution_count": null,
   "metadata": {
    "id": "aBxFf3rZzG5c",
    "outputId": "eef7d364-7e5f-45f3-eb95-ecccbdd56df9"
   },
   "outputs": [
    {
     "data": {
      "text/plain": [
       "(5231130, 7)"
      ]
     },
     "execution_count": 19,
     "metadata": {},
     "output_type": "execute_result"
    }
   ],
   "source": [
    "prob_df.shape"
   ]
  },
  {
   "cell_type": "markdown",
   "metadata": {
    "id": "pesenSQjzG5d"
   },
   "source": [
    "Let's count up the number of delayed flights per originating airport. Remember, a positive arrival_delay means that the flight was delayed."
   ]
  },
  {
   "cell_type": "code",
   "execution_count": null,
   "metadata": {
    "id": "Hvop31-CzG5d",
    "outputId": "bec6b7a7-94b6-4844-ec4f-f61b6eee0edc"
   },
   "outputs": [
    {
     "data": {
      "text/plain": [
       "origin_airport\n",
       "ABE     826\n",
       "ABI     686\n",
       "ABQ    6965\n",
       "ABR     246\n",
       "ABY     309\n",
       "       ... \n",
       "WRG     236\n",
       "WYS      58\n",
       "XNA    3727\n",
       "YAK     159\n",
       "YUM     627\n",
       "Length: 322, dtype: int64"
      ]
     },
     "execution_count": 20,
     "metadata": {},
     "output_type": "execute_result"
    }
   ],
   "source": [
    "delays_per_airport = prob_df[prob_df.arrival_delay > 0].groupby('origin_airport').size()\n",
    "delays_per_airport"
   ]
  },
  {
   "cell_type": "markdown",
   "metadata": {
    "id": "sPbDL8xdzG5e"
   },
   "source": [
    "<div class=\"alert alert-block alert-info\">\n",
    "<b>Aggregation of Delayed Flights: What all does that command do?</b>  <br>\n",
    "   1. Filter the df down to only looking at flights with a positive arrival_delay <br>\n",
    "   2. Grouped the output of from step 1 by origin_airport <br>\n",
    "   3. Used size() to get a total number for each origin_airport\n",
    "    \n",
    "We can check this by filtering the df for delayed flights for a specific origin_airport and compare the numbers.\n",
    "</div>"
   ]
  },
  {
   "cell_type": "code",
   "execution_count": null,
   "metadata": {
    "id": "QoSL3dbLzG5e",
    "outputId": "2c98c750-544d-4efd-e60a-78e31b2c2751"
   },
   "outputs": [
    {
     "data": {
      "text/html": [
       "<div>\n",
       "<style scoped>\n",
       "    .dataframe tbody tr th:only-of-type {\n",
       "        vertical-align: middle;\n",
       "    }\n",
       "\n",
       "    .dataframe tbody tr th {\n",
       "        vertical-align: top;\n",
       "    }\n",
       "\n",
       "    .dataframe thead th {\n",
       "        text-align: right;\n",
       "    }\n",
       "</style>\n",
       "<table border=\"1\" class=\"dataframe\">\n",
       "  <thead>\n",
       "    <tr style=\"text-align: right;\">\n",
       "      <th></th>\n",
       "      <th>year</th>\n",
       "      <th>month</th>\n",
       "      <th>day</th>\n",
       "      <th>origin_airport</th>\n",
       "      <th>destination_airport</th>\n",
       "      <th>scheduled_departure</th>\n",
       "      <th>arrival_delay</th>\n",
       "    </tr>\n",
       "  </thead>\n",
       "  <tbody>\n",
       "    <tr>\n",
       "      <th>14058</th>\n",
       "      <td>2015</td>\n",
       "      <td>1</td>\n",
       "      <td>2</td>\n",
       "      <td>ABE</td>\n",
       "      <td>ORD</td>\n",
       "      <td>600</td>\n",
       "      <td>6.0</td>\n",
       "    </tr>\n",
       "    <tr>\n",
       "      <th>24269</th>\n",
       "      <td>2015</td>\n",
       "      <td>1</td>\n",
       "      <td>2</td>\n",
       "      <td>ABE</td>\n",
       "      <td>ATL</td>\n",
       "      <td>1600</td>\n",
       "      <td>11.0</td>\n",
       "    </tr>\n",
       "    <tr>\n",
       "      <th>30508</th>\n",
       "      <td>2015</td>\n",
       "      <td>1</td>\n",
       "      <td>3</td>\n",
       "      <td>ABE</td>\n",
       "      <td>ORD</td>\n",
       "      <td>600</td>\n",
       "      <td>30.0</td>\n",
       "    </tr>\n",
       "    <tr>\n",
       "      <th>39900</th>\n",
       "      <td>2015</td>\n",
       "      <td>1</td>\n",
       "      <td>3</td>\n",
       "      <td>ABE</td>\n",
       "      <td>ATL</td>\n",
       "      <td>1600</td>\n",
       "      <td>20.0</td>\n",
       "    </tr>\n",
       "    <tr>\n",
       "      <th>41022</th>\n",
       "      <td>2015</td>\n",
       "      <td>1</td>\n",
       "      <td>3</td>\n",
       "      <td>ABE</td>\n",
       "      <td>DTW</td>\n",
       "      <td>1715</td>\n",
       "      <td>17.0</td>\n",
       "    </tr>\n",
       "    <tr>\n",
       "      <th>...</th>\n",
       "      <td>...</td>\n",
       "      <td>...</td>\n",
       "      <td>...</td>\n",
       "      <td>...</td>\n",
       "      <td>...</td>\n",
       "      <td>...</td>\n",
       "      <td>...</td>\n",
       "    </tr>\n",
       "    <tr>\n",
       "      <th>5210999</th>\n",
       "      <td>2015</td>\n",
       "      <td>12</td>\n",
       "      <td>29</td>\n",
       "      <td>ABE</td>\n",
       "      <td>ATL</td>\n",
       "      <td>1610</td>\n",
       "      <td>68.0</td>\n",
       "    </tr>\n",
       "    <tr>\n",
       "      <th>5211928</th>\n",
       "      <td>2015</td>\n",
       "      <td>12</td>\n",
       "      <td>29</td>\n",
       "      <td>ABE</td>\n",
       "      <td>ORD</td>\n",
       "      <td>1712</td>\n",
       "      <td>208.0</td>\n",
       "    </tr>\n",
       "    <tr>\n",
       "      <th>5217796</th>\n",
       "      <td>2015</td>\n",
       "      <td>12</td>\n",
       "      <td>30</td>\n",
       "      <td>ABE</td>\n",
       "      <td>ORD</td>\n",
       "      <td>639</td>\n",
       "      <td>49.0</td>\n",
       "    </tr>\n",
       "    <tr>\n",
       "      <th>5226920</th>\n",
       "      <td>2015</td>\n",
       "      <td>12</td>\n",
       "      <td>30</td>\n",
       "      <td>ABE</td>\n",
       "      <td>ATL</td>\n",
       "      <td>1610</td>\n",
       "      <td>44.0</td>\n",
       "    </tr>\n",
       "    <tr>\n",
       "      <th>5227862</th>\n",
       "      <td>2015</td>\n",
       "      <td>12</td>\n",
       "      <td>30</td>\n",
       "      <td>ABE</td>\n",
       "      <td>ORD</td>\n",
       "      <td>1712</td>\n",
       "      <td>31.0</td>\n",
       "    </tr>\n",
       "  </tbody>\n",
       "</table>\n",
       "<p>826 rows × 7 columns</p>\n",
       "</div>"
      ],
      "text/plain": [
       "         year  month  day origin_airport destination_airport  \\\n",
       "14058    2015      1    2            ABE                 ORD   \n",
       "24269    2015      1    2            ABE                 ATL   \n",
       "30508    2015      1    3            ABE                 ORD   \n",
       "39900    2015      1    3            ABE                 ATL   \n",
       "41022    2015      1    3            ABE                 DTW   \n",
       "...       ...    ...  ...            ...                 ...   \n",
       "5210999  2015     12   29            ABE                 ATL   \n",
       "5211928  2015     12   29            ABE                 ORD   \n",
       "5217796  2015     12   30            ABE                 ORD   \n",
       "5226920  2015     12   30            ABE                 ATL   \n",
       "5227862  2015     12   30            ABE                 ORD   \n",
       "\n",
       "         scheduled_departure  arrival_delay  \n",
       "14058                    600            6.0  \n",
       "24269                   1600           11.0  \n",
       "30508                    600           30.0  \n",
       "39900                   1600           20.0  \n",
       "41022                   1715           17.0  \n",
       "...                      ...            ...  \n",
       "5210999                 1610           68.0  \n",
       "5211928                 1712          208.0  \n",
       "5217796                  639           49.0  \n",
       "5226920                 1610           44.0  \n",
       "5227862                 1712           31.0  \n",
       "\n",
       "[826 rows x 7 columns]"
      ]
     },
     "execution_count": 21,
     "metadata": {},
     "output_type": "execute_result"
    }
   ],
   "source": [
    "prob_df[(prob_df.arrival_delay > 0) & (prob_df.origin_airport == 'ABE')]"
   ]
  },
  {
   "cell_type": "markdown",
   "metadata": {
    "id": "m0MwPJV4zG5e"
   },
   "source": [
    "WooHoo!!  We match!\n",
    "\n",
    "At this point all we need to do is calculate the probabality of the number of delayed flights per origin_airport.  Remember this calculation will use the total number of flights in the prob_df."
   ]
  },
  {
   "cell_type": "code",
   "execution_count": null,
   "metadata": {
    "id": "fzAHDlZ7zG5f",
    "outputId": "dd1cf443-25dc-49c8-d985-d44fcbeca5e0"
   },
   "outputs": [
    {
     "data": {
      "text/plain": [
       "5231130"
      ]
     },
     "execution_count": 22,
     "metadata": {},
     "output_type": "execute_result"
    }
   ],
   "source": [
    "total_flights = len(prob_df)\n",
    "total_flights"
   ]
  },
  {
   "cell_type": "code",
   "execution_count": null,
   "metadata": {
    "id": "PKHdDGKazG5f",
    "outputId": "f4ecce54-eca1-4278-babf-7c4ea453ad64"
   },
   "outputs": [
    {
     "data": {
      "text/plain": [
       "origin_airport\n",
       "ATL    0.021959\n",
       "ORD    0.021655\n",
       "DFW    0.017789\n",
       "DEN    0.015438\n",
       "LAX    0.015228\n",
       "         ...   \n",
       "VEL    0.000004\n",
       "HYA    0.000004\n",
       "DLG    0.000003\n",
       "ITH    0.000003\n",
       "CNY    0.000002\n",
       "Length: 322, dtype: float64"
      ]
     },
     "execution_count": 23,
     "metadata": {},
     "output_type": "execute_result"
    }
   ],
   "source": [
    "prob_delay_airport = delays_per_airport.apply(lambda x: x/total_flights)\n",
    "prob_delay_airport = prob_delay_airport.sort_values(ascending=False)\n",
    "prob_delay_airport"
   ]
  },
  {
   "cell_type": "code",
   "execution_count": null,
   "metadata": {
    "collapsed": true,
    "id": "flF84f2jzG5f",
    "jupyter": {
     "outputs_hidden": true
    },
    "outputId": "9f67adb4-27ab-43ca-b1c4-f3d3e0f0cd1e"
   },
   "outputs": [
    {
     "name": "stdout",
     "output_type": "stream",
     "text": [
      "A flight from ATL has a 2.195931% of being delayed\n",
      "A flight from ORD has a 2.165517% of being delayed\n",
      "A flight from DFW has a 1.778851% of being delayed\n",
      "A flight from DEN has a 1.543758% of being delayed\n",
      "A flight from LAX has a 1.522826% of being delayed\n",
      "A flight from IAH has a 1.143615% of being delayed\n",
      "A flight from PHX has a 1.113947% of being delayed\n",
      "A flight from SFO has a 1.073879% of being delayed\n",
      "A flight from LAS has a 1.011196% of being delayed\n",
      "A flight from SEA has a 0.832421% of being delayed\n",
      "A flight from CLT has a 0.792200% of being delayed\n",
      "A flight from MCO has a 0.790001% of being delayed\n",
      "A flight from BOS has a 0.740471% of being delayed\n",
      "A flight from MSP has a 0.717646% of being delayed\n",
      "A flight from DTW has a 0.693560% of being delayed\n",
      "A flight from LGA has a 0.692699% of being delayed\n",
      "A flight from EWR has a 0.688303% of being delayed\n",
      "A flight from BWI has a 0.668670% of being delayed\n",
      "A flight from JFK has a 0.639938% of being delayed\n",
      "A flight from MDW has a 0.609409% of being delayed\n",
      "A flight from SLC has a 0.594231% of being delayed\n",
      "A flight from MIA has a 0.529905% of being delayed\n",
      "A flight from DAL has a 0.508724% of being delayed\n",
      "A flight from SAN has a 0.479151% of being delayed\n",
      "A flight from FLL has a 0.473550% of being delayed\n",
      "A flight from DCA has a 0.465043% of being delayed\n",
      "A flight from PHL has a 0.464030% of being delayed\n",
      "A flight from TPA has a 0.421936% of being delayed\n",
      "A flight from HOU has a 0.419852% of being delayed\n",
      "A flight from OAK has a 0.351912% of being delayed\n",
      "A flight from STL has a 0.321212% of being delayed\n",
      "A flight from BNA has a 0.320160% of being delayed\n",
      "A flight from HNL has a 0.295596% of being delayed\n",
      "A flight from PDX has a 0.288829% of being delayed\n",
      "A flight from SJC has a 0.287835% of being delayed\n",
      "A flight from AUS has a 0.280647% of being delayed\n",
      "A flight from SMF has a 0.280016% of being delayed\n",
      "A flight from MCI has a 0.257478% of being delayed\n",
      "A flight from MSY has a 0.244288% of being delayed\n",
      "A flight from SNA has a 0.238686% of being delayed\n",
      "A flight from IAD has a 0.231938% of being delayed\n",
      "A flight from CLE has a 0.209763% of being delayed\n",
      "A flight from RDU has a 0.208024% of being delayed\n",
      "A flight from MKE has a 0.182733% of being delayed\n",
      "A flight from SAT has a 0.181376% of being delayed\n",
      "A flight from RSW has a 0.178298% of being delayed\n",
      "A flight from PBI has a 0.169046% of being delayed\n",
      "A flight from SJU has a 0.153045% of being delayed\n",
      "A flight from IND has a 0.152300% of being delayed\n",
      "A flight from OGG has a 0.150465% of being delayed\n",
      "A flight from CMH has a 0.147425% of being delayed\n",
      "A flight from CVG has a 0.133623% of being delayed\n",
      "A flight from ABQ has a 0.133145% of being delayed\n",
      "A flight from PIT has a 0.129838% of being delayed\n",
      "A flight from ONT has a 0.118101% of being delayed\n",
      "A flight from BUR has a 0.115329% of being delayed\n",
      "A flight from JAX has a 0.110645% of being delayed\n",
      "A flight from BDL has a 0.108791% of being delayed\n",
      "A flight from OMA has a 0.106822% of being delayed\n",
      "A flight from OKC has a 0.103993% of being delayed\n",
      "A flight from ANC has a 0.099328% of being delayed\n",
      "A flight from RIC has a 0.097359% of being delayed\n",
      "A flight from TUS has a 0.093364% of being delayed\n",
      "A flight from MEM has a 0.092236% of being delayed\n",
      "A flight from BUF has a 0.091376% of being delayed\n",
      "A flight from RNO has a 0.091376% of being delayed\n",
      "A flight from TUL has a 0.089120% of being delayed\n",
      "A flight from ELP has a 0.082353% of being delayed\n",
      "A flight from BHM has a 0.080766% of being delayed\n",
      "A flight from BOI has a 0.079275% of being delayed\n",
      "A flight from XNA has a 0.071247% of being delayed\n",
      "A flight from KOA has a 0.071055% of being delayed\n",
      "A flight from CHS has a 0.069736% of being delayed\n",
      "A flight from LIT has a 0.069411% of being delayed\n",
      "A flight from LIH has a 0.064747% of being delayed\n",
      "A flight from PSP has a 0.063237% of being delayed\n",
      "A flight from PVD has a 0.063027% of being delayed\n",
      "A flight from SDF has a 0.062549% of being delayed\n",
      "A flight from GRR has a 0.061172% of being delayed\n",
      "A flight from GEG has a 0.060503% of being delayed\n",
      "A flight from BTR has a 0.058783% of being delayed\n",
      "A flight from HPN has a 0.057253% of being delayed\n",
      "A flight from LGB has a 0.056871% of being delayed\n",
      "A flight from ORF has a 0.056259% of being delayed\n",
      "A flight from DAY has a 0.055667% of being delayed\n",
      "A flight from DSM has a 0.055418% of being delayed\n",
      "A flight from ICT has a 0.054252% of being delayed\n",
      "A flight from FAT has a 0.053698% of being delayed\n",
      "A flight from MSN has a 0.052704% of being delayed\n",
      "A flight from TYS has a 0.050945% of being delayed\n",
      "A flight from SAV has a 0.049664% of being delayed\n",
      "A flight from MAF has a 0.049588% of being delayed\n",
      "A flight from CID has a 0.048708% of being delayed\n",
      "A flight from COS has a 0.047275% of being delayed\n",
      "A flight from SGF has a 0.046682% of being delayed\n",
      "A flight from SHV has a 0.044751% of being delayed\n",
      "A flight from JAN has a 0.044732% of being delayed\n",
      "A flight from GSO has a 0.043241% of being delayed\n",
      "A flight from ROC has a 0.040603% of being delayed\n",
      "A flight from GSP has a 0.040355% of being delayed\n",
      "A flight from FSD has a 0.040355% of being delayed\n",
      "A flight from PNS has a 0.038615% of being delayed\n",
      "A flight from ALB has a 0.038347% of being delayed\n",
      "A flight from MOB has a 0.038252% of being delayed\n",
      "A flight from FAR has a 0.038022% of being delayed\n",
      "A flight from SBA has a 0.037774% of being delayed\n",
      "A flight from LFT has a 0.037315% of being delayed\n",
      "A flight from FWA has a 0.036359% of being delayed\n",
      "A flight from ITO has a 0.035709% of being delayed\n",
      "A flight from CAE has a 0.035633% of being delayed\n",
      "A flight from MYR has a 0.035002% of being delayed\n",
      "A flight from LEX has a 0.034276% of being delayed\n",
      "A flight from MHT has a 0.033855% of being delayed\n",
      "A flight from CRP has a 0.032173% of being delayed\n",
      "A flight from GRB has a 0.032096% of being delayed\n",
      "A flight from SBN has a 0.031771% of being delayed\n",
      "A flight from CAK has a 0.031752% of being delayed\n",
      "A flight from PIA has a 0.031714% of being delayed\n",
      "A flight from JNU has a 0.030816% of being delayed\n",
      "A flight from SYR has a 0.030433% of being delayed\n",
      "A flight from LBB has a 0.029630% of being delayed\n",
      "A flight from VPS has a 0.029516% of being delayed\n",
      "A flight from CHA has a 0.029076% of being delayed\n",
      "A flight from AMA has a 0.028942% of being delayed\n",
      "A flight from ASE has a 0.027986% of being delayed\n",
      "A flight from PWM has a 0.027986% of being delayed\n",
      "A flight from ACY has a 0.027394% of being delayed\n",
      "A flight from HSV has a 0.026954% of being delayed\n",
      "A flight from MLI has a 0.026648% of being delayed\n",
      "A flight from ISP has a 0.026591% of being delayed\n",
      "A flight from STT has a 0.025960% of being delayed\n",
      "A flight from EVV has a 0.025807% of being delayed\n",
      "A flight from GRK has a 0.025214% of being delayed\n",
      "A flight from MGM has a 0.024488% of being delayed\n",
      "A flight from FNT has a 0.023456% of being delayed\n",
      "A flight from BIS has a 0.022882% of being delayed\n",
      "A flight from AEX has a 0.022519% of being delayed\n",
      "A flight from MLU has a 0.021773% of being delayed\n",
      "A flight from TTN has a 0.021544% of being delayed\n",
      "A flight from RAP has a 0.021315% of being delayed\n",
      "A flight from EUG has a 0.021257% of being delayed\n",
      "A flight from BZN has a 0.021143% of being delayed\n",
      "A flight from SBP has a 0.020779% of being delayed\n",
      "A flight from ATW has a 0.020569% of being delayed\n",
      "A flight from GNV has a 0.020244% of being delayed\n",
      "A flight from BTV has a 0.019957% of being delayed\n",
      "A flight from GPT has a 0.019862% of being delayed\n",
      "A flight from MRY has a 0.019805% of being delayed\n",
      "A flight from CRW has a 0.019747% of being delayed\n",
      "A flight from AGS has a 0.019193% of being delayed\n",
      "A flight from JAC has a 0.019002% of being delayed\n",
      "A flight from SRQ has a 0.018925% of being delayed\n",
      "A flight from ECP has a 0.018428% of being delayed\n",
      "A flight from MFE has a 0.018313% of being delayed\n",
      "A flight from TLH has a 0.018294% of being delayed\n",
      "A flight from AVL has a 0.017836% of being delayed\n",
      "A flight from GJT has a 0.017836% of being delayed\n",
      "A flight from BMI has a 0.017491% of being delayed\n",
      "A flight from LNK has a 0.016899% of being delayed\n",
      "A flight from KTN has a 0.016822% of being delayed\n",
      "A flight from MDT has a 0.016650% of being delayed\n",
      "A flight from BFL has a 0.016268% of being delayed\n",
      "A flight from HRL has a 0.016172% of being delayed\n",
      "A flight from ABE has a 0.015790% of being delayed\n",
      "A flight from TVC has a 0.015771% of being delayed\n",
      "A flight from TYR has a 0.015618% of being delayed\n",
      "A flight from ROA has a 0.015083% of being delayed\n",
      "A flight from DLH has a 0.014873% of being delayed\n",
      "A flight from ELM has a 0.014605% of being delayed\n",
      "A flight from DRO has a 0.014586% of being delayed\n",
      "A flight from MFR has a 0.014509% of being delayed\n",
      "A flight from ISN has a 0.014356% of being delayed\n",
      "A flight from CHO has a 0.014318% of being delayed\n",
      "A flight from PSC has a 0.013687% of being delayed\n",
      "A flight from FAI has a 0.013152% of being delayed\n",
      "A flight from ABI has a 0.013114% of being delayed\n",
      "A flight from FSM has a 0.013018% of being delayed\n",
      "A flight from FLG has a 0.012712% of being delayed\n",
      "A flight from LRD has a 0.012693% of being delayed\n",
      "A flight from RST has a 0.012598% of being delayed\n",
      "A flight from CLL has a 0.012464% of being delayed\n",
      "A flight from LAN has a 0.012426% of being delayed\n",
      "A flight from BRO has a 0.012292% of being delayed\n",
      "A flight from BIL has a 0.012101% of being delayed\n",
      "A flight from TRI has a 0.012062% of being delayed\n",
      "A flight from YUM has a 0.011986% of being delayed\n",
      "A flight from CMI has a 0.011737% of being delayed\n",
      "A flight from MSO has a 0.011126% of being delayed\n",
      "A flight from MOT has a 0.011068% of being delayed\n",
      "A flight from FAY has a 0.010896% of being delayed\n",
      "A flight from ILM has a 0.010782% of being delayed\n",
      "A flight from SAF has a 0.010782% of being delayed\n",
      "A flight from RDM has a 0.010782% of being delayed\n",
      "A flight from SGU has a 0.010457% of being delayed\n",
      "A flight from IDA has a 0.010323% of being delayed\n",
      "A flight from DHN has a 0.010285% of being delayed\n",
      "A flight from FCA has a 0.010055% of being delayed\n",
      "A flight from MBS has a 0.009998% of being delayed\n",
      "A flight from GTF has a 0.009788% of being delayed\n",
      "A flight from MHK has a 0.009730% of being delayed\n",
      "A flight from EYW has a 0.009692% of being delayed\n",
      "A flight from SJT has a 0.009616% of being delayed\n",
      "A flight from SPI has a 0.009616% of being delayed\n",
      "A flight from AZO has a 0.009520% of being delayed\n",
      "A flight from LCH has a 0.009424% of being delayed\n",
      "A flight from PHF has a 0.009252% of being delayed\n",
      "A flight from LBE has a 0.009042% of being delayed\n",
      "A flight from COU has a 0.008908% of being delayed\n",
      "A flight from ACT has a 0.008908% of being delayed\n",
      "A flight from EGE has a 0.008889% of being delayed\n",
      "A flight from AVP has a 0.008851% of being delayed\n",
      "A flight from RHI has a 0.008794% of being delayed\n",
      "A flight from SIT has a 0.008794% of being delayed\n",
      "A flight from BQN has a 0.008679% of being delayed\n",
      "A flight from ACV has a 0.008583% of being delayed\n",
      "A flight from LAW has a 0.008201% of being delayed\n",
      "A flight from CWA has a 0.008029% of being delayed\n",
      "A flight from LSE has a 0.007991% of being delayed\n",
      "A flight from OAJ has a 0.007952% of being delayed\n",
      "A flight from SPS has a 0.007876% of being delayed\n",
      "A flight from BPT has a 0.007780% of being delayed\n",
      "A flight from CPR has a 0.007570% of being delayed\n",
      "A flight from CSG has a 0.007302% of being delayed\n",
      "A flight from STX has a 0.006901% of being delayed\n",
      "A flight from VLD has a 0.006863% of being delayed\n",
      "A flight from GTR has a 0.006710% of being delayed\n",
      "A flight from MLB has a 0.006595% of being delayed\n",
      "A flight from DAB has a 0.006461% of being delayed\n",
      "A flight from HLN has a 0.006442% of being delayed\n",
      "A flight from ROW has a 0.006366% of being delayed\n",
      "A flight from BET has a 0.006270% of being delayed\n",
      "A flight from TXK has a 0.006251% of being delayed\n",
      "A flight from MEI has a 0.006194% of being delayed\n",
      "A flight from COD has a 0.005983% of being delayed\n",
      "A flight from OME has a 0.005926% of being delayed\n",
      "A flight from ABY has a 0.005907% of being delayed\n",
      "A flight from MTJ has a 0.005888% of being delayed\n",
      "A flight from OTZ has a 0.005658% of being delayed\n",
      "A flight from BRW has a 0.005658% of being delayed\n",
      "A flight from SCC has a 0.005639% of being delayed\n",
      "A flight from BQK has a 0.005601% of being delayed\n",
      "A flight from ERI has a 0.005429% of being delayed\n",
      "A flight from SCE has a 0.005353% of being delayed\n",
      "A flight from GFK has a 0.005200% of being delayed\n",
      "A flight from CIU has a 0.005142% of being delayed\n",
      "A flight from GGG has a 0.005123% of being delayed\n",
      "A flight from JMS has a 0.004970% of being delayed\n",
      "A flight from JLN has a 0.004970% of being delayed\n",
      "A flight from SWF has a 0.004970% of being delayed\n",
      "A flight from HDN has a 0.004913% of being delayed\n",
      "A flight from PSG has a 0.004894% of being delayed\n",
      "A flight from HIB has a 0.004875% of being delayed\n",
      "A flight from SUN has a 0.004856% of being delayed\n",
      "A flight from ABR has a 0.004703% of being delayed\n",
      "A flight from PLN has a 0.004550% of being delayed\n",
      "A flight from WRG has a 0.004511% of being delayed\n",
      "A flight from DBQ has a 0.004511% of being delayed\n",
      "A flight from MKG has a 0.004492% of being delayed\n",
      "A flight from BLI has a 0.004378% of being delayed\n",
      "A flight from GCK has a 0.004320% of being delayed\n",
      "A flight from CLD has a 0.004301% of being delayed\n",
      "A flight from TOL has a 0.004206% of being delayed\n",
      "A flight from GCC has a 0.004186% of being delayed\n",
      "A flight from EAU has a 0.004110% of being delayed\n",
      "A flight from PIH has a 0.004091% of being delayed\n",
      "A flight from TWF has a 0.004072% of being delayed\n",
      "A flight from EWN has a 0.003976% of being delayed\n",
      "A flight from PIB has a 0.003957% of being delayed\n",
      "A flight from CDV has a 0.003919% of being delayed\n",
      "A flight from SMX has a 0.003881% of being delayed\n",
      "A flight from CMX has a 0.003861% of being delayed\n",
      "A flight from BRD has a 0.003842% of being delayed\n",
      "A flight from PAH has a 0.003728% of being delayed\n",
      "A flight from HYS has a 0.003689% of being delayed\n",
      "A flight from ORH has a 0.003670% of being delayed\n",
      "A flight from DIK has a 0.003651% of being delayed\n",
      "A flight from SUX has a 0.003613% of being delayed\n",
      "A flight from GUC has a 0.003613% of being delayed\n",
      "A flight from INL has a 0.003575% of being delayed\n",
      "A flight from PSE has a 0.003479% of being delayed\n",
      "A flight from CDC has a 0.003441% of being delayed\n",
      "A flight from RDD has a 0.003326% of being delayed\n",
      "A flight from ALO has a 0.003288% of being delayed\n",
      "A flight from BJI has a 0.003288% of being delayed\n",
      "A flight from DVL has a 0.003192% of being delayed\n",
      "A flight from GRI has a 0.003135% of being delayed\n",
      "A flight from ACK has a 0.003097% of being delayed\n",
      "A flight from IMT has a 0.003097% of being delayed\n",
      "A flight from ADQ has a 0.003059% of being delayed\n",
      "A flight from YAK has a 0.003039% of being delayed\n",
      "A flight from RKS has a 0.002925% of being delayed\n",
      "A flight from HOB has a 0.002810% of being delayed\n",
      "A flight from APN has a 0.002715% of being delayed\n",
      "A flight from GUM has a 0.002600% of being delayed\n",
      "A flight from LAR has a 0.002523% of being delayed\n",
      "A flight from PBG has a 0.002485% of being delayed\n",
      "A flight from IAG has a 0.002428% of being delayed\n",
      "A flight from ESC has a 0.002409% of being delayed\n",
      "A flight from BGR has a 0.002294% of being delayed\n",
      "A flight from OTH has a 0.002198% of being delayed\n",
      "A flight from EKO has a 0.002141% of being delayed\n",
      "A flight from BTM has a 0.001893% of being delayed\n",
      "A flight from LWS has a 0.001854% of being delayed\n",
      "A flight from MQT has a 0.001740% of being delayed\n",
      "A flight from PUB has a 0.001663% of being delayed\n",
      "A flight from MVY has a 0.001338% of being delayed\n",
      "A flight from BGM has a 0.001338% of being delayed\n",
      "A flight from PPG has a 0.001281% of being delayed\n",
      "A flight from UST has a 0.001166% of being delayed\n",
      "A flight from CEC has a 0.001128% of being delayed\n",
      "A flight from WYS has a 0.001109% of being delayed\n",
      "A flight from MMH has a 0.001090% of being delayed\n",
      "A flight from ADK has a 0.001071% of being delayed\n",
      "A flight from ILG has a 0.001013% of being delayed\n",
      "A flight from GST has a 0.000975% of being delayed\n",
      "A flight from STC has a 0.000726% of being delayed\n",
      "A flight from AKN has a 0.000612% of being delayed\n",
      "A flight from VEL has a 0.000440% of being delayed\n",
      "A flight from HYA has a 0.000401% of being delayed\n",
      "A flight from DLG has a 0.000325% of being delayed\n",
      "A flight from ITH has a 0.000268% of being delayed\n",
      "A flight from CNY has a 0.000153% of being delayed\n"
     ]
    }
   ],
   "source": [
    "# a bit nicer output for all the origin_airports\n",
    "for i in prob_delay_airport.items():\n",
    "    p_delay = '%.6f'%(i[1]*100)\n",
    "    print(f'A flight from {i[0]} has a {p_delay}% of being delayed')\n",
    "        "
   ]
  },
  {
   "cell_type": "markdown",
   "metadata": {
    "id": "zWsbMRYXzG5g"
   },
   "source": [
    "So what does this all mean? Remember probablity is the likelihood of an event occuring. Looking at our results above, the probablity (or likelihood) of a flight originating from ATL of being delayed is around 2%.\n",
    "\n",
    "Let's take this one step further... We just calculated the likelihood of an ATL originating flight being delayed. The ATL airport is concerned that this number doesn't match their experiences on a daily basis. They could use a Bernoulli Distribution to determine the probability that 2% of their flights per day arrive to their destination late. \n",
    "\n",
    "First we need to get the avg number of flights per day."
   ]
  },
  {
   "cell_type": "code",
   "execution_count": null,
   "metadata": {
    "id": "pLCH6GtpzG5g",
    "outputId": "ed940c18-3048-40c4-e3b8-de1aa582e1b6"
   },
   "outputs": [
    {
     "data": {
      "text/plain": [
       "15662"
      ]
     },
     "execution_count": 25,
     "metadata": {},
     "output_type": "execute_result"
    }
   ],
   "source": [
    "avg_daily = round(prob_df.groupby(['month','day']).size().mean())\n",
    "avg_daily"
   ]
  },
  {
   "cell_type": "markdown",
   "metadata": {
    "id": "ty1w8AWVzG5g"
   },
   "source": [
    "We known that a pmf will tell us the probability of x successes out of n trials. In this case a success is that an ATL flight arrives late at its destination. "
   ]
  },
  {
   "cell_type": "code",
   "execution_count": null,
   "metadata": {
    "id": "7WxjCxTXzG5h",
    "outputId": "6a0335a1-ba5a-4915-cfaf-dc990bc3dbcf"
   },
   "outputs": [
    {
     "data": {
      "text/plain": [
       "0.005485458407850754"
      ]
     },
     "execution_count": 26,
     "metadata": {},
     "output_type": "execute_result"
    }
   ],
   "source": [
    "pmf_atl = stats.binom.pmf(round(.02*avg_daily), n=avg_daily, p=0.021930)\n",
    "pmf_atl"
   ]
  },
  {
   "cell_type": "markdown",
   "metadata": {
    "id": "j1VxZa8_zG5h"
   },
   "source": [
    "Aaahhhh! The ATL airport officials like this number a lot better. There is a 2% probability that a flight originating from ATL will arrive late. However, on a daily basis, the probability that 2% of flights originating from their airport and arriving late at the destination airport is roughly .5%.\n",
    "\n",
    "Yup! it's all in which statistics you present and how you present them. Both statements are accurate, but them tell a slightly different story. "
   ]
  },
  {
   "cell_type": "markdown",
   "metadata": {
    "id": "QQccfGbxcjxK"
   },
   "source": [
    "##What is the difference between probability and proportion?"
   ]
  },
  {
   "cell_type": "markdown",
   "metadata": {
    "id": "R8UcAnYEzG5h"
   },
   "source": [
    "#### Proportion of flights being delayed by originating airport\n",
    "What is the difference between probablity and proportion? We have already defined probability above. Let's define proportion now. <br>\n",
    "\n",
    "Proportion measures the likelihood that an event <b><i>has</i></b> occurred.\n",
    "\n",
    "So, this means we need to calculate things a bit different. We need to produce a ratio of delayed vs non-delayed flights for each originating airport. The focus in a proporion is on what <b><i>has</i></b> happened. Where in a probability we are looking at what might happen."
   ]
  },
  {
   "cell_type": "code",
   "execution_count": null,
   "metadata": {
    "id": "uLn2aX-3zG5i",
    "outputId": "c9ab0bfd-2612-4bf7-ffd3-353dd7cdba75"
   },
   "outputs": [
    {
     "name": "stdout",
     "output_type": "stream",
     "text": [
      "<class 'pandas.core.frame.DataFrame'>\n",
      "Int64Index: 5231130 entries, 0 to 5245483\n",
      "Data columns (total 7 columns):\n",
      " #   Column               Dtype  \n",
      "---  ------               -----  \n",
      " 0   year                 int64  \n",
      " 1   month                int64  \n",
      " 2   day                  int64  \n",
      " 3   origin_airport       object \n",
      " 4   destination_airport  object \n",
      " 5   scheduled_departure  int64  \n",
      " 6   arrival_delay        float64\n",
      "dtypes: float64(1), int64(4), object(2)\n",
      "memory usage: 319.3+ MB\n"
     ]
    }
   ],
   "source": [
    "# copy of full dataset\n",
    "prp_df = reduced_df.copy()\n",
    "prp_df.info()"
   ]
  },
  {
   "cell_type": "code",
   "execution_count": null,
   "metadata": {
    "id": "f6st4mJczG5i",
    "outputId": "613fe79c-7ca5-43c8-a474-fc45f3c99525"
   },
   "outputs": [
    {
     "name": "stdout",
     "output_type": "stream",
     "text": [
      "<class 'pandas.core.frame.DataFrame'>\n",
      "Int64Index: 5231130 entries, 0 to 5245483\n",
      "Data columns (total 7 columns):\n",
      " #   Column               Dtype  \n",
      "---  ------               -----  \n",
      " 0   year                 int64  \n",
      " 1   month                int64  \n",
      " 2   day                  int64  \n",
      " 3   origin_airport       object \n",
      " 4   destination_airport  object \n",
      " 5   scheduled_departure  int64  \n",
      " 6   arrival_delay        float64\n",
      "dtypes: float64(1), int64(4), object(2)\n",
      "memory usage: 319.3+ MB\n"
     ]
    }
   ],
   "source": [
    "prp_df.info()"
   ]
  },
  {
   "cell_type": "markdown",
   "metadata": {
    "id": "BRl9Ae1EzG5i"
   },
   "source": [
    "To make things a little easier, I'm going to add a column that has a boolean value to represent whether a flight was delayed or not. <br>\n",
    "\n",
    "Remember, if the arrival_delay is positive that means the flight was delayed. A flight that arrives on-time has a arrival_delay value of 0."
   ]
  },
  {
   "cell_type": "code",
   "execution_count": null,
   "metadata": {
    "id": "wfxCJZ0azG5j"
   },
   "outputs": [],
   "source": [
    "prp_df['delayed'] = prp_df.arrival_delay.apply(lambda x: x>0)"
   ]
  },
  {
   "cell_type": "code",
   "execution_count": null,
   "metadata": {
    "id": "knxMfnXBzG5j",
    "outputId": "e65e219e-2112-4769-d70f-8f8186915739"
   },
   "outputs": [
    {
     "data": {
      "text/html": [
       "<div>\n",
       "<style scoped>\n",
       "    .dataframe tbody tr th:only-of-type {\n",
       "        vertical-align: middle;\n",
       "    }\n",
       "\n",
       "    .dataframe tbody tr th {\n",
       "        vertical-align: top;\n",
       "    }\n",
       "\n",
       "    .dataframe thead th {\n",
       "        text-align: right;\n",
       "    }\n",
       "</style>\n",
       "<table border=\"1\" class=\"dataframe\">\n",
       "  <thead>\n",
       "    <tr style=\"text-align: right;\">\n",
       "      <th></th>\n",
       "      <th>year</th>\n",
       "      <th>month</th>\n",
       "      <th>day</th>\n",
       "      <th>origin_airport</th>\n",
       "      <th>destination_airport</th>\n",
       "      <th>scheduled_departure</th>\n",
       "      <th>arrival_delay</th>\n",
       "      <th>delayed</th>\n",
       "    </tr>\n",
       "  </thead>\n",
       "  <tbody>\n",
       "    <tr>\n",
       "      <th>0</th>\n",
       "      <td>2015</td>\n",
       "      <td>1</td>\n",
       "      <td>1</td>\n",
       "      <td>ANC</td>\n",
       "      <td>SEA</td>\n",
       "      <td>5</td>\n",
       "      <td>-22.0</td>\n",
       "      <td>False</td>\n",
       "    </tr>\n",
       "    <tr>\n",
       "      <th>1</th>\n",
       "      <td>2015</td>\n",
       "      <td>1</td>\n",
       "      <td>1</td>\n",
       "      <td>LAX</td>\n",
       "      <td>PBI</td>\n",
       "      <td>10</td>\n",
       "      <td>-9.0</td>\n",
       "      <td>False</td>\n",
       "    </tr>\n",
       "    <tr>\n",
       "      <th>2</th>\n",
       "      <td>2015</td>\n",
       "      <td>1</td>\n",
       "      <td>1</td>\n",
       "      <td>SFO</td>\n",
       "      <td>CLT</td>\n",
       "      <td>20</td>\n",
       "      <td>5.0</td>\n",
       "      <td>True</td>\n",
       "    </tr>\n",
       "    <tr>\n",
       "      <th>3</th>\n",
       "      <td>2015</td>\n",
       "      <td>1</td>\n",
       "      <td>1</td>\n",
       "      <td>LAX</td>\n",
       "      <td>MIA</td>\n",
       "      <td>20</td>\n",
       "      <td>-9.0</td>\n",
       "      <td>False</td>\n",
       "    </tr>\n",
       "    <tr>\n",
       "      <th>4</th>\n",
       "      <td>2015</td>\n",
       "      <td>1</td>\n",
       "      <td>1</td>\n",
       "      <td>SEA</td>\n",
       "      <td>ANC</td>\n",
       "      <td>25</td>\n",
       "      <td>-21.0</td>\n",
       "      <td>False</td>\n",
       "    </tr>\n",
       "    <tr>\n",
       "      <th>5</th>\n",
       "      <td>2015</td>\n",
       "      <td>1</td>\n",
       "      <td>1</td>\n",
       "      <td>SFO</td>\n",
       "      <td>MSP</td>\n",
       "      <td>25</td>\n",
       "      <td>8.0</td>\n",
       "      <td>True</td>\n",
       "    </tr>\n",
       "    <tr>\n",
       "      <th>6</th>\n",
       "      <td>2015</td>\n",
       "      <td>1</td>\n",
       "      <td>1</td>\n",
       "      <td>LAS</td>\n",
       "      <td>MSP</td>\n",
       "      <td>25</td>\n",
       "      <td>-17.0</td>\n",
       "      <td>False</td>\n",
       "    </tr>\n",
       "    <tr>\n",
       "      <th>7</th>\n",
       "      <td>2015</td>\n",
       "      <td>1</td>\n",
       "      <td>1</td>\n",
       "      <td>LAX</td>\n",
       "      <td>CLT</td>\n",
       "      <td>30</td>\n",
       "      <td>-10.0</td>\n",
       "      <td>False</td>\n",
       "    </tr>\n",
       "    <tr>\n",
       "      <th>8</th>\n",
       "      <td>2015</td>\n",
       "      <td>1</td>\n",
       "      <td>1</td>\n",
       "      <td>SFO</td>\n",
       "      <td>DFW</td>\n",
       "      <td>30</td>\n",
       "      <td>-13.0</td>\n",
       "      <td>False</td>\n",
       "    </tr>\n",
       "    <tr>\n",
       "      <th>9</th>\n",
       "      <td>2015</td>\n",
       "      <td>1</td>\n",
       "      <td>1</td>\n",
       "      <td>LAS</td>\n",
       "      <td>ATL</td>\n",
       "      <td>30</td>\n",
       "      <td>-15.0</td>\n",
       "      <td>False</td>\n",
       "    </tr>\n",
       "  </tbody>\n",
       "</table>\n",
       "</div>"
      ],
      "text/plain": [
       "   year  month  day origin_airport destination_airport  scheduled_departure  \\\n",
       "0  2015      1    1            ANC                 SEA                    5   \n",
       "1  2015      1    1            LAX                 PBI                   10   \n",
       "2  2015      1    1            SFO                 CLT                   20   \n",
       "3  2015      1    1            LAX                 MIA                   20   \n",
       "4  2015      1    1            SEA                 ANC                   25   \n",
       "5  2015      1    1            SFO                 MSP                   25   \n",
       "6  2015      1    1            LAS                 MSP                   25   \n",
       "7  2015      1    1            LAX                 CLT                   30   \n",
       "8  2015      1    1            SFO                 DFW                   30   \n",
       "9  2015      1    1            LAS                 ATL                   30   \n",
       "\n",
       "   arrival_delay  delayed  \n",
       "0          -22.0    False  \n",
       "1           -9.0    False  \n",
       "2            5.0     True  \n",
       "3           -9.0    False  \n",
       "4          -21.0    False  \n",
       "5            8.0     True  \n",
       "6          -17.0    False  \n",
       "7          -10.0    False  \n",
       "8          -13.0    False  \n",
       "9          -15.0    False  "
      ]
     },
     "execution_count": 30,
     "metadata": {},
     "output_type": "execute_result"
    }
   ],
   "source": [
    "prp_df.head(10)"
   ]
  },
  {
   "cell_type": "markdown",
   "metadata": {
    "id": "-OxpHlSozG5j"
   },
   "source": [
    "Now we can total up the number of flights per originating airport that were delayed and where not delayed."
   ]
  },
  {
   "cell_type": "code",
   "execution_count": null,
   "metadata": {
    "id": "uH73YSyUzG5k",
    "outputId": "b917a876-795b-4f40-f1d0-a9dc4309a03f"
   },
   "outputs": [
    {
     "data": {
      "text/html": [
       "<div>\n",
       "<style scoped>\n",
       "    .dataframe tbody tr th:only-of-type {\n",
       "        vertical-align: middle;\n",
       "    }\n",
       "\n",
       "    .dataframe tbody tr th {\n",
       "        vertical-align: top;\n",
       "    }\n",
       "\n",
       "    .dataframe thead th {\n",
       "        text-align: right;\n",
       "    }\n",
       "</style>\n",
       "<table border=\"1\" class=\"dataframe\">\n",
       "  <thead>\n",
       "    <tr style=\"text-align: right;\">\n",
       "      <th>delayed</th>\n",
       "      <th>False</th>\n",
       "      <th>True</th>\n",
       "    </tr>\n",
       "    <tr>\n",
       "      <th>origin_airport</th>\n",
       "      <th></th>\n",
       "      <th></th>\n",
       "    </tr>\n",
       "  </thead>\n",
       "  <tbody>\n",
       "    <tr>\n",
       "      <th>ABE</th>\n",
       "      <td>1401</td>\n",
       "      <td>826</td>\n",
       "    </tr>\n",
       "    <tr>\n",
       "      <th>ABI</th>\n",
       "      <td>1545</td>\n",
       "      <td>686</td>\n",
       "    </tr>\n",
       "    <tr>\n",
       "      <th>ABQ</th>\n",
       "      <td>11953</td>\n",
       "      <td>6965</td>\n",
       "    </tr>\n",
       "    <tr>\n",
       "      <th>ABR</th>\n",
       "      <td>417</td>\n",
       "      <td>246</td>\n",
       "    </tr>\n",
       "    <tr>\n",
       "      <th>ABY</th>\n",
       "      <td>557</td>\n",
       "      <td>309</td>\n",
       "    </tr>\n",
       "    <tr>\n",
       "      <th>...</th>\n",
       "      <td>...</td>\n",
       "      <td>...</td>\n",
       "    </tr>\n",
       "    <tr>\n",
       "      <th>WRG</th>\n",
       "      <td>413</td>\n",
       "      <td>236</td>\n",
       "    </tr>\n",
       "    <tr>\n",
       "      <th>WYS</th>\n",
       "      <td>150</td>\n",
       "      <td>58</td>\n",
       "    </tr>\n",
       "    <tr>\n",
       "      <th>XNA</th>\n",
       "      <td>5236</td>\n",
       "      <td>3727</td>\n",
       "    </tr>\n",
       "    <tr>\n",
       "      <th>YAK</th>\n",
       "      <td>491</td>\n",
       "      <td>159</td>\n",
       "    </tr>\n",
       "    <tr>\n",
       "      <th>YUM</th>\n",
       "      <td>1227</td>\n",
       "      <td>627</td>\n",
       "    </tr>\n",
       "  </tbody>\n",
       "</table>\n",
       "<p>322 rows × 2 columns</p>\n",
       "</div>"
      ],
      "text/plain": [
       "delayed         False  True \n",
       "origin_airport              \n",
       "ABE              1401    826\n",
       "ABI              1545    686\n",
       "ABQ             11953   6965\n",
       "ABR               417    246\n",
       "ABY               557    309\n",
       "...               ...    ...\n",
       "WRG               413    236\n",
       "WYS               150     58\n",
       "XNA              5236   3727\n",
       "YAK               491    159\n",
       "YUM              1227    627\n",
       "\n",
       "[322 rows x 2 columns]"
      ]
     },
     "execution_count": 31,
     "metadata": {},
     "output_type": "execute_result"
    }
   ],
   "source": [
    "prp_df.groupby(['origin_airport','delayed']).size().unstack()"
   ]
  },
  {
   "cell_type": "markdown",
   "metadata": {
    "id": "gEfcZMWCzG5k"
   },
   "source": [
    "Making progress! Now I need to flatten this out one more level and I'll be in business. Plus, I should probably store it somewhere too."
   ]
  },
  {
   "cell_type": "code",
   "execution_count": null,
   "metadata": {
    "id": "J92z8BCTzG5k",
    "outputId": "ff972047-3cda-4ab4-9b16-289357ef884e"
   },
   "outputs": [
    {
     "data": {
      "text/html": [
       "<div>\n",
       "<style scoped>\n",
       "    .dataframe tbody tr th:only-of-type {\n",
       "        vertical-align: middle;\n",
       "    }\n",
       "\n",
       "    .dataframe tbody tr th {\n",
       "        vertical-align: top;\n",
       "    }\n",
       "\n",
       "    .dataframe thead th {\n",
       "        text-align: right;\n",
       "    }\n",
       "</style>\n",
       "<table border=\"1\" class=\"dataframe\">\n",
       "  <thead>\n",
       "    <tr style=\"text-align: right;\">\n",
       "      <th>delayed</th>\n",
       "      <th>origin_airport</th>\n",
       "      <th>False</th>\n",
       "      <th>True</th>\n",
       "    </tr>\n",
       "  </thead>\n",
       "  <tbody>\n",
       "    <tr>\n",
       "      <th>0</th>\n",
       "      <td>ABE</td>\n",
       "      <td>1401</td>\n",
       "      <td>826</td>\n",
       "    </tr>\n",
       "    <tr>\n",
       "      <th>1</th>\n",
       "      <td>ABI</td>\n",
       "      <td>1545</td>\n",
       "      <td>686</td>\n",
       "    </tr>\n",
       "    <tr>\n",
       "      <th>2</th>\n",
       "      <td>ABQ</td>\n",
       "      <td>11953</td>\n",
       "      <td>6965</td>\n",
       "    </tr>\n",
       "    <tr>\n",
       "      <th>3</th>\n",
       "      <td>ABR</td>\n",
       "      <td>417</td>\n",
       "      <td>246</td>\n",
       "    </tr>\n",
       "    <tr>\n",
       "      <th>4</th>\n",
       "      <td>ABY</td>\n",
       "      <td>557</td>\n",
       "      <td>309</td>\n",
       "    </tr>\n",
       "    <tr>\n",
       "      <th>...</th>\n",
       "      <td>...</td>\n",
       "      <td>...</td>\n",
       "      <td>...</td>\n",
       "    </tr>\n",
       "    <tr>\n",
       "      <th>317</th>\n",
       "      <td>WRG</td>\n",
       "      <td>413</td>\n",
       "      <td>236</td>\n",
       "    </tr>\n",
       "    <tr>\n",
       "      <th>318</th>\n",
       "      <td>WYS</td>\n",
       "      <td>150</td>\n",
       "      <td>58</td>\n",
       "    </tr>\n",
       "    <tr>\n",
       "      <th>319</th>\n",
       "      <td>XNA</td>\n",
       "      <td>5236</td>\n",
       "      <td>3727</td>\n",
       "    </tr>\n",
       "    <tr>\n",
       "      <th>320</th>\n",
       "      <td>YAK</td>\n",
       "      <td>491</td>\n",
       "      <td>159</td>\n",
       "    </tr>\n",
       "    <tr>\n",
       "      <th>321</th>\n",
       "      <td>YUM</td>\n",
       "      <td>1227</td>\n",
       "      <td>627</td>\n",
       "    </tr>\n",
       "  </tbody>\n",
       "</table>\n",
       "<p>322 rows × 3 columns</p>\n",
       "</div>"
      ],
      "text/plain": [
       "delayed origin_airport  False  True\n",
       "0                  ABE   1401   826\n",
       "1                  ABI   1545   686\n",
       "2                  ABQ  11953  6965\n",
       "3                  ABR    417   246\n",
       "4                  ABY    557   309\n",
       "..                 ...    ...   ...\n",
       "317                WRG    413   236\n",
       "318                WYS    150    58\n",
       "319                XNA   5236  3727\n",
       "320                YAK    491   159\n",
       "321                YUM   1227   627\n",
       "\n",
       "[322 rows x 3 columns]"
      ]
     },
     "execution_count": 32,
     "metadata": {},
     "output_type": "execute_result"
    }
   ],
   "source": [
    "actual_cnts = prp_df.groupby(['origin_airport','delayed']).size().unstack().reset_index()\n",
    "actual_cnts"
   ]
  },
  {
   "cell_type": "markdown",
   "metadata": {
    "id": "o-CWiSPczG5l"
   },
   "source": [
    "<div class=\"alert alert-block alert-info\">\n",
    "<b>Couple of new Pandas functions above: What do those commands do?</b>  <br>\n",
    " * unstack(): Creates a new dataframe that represents a pivot table from the columns specified. If multiple columns are used in creating the pivot table, then you will get a multi-level index in the dataframe.<br>\n",
    " * reset_index(): Generally treset_index() will allow you to reset the index of a dataframe to a specific column.  In this case, since unstack() returned a multi-level index, reset_index() flattend the dataframe out to have a single index. \n",
    "</div>"
   ]
  },
  {
   "cell_type": "code",
   "execution_count": null,
   "metadata": {
    "id": "gDJ8Tw60zG5l"
   },
   "outputs": [],
   "source": [
    "# replacing column names with nicer headers\n",
    "cols = ['airport','delay_no','delay_yes']\n",
    "actual_cnts.columns = cols"
   ]
  },
  {
   "cell_type": "code",
   "execution_count": null,
   "metadata": {
    "id": "50Ec_kCCzG5l",
    "outputId": "115e0a3f-5a5d-4f4a-9acb-6293e838b727"
   },
   "outputs": [
    {
     "data": {
      "text/html": [
       "<div>\n",
       "<style scoped>\n",
       "    .dataframe tbody tr th:only-of-type {\n",
       "        vertical-align: middle;\n",
       "    }\n",
       "\n",
       "    .dataframe tbody tr th {\n",
       "        vertical-align: top;\n",
       "    }\n",
       "\n",
       "    .dataframe thead th {\n",
       "        text-align: right;\n",
       "    }\n",
       "</style>\n",
       "<table border=\"1\" class=\"dataframe\">\n",
       "  <thead>\n",
       "    <tr style=\"text-align: right;\">\n",
       "      <th></th>\n",
       "      <th>airport</th>\n",
       "      <th>delay_no</th>\n",
       "      <th>delay_yes</th>\n",
       "    </tr>\n",
       "  </thead>\n",
       "  <tbody>\n",
       "    <tr>\n",
       "      <th>0</th>\n",
       "      <td>ABE</td>\n",
       "      <td>1401</td>\n",
       "      <td>826</td>\n",
       "    </tr>\n",
       "    <tr>\n",
       "      <th>1</th>\n",
       "      <td>ABI</td>\n",
       "      <td>1545</td>\n",
       "      <td>686</td>\n",
       "    </tr>\n",
       "    <tr>\n",
       "      <th>2</th>\n",
       "      <td>ABQ</td>\n",
       "      <td>11953</td>\n",
       "      <td>6965</td>\n",
       "    </tr>\n",
       "    <tr>\n",
       "      <th>3</th>\n",
       "      <td>ABR</td>\n",
       "      <td>417</td>\n",
       "      <td>246</td>\n",
       "    </tr>\n",
       "    <tr>\n",
       "      <th>4</th>\n",
       "      <td>ABY</td>\n",
       "      <td>557</td>\n",
       "      <td>309</td>\n",
       "    </tr>\n",
       "    <tr>\n",
       "      <th>5</th>\n",
       "      <td>ACK</td>\n",
       "      <td>323</td>\n",
       "      <td>162</td>\n",
       "    </tr>\n",
       "    <tr>\n",
       "      <th>6</th>\n",
       "      <td>ACT</td>\n",
       "      <td>1072</td>\n",
       "      <td>466</td>\n",
       "    </tr>\n",
       "    <tr>\n",
       "      <th>7</th>\n",
       "      <td>ACV</td>\n",
       "      <td>819</td>\n",
       "      <td>449</td>\n",
       "    </tr>\n",
       "    <tr>\n",
       "      <th>8</th>\n",
       "      <td>ACY</td>\n",
       "      <td>2094</td>\n",
       "      <td>1433</td>\n",
       "    </tr>\n",
       "    <tr>\n",
       "      <th>9</th>\n",
       "      <td>ADK</td>\n",
       "      <td>32</td>\n",
       "      <td>56</td>\n",
       "    </tr>\n",
       "  </tbody>\n",
       "</table>\n",
       "</div>"
      ],
      "text/plain": [
       "  airport  delay_no  delay_yes\n",
       "0     ABE      1401        826\n",
       "1     ABI      1545        686\n",
       "2     ABQ     11953       6965\n",
       "3     ABR       417        246\n",
       "4     ABY       557        309\n",
       "5     ACK       323        162\n",
       "6     ACT      1072        466\n",
       "7     ACV       819        449\n",
       "8     ACY      2094       1433\n",
       "9     ADK        32         56"
      ]
     },
     "execution_count": 34,
     "metadata": {},
     "output_type": "execute_result"
    }
   ],
   "source": [
    "actual_cnts.head(10)"
   ]
  },
  {
   "cell_type": "markdown",
   "metadata": {
    "id": "miTYkxq7zG5m"
   },
   "source": [
    "Since we are after the proportion of flights delayed that originated at each airport, I need to know the number of flights that originated at each airport."
   ]
  },
  {
   "cell_type": "code",
   "execution_count": null,
   "metadata": {
    "id": "MjJC9eJ8zG5m",
    "outputId": "dca550b8-4509-43c5-92ca-b3061950bd5b"
   },
   "outputs": [
    {
     "data": {
      "text/html": [
       "<div>\n",
       "<style scoped>\n",
       "    .dataframe tbody tr th:only-of-type {\n",
       "        vertical-align: middle;\n",
       "    }\n",
       "\n",
       "    .dataframe tbody tr th {\n",
       "        vertical-align: top;\n",
       "    }\n",
       "\n",
       "    .dataframe thead th {\n",
       "        text-align: right;\n",
       "    }\n",
       "</style>\n",
       "<table border=\"1\" class=\"dataframe\">\n",
       "  <thead>\n",
       "    <tr style=\"text-align: right;\">\n",
       "      <th></th>\n",
       "      <th>airport</th>\n",
       "      <th>delay_no</th>\n",
       "      <th>delay_yes</th>\n",
       "      <th>total_flights</th>\n",
       "    </tr>\n",
       "  </thead>\n",
       "  <tbody>\n",
       "    <tr>\n",
       "      <th>0</th>\n",
       "      <td>ABE</td>\n",
       "      <td>1401</td>\n",
       "      <td>826</td>\n",
       "      <td>2227</td>\n",
       "    </tr>\n",
       "    <tr>\n",
       "      <th>1</th>\n",
       "      <td>ABI</td>\n",
       "      <td>1545</td>\n",
       "      <td>686</td>\n",
       "      <td>2231</td>\n",
       "    </tr>\n",
       "    <tr>\n",
       "      <th>2</th>\n",
       "      <td>ABQ</td>\n",
       "      <td>11953</td>\n",
       "      <td>6965</td>\n",
       "      <td>18918</td>\n",
       "    </tr>\n",
       "    <tr>\n",
       "      <th>3</th>\n",
       "      <td>ABR</td>\n",
       "      <td>417</td>\n",
       "      <td>246</td>\n",
       "      <td>663</td>\n",
       "    </tr>\n",
       "    <tr>\n",
       "      <th>4</th>\n",
       "      <td>ABY</td>\n",
       "      <td>557</td>\n",
       "      <td>309</td>\n",
       "      <td>866</td>\n",
       "    </tr>\n",
       "    <tr>\n",
       "      <th>5</th>\n",
       "      <td>ACK</td>\n",
       "      <td>323</td>\n",
       "      <td>162</td>\n",
       "      <td>485</td>\n",
       "    </tr>\n",
       "    <tr>\n",
       "      <th>6</th>\n",
       "      <td>ACT</td>\n",
       "      <td>1072</td>\n",
       "      <td>466</td>\n",
       "      <td>1538</td>\n",
       "    </tr>\n",
       "    <tr>\n",
       "      <th>7</th>\n",
       "      <td>ACV</td>\n",
       "      <td>819</td>\n",
       "      <td>449</td>\n",
       "      <td>1268</td>\n",
       "    </tr>\n",
       "    <tr>\n",
       "      <th>8</th>\n",
       "      <td>ACY</td>\n",
       "      <td>2094</td>\n",
       "      <td>1433</td>\n",
       "      <td>3527</td>\n",
       "    </tr>\n",
       "    <tr>\n",
       "      <th>9</th>\n",
       "      <td>ADK</td>\n",
       "      <td>32</td>\n",
       "      <td>56</td>\n",
       "      <td>88</td>\n",
       "    </tr>\n",
       "  </tbody>\n",
       "</table>\n",
       "</div>"
      ],
      "text/plain": [
       "  airport  delay_no  delay_yes  total_flights\n",
       "0     ABE      1401        826           2227\n",
       "1     ABI      1545        686           2231\n",
       "2     ABQ     11953       6965          18918\n",
       "3     ABR       417        246            663\n",
       "4     ABY       557        309            866\n",
       "5     ACK       323        162            485\n",
       "6     ACT      1072        466           1538\n",
       "7     ACV       819        449           1268\n",
       "8     ACY      2094       1433           3527\n",
       "9     ADK        32         56             88"
      ]
     },
     "execution_count": 35,
     "metadata": {},
     "output_type": "execute_result"
    }
   ],
   "source": [
    "actual_cnts['total_flights'] = actual_cnts.delay_no + actual_cnts.delay_yes\n",
    "\n",
    "actual_cnts.head(10)"
   ]
  },
  {
   "cell_type": "markdown",
   "metadata": {
    "id": "mCS5yTBMzG5m"
   },
   "source": [
    "We are after the proportion of flights delayed at each airport, which would be the number_delayed divided by the total_number of flights at each airport. I can add another column that has this value."
   ]
  },
  {
   "cell_type": "code",
   "execution_count": null,
   "metadata": {
    "id": "OqDSDDnTzG5m",
    "outputId": "43c707b1-3a48-4fa9-c981-3c4480d39ef6"
   },
   "outputs": [
    {
     "data": {
      "text/html": [
       "<div>\n",
       "<style scoped>\n",
       "    .dataframe tbody tr th:only-of-type {\n",
       "        vertical-align: middle;\n",
       "    }\n",
       "\n",
       "    .dataframe tbody tr th {\n",
       "        vertical-align: top;\n",
       "    }\n",
       "\n",
       "    .dataframe thead th {\n",
       "        text-align: right;\n",
       "    }\n",
       "</style>\n",
       "<table border=\"1\" class=\"dataframe\">\n",
       "  <thead>\n",
       "    <tr style=\"text-align: right;\">\n",
       "      <th></th>\n",
       "      <th>airport</th>\n",
       "      <th>delay_no</th>\n",
       "      <th>delay_yes</th>\n",
       "      <th>total_flights</th>\n",
       "      <th>proportion_delayed</th>\n",
       "    </tr>\n",
       "  </thead>\n",
       "  <tbody>\n",
       "    <tr>\n",
       "      <th>0</th>\n",
       "      <td>ABE</td>\n",
       "      <td>1401</td>\n",
       "      <td>826</td>\n",
       "      <td>2227</td>\n",
       "      <td>0.370903</td>\n",
       "    </tr>\n",
       "    <tr>\n",
       "      <th>1</th>\n",
       "      <td>ABI</td>\n",
       "      <td>1545</td>\n",
       "      <td>686</td>\n",
       "      <td>2231</td>\n",
       "      <td>0.307485</td>\n",
       "    </tr>\n",
       "    <tr>\n",
       "      <th>2</th>\n",
       "      <td>ABQ</td>\n",
       "      <td>11953</td>\n",
       "      <td>6965</td>\n",
       "      <td>18918</td>\n",
       "      <td>0.368168</td>\n",
       "    </tr>\n",
       "    <tr>\n",
       "      <th>3</th>\n",
       "      <td>ABR</td>\n",
       "      <td>417</td>\n",
       "      <td>246</td>\n",
       "      <td>663</td>\n",
       "      <td>0.371041</td>\n",
       "    </tr>\n",
       "    <tr>\n",
       "      <th>4</th>\n",
       "      <td>ABY</td>\n",
       "      <td>557</td>\n",
       "      <td>309</td>\n",
       "      <td>866</td>\n",
       "      <td>0.356813</td>\n",
       "    </tr>\n",
       "    <tr>\n",
       "      <th>5</th>\n",
       "      <td>ACK</td>\n",
       "      <td>323</td>\n",
       "      <td>162</td>\n",
       "      <td>485</td>\n",
       "      <td>0.334021</td>\n",
       "    </tr>\n",
       "    <tr>\n",
       "      <th>6</th>\n",
       "      <td>ACT</td>\n",
       "      <td>1072</td>\n",
       "      <td>466</td>\n",
       "      <td>1538</td>\n",
       "      <td>0.302991</td>\n",
       "    </tr>\n",
       "    <tr>\n",
       "      <th>7</th>\n",
       "      <td>ACV</td>\n",
       "      <td>819</td>\n",
       "      <td>449</td>\n",
       "      <td>1268</td>\n",
       "      <td>0.354101</td>\n",
       "    </tr>\n",
       "    <tr>\n",
       "      <th>8</th>\n",
       "      <td>ACY</td>\n",
       "      <td>2094</td>\n",
       "      <td>1433</td>\n",
       "      <td>3527</td>\n",
       "      <td>0.406294</td>\n",
       "    </tr>\n",
       "    <tr>\n",
       "      <th>9</th>\n",
       "      <td>ADK</td>\n",
       "      <td>32</td>\n",
       "      <td>56</td>\n",
       "      <td>88</td>\n",
       "      <td>0.636364</td>\n",
       "    </tr>\n",
       "  </tbody>\n",
       "</table>\n",
       "</div>"
      ],
      "text/plain": [
       "  airport  delay_no  delay_yes  total_flights  proportion_delayed\n",
       "0     ABE      1401        826           2227            0.370903\n",
       "1     ABI      1545        686           2231            0.307485\n",
       "2     ABQ     11953       6965          18918            0.368168\n",
       "3     ABR       417        246            663            0.371041\n",
       "4     ABY       557        309            866            0.356813\n",
       "5     ACK       323        162            485            0.334021\n",
       "6     ACT      1072        466           1538            0.302991\n",
       "7     ACV       819        449           1268            0.354101\n",
       "8     ACY      2094       1433           3527            0.406294\n",
       "9     ADK        32         56             88            0.636364"
      ]
     },
     "execution_count": 36,
     "metadata": {},
     "output_type": "execute_result"
    }
   ],
   "source": [
    "actual_cnts['proportion_delayed'] = actual_cnts.delay_yes/actual_cnts.total_flights\n",
    "\n",
    "actual_cnts.head(10)"
   ]
  },
  {
   "cell_type": "markdown",
   "metadata": {
    "id": "uMrmqMrYzG5n"
   },
   "source": [
    "Now to sort the df based on this column so I can easily see the least and the greatest proportions."
   ]
  },
  {
   "cell_type": "code",
   "execution_count": null,
   "metadata": {
    "id": "L1funwM5zG5n"
   },
   "outputs": [],
   "source": [
    "actual_cnts = actual_cnts.sort_values('proportion_delayed')"
   ]
  },
  {
   "cell_type": "code",
   "execution_count": null,
   "metadata": {
    "id": "joLP4g9NzG5n",
    "outputId": "6c068c70-5a5d-41b9-e4ee-0db113f758d3"
   },
   "outputs": [
    {
     "data": {
      "text/html": [
       "<div>\n",
       "<style scoped>\n",
       "    .dataframe tbody tr th:only-of-type {\n",
       "        vertical-align: middle;\n",
       "    }\n",
       "\n",
       "    .dataframe tbody tr th {\n",
       "        vertical-align: top;\n",
       "    }\n",
       "\n",
       "    .dataframe thead th {\n",
       "        text-align: right;\n",
       "    }\n",
       "</style>\n",
       "<table border=\"1\" class=\"dataframe\">\n",
       "  <thead>\n",
       "    <tr style=\"text-align: right;\">\n",
       "      <th></th>\n",
       "      <th>airport</th>\n",
       "      <th>delay_no</th>\n",
       "      <th>delay_yes</th>\n",
       "      <th>total_flights</th>\n",
       "      <th>proportion_delayed</th>\n",
       "    </tr>\n",
       "  </thead>\n",
       "  <tbody>\n",
       "    <tr>\n",
       "      <th>70</th>\n",
       "      <td>CNY</td>\n",
       "      <td>197</td>\n",
       "      <td>8</td>\n",
       "      <td>205</td>\n",
       "      <td>0.039024</td>\n",
       "    </tr>\n",
       "    <tr>\n",
       "      <th>314</th>\n",
       "      <td>VEL</td>\n",
       "      <td>177</td>\n",
       "      <td>23</td>\n",
       "      <td>200</td>\n",
       "      <td>0.115000</td>\n",
       "    </tr>\n",
       "    <tr>\n",
       "      <th>46</th>\n",
       "      <td>BTM</td>\n",
       "      <td>548</td>\n",
       "      <td>99</td>\n",
       "      <td>647</td>\n",
       "      <td>0.153014</td>\n",
       "    </tr>\n",
       "    <tr>\n",
       "      <th>189</th>\n",
       "      <td>LWS</td>\n",
       "      <td>491</td>\n",
       "      <td>97</td>\n",
       "      <td>588</td>\n",
       "      <td>0.164966</td>\n",
       "    </tr>\n",
       "    <tr>\n",
       "      <th>88</th>\n",
       "      <td>DIK</td>\n",
       "      <td>727</td>\n",
       "      <td>191</td>\n",
       "      <td>918</td>\n",
       "      <td>0.208061</td>\n",
       "    </tr>\n",
       "  </tbody>\n",
       "</table>\n",
       "</div>"
      ],
      "text/plain": [
       "    airport  delay_no  delay_yes  total_flights  proportion_delayed\n",
       "70      CNY       197          8            205            0.039024\n",
       "314     VEL       177         23            200            0.115000\n",
       "46      BTM       548         99            647            0.153014\n",
       "189     LWS       491         97            588            0.164966\n",
       "88      DIK       727        191            918            0.208061"
      ]
     },
     "execution_count": 38,
     "metadata": {},
     "output_type": "execute_result"
    }
   ],
   "source": [
    "actual_cnts.head(5)"
   ]
  },
  {
   "cell_type": "code",
   "execution_count": null,
   "metadata": {
    "id": "AL69Igj_zG5o",
    "outputId": "6c265893-5530-4106-e10e-0ef23b056a99"
   },
   "outputs": [
    {
     "data": {
      "text/html": [
       "<div>\n",
       "<style scoped>\n",
       "    .dataframe tbody tr th:only-of-type {\n",
       "        vertical-align: middle;\n",
       "    }\n",
       "\n",
       "    .dataframe tbody tr th {\n",
       "        vertical-align: top;\n",
       "    }\n",
       "\n",
       "    .dataframe thead th {\n",
       "        text-align: right;\n",
       "    }\n",
       "</style>\n",
       "<table border=\"1\" class=\"dataframe\">\n",
       "  <thead>\n",
       "    <tr style=\"text-align: right;\">\n",
       "      <th></th>\n",
       "      <th>airport</th>\n",
       "      <th>delay_no</th>\n",
       "      <th>delay_yes</th>\n",
       "      <th>total_flights</th>\n",
       "      <th>proportion_delayed</th>\n",
       "    </tr>\n",
       "  </thead>\n",
       "  <tbody>\n",
       "    <tr>\n",
       "      <th>13</th>\n",
       "      <td>AKN</td>\n",
       "      <td>31</td>\n",
       "      <td>32</td>\n",
       "      <td>63</td>\n",
       "      <td>0.507937</td>\n",
       "    </tr>\n",
       "    <tr>\n",
       "      <th>154</th>\n",
       "      <td>ILG</td>\n",
       "      <td>42</td>\n",
       "      <td>53</td>\n",
       "      <td>95</td>\n",
       "      <td>0.557895</td>\n",
       "    </tr>\n",
       "    <tr>\n",
       "      <th>246</th>\n",
       "      <td>PPG</td>\n",
       "      <td>39</td>\n",
       "      <td>67</td>\n",
       "      <td>106</td>\n",
       "      <td>0.632075</td>\n",
       "    </tr>\n",
       "    <tr>\n",
       "      <th>9</th>\n",
       "      <td>ADK</td>\n",
       "      <td>32</td>\n",
       "      <td>56</td>\n",
       "      <td>88</td>\n",
       "      <td>0.636364</td>\n",
       "    </tr>\n",
       "    <tr>\n",
       "      <th>133</th>\n",
       "      <td>GST</td>\n",
       "      <td>25</td>\n",
       "      <td>51</td>\n",
       "      <td>76</td>\n",
       "      <td>0.671053</td>\n",
       "    </tr>\n",
       "  </tbody>\n",
       "</table>\n",
       "</div>"
      ],
      "text/plain": [
       "    airport  delay_no  delay_yes  total_flights  proportion_delayed\n",
       "13      AKN        31         32             63            0.507937\n",
       "154     ILG        42         53             95            0.557895\n",
       "246     PPG        39         67            106            0.632075\n",
       "9       ADK        32         56             88            0.636364\n",
       "133     GST        25         51             76            0.671053"
      ]
     },
     "execution_count": 39,
     "metadata": {},
     "output_type": "execute_result"
    }
   ],
   "source": [
    "actual_cnts.tail(5)"
   ]
  },
  {
   "cell_type": "markdown",
   "metadata": {
    "id": "VdodS6t7zG5o"
   },
   "source": [
    "Summing this all up, the originating airport with the smallest proportion of delayed flights is CYN and the originating airport with the largest proportion is GST."
   ]
  },
  {
   "cell_type": "markdown",
   "metadata": {
    "id": "z7Yqb3qVzG5o"
   },
   "source": [
    "#### Comparing Descriptive Statistics for CNY and GST\n",
    "What is the mean and std of late arrival times for both of these airports?\n",
    "\n",
    "Let's look at the statistical information."
   ]
  },
  {
   "cell_type": "code",
   "execution_count": null,
   "metadata": {
    "id": "4_oyry9SzG5o",
    "outputId": "9b621666-a81a-4bb2-85a1-bd8c307c1f24"
   },
   "outputs": [
    {
     "data": {
      "text/html": [
       "<div>\n",
       "<style scoped>\n",
       "    .dataframe tbody tr th:only-of-type {\n",
       "        vertical-align: middle;\n",
       "    }\n",
       "\n",
       "    .dataframe tbody tr th {\n",
       "        vertical-align: top;\n",
       "    }\n",
       "\n",
       "    .dataframe thead th {\n",
       "        text-align: right;\n",
       "    }\n",
       "</style>\n",
       "<table border=\"1\" class=\"dataframe\">\n",
       "  <thead>\n",
       "    <tr style=\"text-align: right;\">\n",
       "      <th></th>\n",
       "      <th>count</th>\n",
       "      <th>mean</th>\n",
       "      <th>std</th>\n",
       "      <th>min</th>\n",
       "      <th>25%</th>\n",
       "      <th>50%</th>\n",
       "      <th>75%</th>\n",
       "      <th>max</th>\n",
       "    </tr>\n",
       "    <tr>\n",
       "      <th>origin_airport</th>\n",
       "      <th></th>\n",
       "      <th></th>\n",
       "      <th></th>\n",
       "      <th></th>\n",
       "      <th></th>\n",
       "      <th></th>\n",
       "      <th></th>\n",
       "      <th></th>\n",
       "    </tr>\n",
       "  </thead>\n",
       "  <tbody>\n",
       "    <tr>\n",
       "      <th>ABE</th>\n",
       "      <td>826.0</td>\n",
       "      <td>36.483051</td>\n",
       "      <td>63.478274</td>\n",
       "      <td>1.0</td>\n",
       "      <td>5.00</td>\n",
       "      <td>14.0</td>\n",
       "      <td>35.0</td>\n",
       "      <td>612.0</td>\n",
       "    </tr>\n",
       "    <tr>\n",
       "      <th>ABI</th>\n",
       "      <td>686.0</td>\n",
       "      <td>39.295918</td>\n",
       "      <td>63.122970</td>\n",
       "      <td>1.0</td>\n",
       "      <td>6.00</td>\n",
       "      <td>15.0</td>\n",
       "      <td>46.0</td>\n",
       "      <td>583.0</td>\n",
       "    </tr>\n",
       "    <tr>\n",
       "      <th>ABQ</th>\n",
       "      <td>6965.0</td>\n",
       "      <td>31.850826</td>\n",
       "      <td>60.603939</td>\n",
       "      <td>1.0</td>\n",
       "      <td>6.00</td>\n",
       "      <td>14.0</td>\n",
       "      <td>35.0</td>\n",
       "      <td>1636.0</td>\n",
       "    </tr>\n",
       "    <tr>\n",
       "      <th>ABR</th>\n",
       "      <td>246.0</td>\n",
       "      <td>42.211382</td>\n",
       "      <td>112.170443</td>\n",
       "      <td>1.0</td>\n",
       "      <td>6.00</td>\n",
       "      <td>13.5</td>\n",
       "      <td>29.0</td>\n",
       "      <td>916.0</td>\n",
       "    </tr>\n",
       "    <tr>\n",
       "      <th>ABY</th>\n",
       "      <td>309.0</td>\n",
       "      <td>37.530744</td>\n",
       "      <td>58.046303</td>\n",
       "      <td>1.0</td>\n",
       "      <td>5.00</td>\n",
       "      <td>15.0</td>\n",
       "      <td>46.0</td>\n",
       "      <td>454.0</td>\n",
       "    </tr>\n",
       "    <tr>\n",
       "      <th>...</th>\n",
       "      <td>...</td>\n",
       "      <td>...</td>\n",
       "      <td>...</td>\n",
       "      <td>...</td>\n",
       "      <td>...</td>\n",
       "      <td>...</td>\n",
       "      <td>...</td>\n",
       "      <td>...</td>\n",
       "    </tr>\n",
       "    <tr>\n",
       "      <th>WRG</th>\n",
       "      <td>236.0</td>\n",
       "      <td>31.881356</td>\n",
       "      <td>45.870710</td>\n",
       "      <td>1.0</td>\n",
       "      <td>5.00</td>\n",
       "      <td>14.0</td>\n",
       "      <td>35.0</td>\n",
       "      <td>259.0</td>\n",
       "    </tr>\n",
       "    <tr>\n",
       "      <th>WYS</th>\n",
       "      <td>58.0</td>\n",
       "      <td>18.034483</td>\n",
       "      <td>37.468099</td>\n",
       "      <td>1.0</td>\n",
       "      <td>2.25</td>\n",
       "      <td>5.0</td>\n",
       "      <td>14.5</td>\n",
       "      <td>194.0</td>\n",
       "    </tr>\n",
       "    <tr>\n",
       "      <th>XNA</th>\n",
       "      <td>3727.0</td>\n",
       "      <td>42.884626</td>\n",
       "      <td>69.859268</td>\n",
       "      <td>1.0</td>\n",
       "      <td>6.00</td>\n",
       "      <td>17.0</td>\n",
       "      <td>49.0</td>\n",
       "      <td>1017.0</td>\n",
       "    </tr>\n",
       "    <tr>\n",
       "      <th>YAK</th>\n",
       "      <td>159.0</td>\n",
       "      <td>25.930818</td>\n",
       "      <td>37.968361</td>\n",
       "      <td>1.0</td>\n",
       "      <td>5.00</td>\n",
       "      <td>13.0</td>\n",
       "      <td>31.0</td>\n",
       "      <td>284.0</td>\n",
       "    </tr>\n",
       "    <tr>\n",
       "      <th>YUM</th>\n",
       "      <td>627.0</td>\n",
       "      <td>24.473684</td>\n",
       "      <td>49.477628</td>\n",
       "      <td>1.0</td>\n",
       "      <td>4.00</td>\n",
       "      <td>8.0</td>\n",
       "      <td>19.0</td>\n",
       "      <td>458.0</td>\n",
       "    </tr>\n",
       "  </tbody>\n",
       "</table>\n",
       "<p>322 rows × 8 columns</p>\n",
       "</div>"
      ],
      "text/plain": [
       "                 count       mean         std  min   25%   50%   75%     max\n",
       "origin_airport                                                              \n",
       "ABE              826.0  36.483051   63.478274  1.0  5.00  14.0  35.0   612.0\n",
       "ABI              686.0  39.295918   63.122970  1.0  6.00  15.0  46.0   583.0\n",
       "ABQ             6965.0  31.850826   60.603939  1.0  6.00  14.0  35.0  1636.0\n",
       "ABR              246.0  42.211382  112.170443  1.0  6.00  13.5  29.0   916.0\n",
       "ABY              309.0  37.530744   58.046303  1.0  5.00  15.0  46.0   454.0\n",
       "...                ...        ...         ...  ...   ...   ...   ...     ...\n",
       "WRG              236.0  31.881356   45.870710  1.0  5.00  14.0  35.0   259.0\n",
       "WYS               58.0  18.034483   37.468099  1.0  2.25   5.0  14.5   194.0\n",
       "XNA             3727.0  42.884626   69.859268  1.0  6.00  17.0  49.0  1017.0\n",
       "YAK              159.0  25.930818   37.968361  1.0  5.00  13.0  31.0   284.0\n",
       "YUM              627.0  24.473684   49.477628  1.0  4.00   8.0  19.0   458.0\n",
       "\n",
       "[322 rows x 8 columns]"
      ]
     },
     "execution_count": 40,
     "metadata": {},
     "output_type": "execute_result"
    }
   ],
   "source": [
    "delay_stat = prp_df[(prp_df.arrival_delay > 0)].groupby('origin_airport').arrival_delay.describe()\n",
    "delay_stat"
   ]
  },
  {
   "cell_type": "markdown",
   "metadata": {
    "id": "MxOYGgM9zG5p"
   },
   "source": [
    "<div class=\"alert alert-block alert-info\">\n",
    "<b>Stastical Summary: Pandas function describe()</b>  <br>\n",
    "Generates the descriptive statistics for a specified column. Descriptive statistics include those that summarize the central tendency, dispersion and shape of a dataset’s distribution, excluding NaN values.\n",
    "</div>\n",
    "\n",
    "Since we wrote the descriptive stats to a variable, we can query out those values for the two airports we are interested in."
   ]
  },
  {
   "cell_type": "code",
   "execution_count": null,
   "metadata": {
    "id": "gJxGQL2dzG5p",
    "outputId": "72270e8d-4bb3-446a-d74e-d8b1e28e498b"
   },
   "outputs": [
    {
     "data": {
      "text/plain": [
       "count     8.000000\n",
       "mean     22.750000\n",
       "std      22.429254\n",
       "min       1.000000\n",
       "25%       4.250000\n",
       "50%      17.500000\n",
       "75%      36.500000\n",
       "max      63.000000\n",
       "Name: CNY, dtype: float64"
      ]
     },
     "execution_count": 41,
     "metadata": {},
     "output_type": "execute_result"
    }
   ],
   "source": [
    "delay_stat.loc['CNY']"
   ]
  },
  {
   "cell_type": "code",
   "execution_count": null,
   "metadata": {
    "id": "u-Q2KtTCzG5p",
    "outputId": "1aa754c5-afeb-45b4-b752-48a977f250ff"
   },
   "outputs": [
    {
     "data": {
      "text/plain": [
       "count     51.000000\n",
       "mean      36.215686\n",
       "std       39.086219\n",
       "min        1.000000\n",
       "25%       10.500000\n",
       "50%       24.000000\n",
       "75%       47.500000\n",
       "max      179.000000\n",
       "Name: GST, dtype: float64"
      ]
     },
     "execution_count": 42,
     "metadata": {},
     "output_type": "execute_result"
    }
   ],
   "source": [
    "delay_stat.loc['GST']"
   ]
  },
  {
   "cell_type": "markdown",
   "metadata": {
    "id": "Kw9iPuYgzG5q"
   },
   "source": [
    "Based on the mean and std information above, airport CNY has an avg delay of about 23 minutes with a std of 22 minutes.  Whereas airport GST has a larger avg delay (roughly 36 minutes) and a larger std. This tells me at CNY the variation in the delay times is tighter and on avg lower than those at airport GST."
   ]
  },
  {
   "cell_type": "markdown",
   "metadata": {
    "id": "MXZmpiZAzG5q"
   },
   "source": [
    "###Use these two airports and compare their histograms of arrival delays with each other. \n",
    "Let's do a visual comparison for the airports from our mean and std results, CNY and GST, by plotting the delay times for both airports."
   ]
  },
  {
   "cell_type": "code",
   "execution_count": null,
   "metadata": {
    "id": "-lXzQN7pzG5q"
   },
   "outputs": [],
   "source": [
    "# specify the bin for my histograms\n",
    "bin_values = np.arange(start=0, stop=300, step=10)"
   ]
  },
  {
   "cell_type": "code",
   "execution_count": null,
   "metadata": {
    "id": "ugSCQ2guzG5r",
    "outputId": "3fb869ec-bb3e-4cc9-a7d4-2fbedb68261c"
   },
   "outputs": [
    {
     "data": {
      "text/plain": [
       "<AxesSubplot:>"
      ]
     },
     "execution_count": 44,
     "metadata": {},
     "output_type": "execute_result"
    },
    {
     "data": {
      "image/png": "[encoded data removed]",
      "text/plain": [
       "<Figure size 1008x432 with 1 Axes>"
      ]
     },
     "metadata": {
      "needs_background": "light"
     },
     "output_type": "display_data"
    }
   ],
   "source": [
    "cny_delays = prp_df[(prp_df.origin_airport == 'CNY')]\n",
    "cny_delays.arrival_delay.hist(bins=bin_values, figsize=[14,6])"
   ]
  },
  {
   "cell_type": "code",
   "execution_count": null,
   "metadata": {
    "id": "fTzzQoTWzG5r",
    "outputId": "2272428f-48b9-41e6-a1b2-2846af833ccf"
   },
   "outputs": [
    {
     "data": {
      "text/plain": [
       "<AxesSubplot:>"
      ]
     },
     "execution_count": 45,
     "metadata": {},
     "output_type": "execute_result"
    },
    {
     "data": {
      "image/png": "[encoded data removed]",
      "text/plain": [
       "<Figure size 1008x432 with 1 Axes>"
      ]
     },
     "metadata": {
      "needs_background": "light"
     },
     "output_type": "display_data"
    }
   ],
   "source": [
    "gst_delays = prp_df[(prp_df.origin_airport == 'GST')]\n",
    "gst_delays.arrival_delay.hist(bins=bin_values, figsize=[14,6])"
   ]
  },
  {
   "cell_type": "markdown",
   "metadata": {
    "id": "-TyqtRFSzG5r"
   },
   "source": [
    "##**V. Conclusion**\n",
    "The histograms above support our conclusion for the comparison of the means and std. Airport CNY has a smaller spread in their delayed arrival at the destination ariport than GST does. However, the bulk of the delays for both airports are really small.<br>\n",
    "\n",
    "I really enjoyed all the data cleanup practice that this assignment called for. i learned two new commands in my data cleanup efforts: unstack() to create a new dataframe that represents a pivot table of specified columns and reset_index() in order to reset the index of a dataframe to a specific column.<br>\n",
    "\n",
    "Understanding the analysis required a working knowledge of the flight industry, such as determining that a normal distribution for delayed flights would not be normal."
   ]
  },
  {
   "cell_type": "markdown",
   "metadata": {
    "id": "ygsjdzaqiSgj"
   },
   "source": [
    "##**VI. References**\n",
    "\n",
    "MSDS 650 - Week 2 Content:<br>\n",
    "\n",
    "1.) Class datasets provided for this assignment: flights.csv, airlines.csv, airports.csv\n",
    "\n",
    "2.) From the Experts: Portion and Probability videos\n",
    "\n",
    "3.) Week 2 Assignment\n",
    "\n",
    "*   [Simple and Easy: Probabilities & Proportions](https://www.youtube.com/watch?v=7eNGVnd2FKM)\n",
    "*   [Probability of sample proportions example](https://www.khanacademy.org/math/ap-statistics/sampling-distribution-ap/sampling-distribution-proportion/v/probability-of-sample-proportions-example)\n",
    "<br>\n",
    "<br>\n",
    "\n",
    "**Practical Statistics for Data Scientists, 2nd Edition**<br>\n",
    "by Peter Bruce, Andrew Bruce, Peter Gedeck<br>\n",
    "Publisher: O'Reilly Media, Inc.<br>\n",
    "Release Date: May 2020<br>\n",
    "ISBN: 9781492072942<br><br>\n",
    "\n",
    "**Probability for Machine Learning**<br>\n",
    "by Jason Brownle<br>\n",
    "https://machinelearningmastery.com/probability-for-machine-learning/\n",
    "\n"
   ]
  },
  {
   "cell_type": "code",
   "execution_count": null,
   "metadata": {
    "id": "bWbuoryfjdHc"
   },
   "outputs": [],
   "source": []
  }
 ],
 "metadata": {
  "colab": {
   "collapsed_sections": [
    "3OupfjDkzG5I"
   ],
   "name": "SampleAssignment_Week1_Hays.ipynb",
   "provenance": []
  },
  "kernelspec": {
   "display_name": "Python 3 (ipykernel)",
   "language": "python",
   "name": "python3"
  },
  "language_info": {
   "codemirror_mode": {
    "name": "ipython",
    "version": 3
   },
   "file_extension": ".py",
   "mimetype": "text/x-python",
   "name": "python",
   "nbconvert_exporter": "python",
   "pygments_lexer": "ipython3",
   "version": "3.9.7"
  }
 },
 "nbformat": 4,
 "nbformat_minor": 1
}
